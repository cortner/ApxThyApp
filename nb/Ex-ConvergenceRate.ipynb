{
 "cells": [
  {
   "cell_type": "code",
   "execution_count": null,
   "id": "7cee7524",
   "metadata": {},
   "outputs": [],
   "source": [
    "using Plots"
   ]
  },
  {
   "cell_type": "markdown",
   "id": "b387f242",
   "metadata": {},
   "source": [
    "Analyze rate of approximation for \n",
    "$$\n",
    "f(x) = |\\sin(x)|^{3/2}\n",
    "$$"
   ]
  },
  {
   "cell_type": "code",
   "execution_count": null,
   "id": "ecc22f0e",
   "metadata": {},
   "outputs": [],
   "source": [
    "f(x) = abs(sin(x))^1.5\n",
    "\n",
    "plot(f, -pi, pi)"
   ]
  },
  {
   "cell_type": "markdown",
   "id": "03621b6d",
   "metadata": {},
   "source": [
    "Jackson Theorem: \n",
    "$$\n",
    "\\inf_{t_N} \\| f - t_N \\|_\\infty \\lesssim N^{-s} \\omega(N^{-1})\n",
    "$$"
   ]
  },
  {
   "cell_type": "markdown",
   "id": "7f2df0f0",
   "metadata": {},
   "source": [
    "Regularity of $f$: \n",
    "* piecewise smooth \n",
    "* but something happen where $x = 0, \\pi$, only care about 0\n",
    "* at $x = 0$, $f(x) \\sim |x|^{3/2}$\n",
    "* so $f \\in C^1$ and \n",
    "$$\n",
    "f' \\sim 3/2 |x|^{1/2} x / |x| = \\frac{3}{2} {\\rm sign}(x) |x|^{1/2}\n",
    "$$\n",
    "*  probably $\\omega(r) = Cr^{1/2}$"
   ]
  },
  {
   "cell_type": "markdown",
   "id": "3ed80d69",
   "metadata": {},
   "source": [
    "Base on ??? we think the rate will be \n",
    "$$\n",
    "\\| f - I_N f \\|_\\infty \\lesssim \\log(N) N^{-3/2}\n",
    "$$"
   ]
  },
  {
   "cell_type": "code",
   "execution_count": null,
   "id": "ef379a52",
   "metadata": {},
   "outputs": [],
   "source": [
    "using FFTW, LinearAlgebra, Plots, LaTeXStrings\n",
    "\n",
    "xgrid(N) = [ j * π / N  for j = 0:2N-1 ]\n",
    "kgrid(N) = [ 0:N; -N+1:-1 ]\n",
    "\n",
    "\"\"\"\n",
    "construct the coefficients of the trigonometric interpolant\n",
    "\"\"\"\n",
    "triginterp(f, N) = fft(f.(xgrid(N))) / (2*N)\n",
    "\n",
    "\"\"\"\n",
    "to evaluate a trigonometric polynomial just sum coefficients * basis\n",
    "we the take the real part because we assume the function we are \n",
    "approximating is real.\n",
    "\"\"\"\n",
    "evaltrig(x, F̂) = sum( real(F̂ₖ * exp(im * x * k))\n",
    "                      for (F̂ₖ, k) in zip(F̂, kgrid(length(F̂) ÷ 2)) )\n",
    "\n",
    "\"\"\"\n",
    "implementation of a basic error function: \n",
    "returns an approximation to the max-norm error\n",
    "of the trigonometric interpolant, by taking the \n",
    "maximum on `Nerr` equispaced sample points\n",
    "(kwarg)\n",
    "\"\"\"\n",
    "function triginterperror(f, N; Nerr = 1_362)\n",
    "    xerr = range(0, 2π, length=Nerr)    # compute error on this grid\n",
    "    F̂ = triginterp(f, N)                # trigonometric interpolant\n",
    "    return norm(f.(xerr) - evaltrig.(xerr, Ref(F̂)), Inf)  # max-error on xerr grid\n",
    "end;"
   ]
  },
  {
   "cell_type": "code",
   "execution_count": null,
   "id": "5b02d520",
   "metadata": {},
   "outputs": [],
   "source": [
    "let NN = (2).^(2:7), f = f \n",
    "    P = plot( xaxis  = (L\"N~{\\rm (degree)}\", ),\n",
    "              yaxis  = (:log, L\"\\Vert f - I_N f ~\\Vert_{\\infty}\"), \n",
    "              legend = :topright, \n",
    "              xscale = :log10, yscale = :log10, \n",
    "              size = (400, 250))\n",
    "    err = triginterperror.(f, NN)\n",
    "    plot!(P, NN, err, lw=2, m=:o, ms=3, label = L\"f(x) = |\\sin(x)|^{3/2}\")\n",
    "    nn = NN[4:end]\n",
    "    plot!(P, nn, nn.^(-3/2), lw=2, ls=:dash, c=:black, label = L\"N^{-3/2}\")\n",
    "end \n",
    "\n"
   ]
  }
 ],
 "metadata": {
  "kernelspec": {
   "display_name": "Julia 1.7.1",
   "language": "julia",
   "name": "julia-1.7"
  },
  "language_info": {
   "file_extension": ".jl",
   "mimetype": "application/julia",
   "name": "julia",
   "version": "1.7.1"
  }
 },
 "nbformat": 4,
 "nbformat_minor": 5
}
