{
 "cells": [
  {
   "cell_type": "markdown",
   "id": "cf1d769e",
   "metadata": {},
   "source": [
    "Recall that we can get Chebyshev polynomials by transforming the trigonometric polynomials, \n",
    "$$\n",
    "   T_k(\\cos \\theta) = \\cos k \\theta\n",
    "$$\n",
    "I.e. we have the transform $x = \\cos \\theta$, which extends to the complex plane via \n",
    "$$ \\begin{aligned}\n",
    "    z = \\frac{e^{i \\theta} + e^{- i \\theta}}{2},\n",
    "\\end{aligned}$$\n",
    "where $\\theta$ is now complex.\n",
    "\n",
    "Specifically we are interested in how a strip $\\Omega_\\alpha$ transforms. We will show this transform in two steps; first $u = e^{i \\theta}$ and then $z = (u+u^{-1})/2$."
   ]
  },
  {
   "cell_type": "code",
   "execution_count": null,
   "id": "c53d55b9",
   "metadata": {},
   "outputs": [],
   "source": [
    "using Plots"
   ]
  },
  {
   "cell_type": "code",
   "execution_count": null,
   "id": "668987ef",
   "metadata": {},
   "outputs": [],
   "source": [
    "tt = range(-pi, pi, length=100)\n",
    "aa = [0.1:0.1:0.5; -0.5:0.1:-0.1]\n",
    "plt = plot(tt, 0*tt, lw=2, c=2, size=(300,300), ylim = [-1.0, 1.0], title = \"θ\")\n",
    "for a in aa\n",
    "    plot!(tt, imag.(tt .+ im*a), lw=1, c=1, label = \"\")\n",
    "end\n",
    "plt"
   ]
  },
  {
   "cell_type": "code",
   "execution_count": null,
   "id": "947f0c6f",
   "metadata": {},
   "outputs": [],
   "source": [
    "plt = plot(cos.(tt), sin.(tt), lw=2, c=2, size = (300, 300), title = \"exp(i θ)\")\n",
    "for a in aa\n",
    "    u = exp.(im * (tt .+ im * a))\n",
    "    plot!(real.(u), imag.(u), lw=1, c=1, label = \"\")\n",
    "end\n",
    "plt"
   ]
  },
  {
   "cell_type": "code",
   "execution_count": null,
   "id": "4aec6798",
   "metadata": {},
   "outputs": [],
   "source": [
    "plt = plot(cos.(tt), 0*tt, lw=2, c=2, size = (300, 300), title = \"z = (u+u⁻¹)/2\", \n",
    "            ylim = [-0.8, 0.8], xlim = [-1.4, 1.4])\n",
    "for a in aa\n",
    "    u = exp.(im * (tt .+ im * a)); z = (u .+ 1 ./u)/2\n",
    "    plot!(real.(z), imag.(z), lw=1, c=1, label = \"\")\n",
    "end\n",
    "plt"
   ]
  },
  {
   "cell_type": "code",
   "execution_count": null,
   "id": "c9f9af45",
   "metadata": {},
   "outputs": [],
   "source": []
  }
 ],
 "metadata": {
  "@webio": {
   "lastCommId": null,
   "lastKernelId": null
  },
  "kernelspec": {
   "display_name": "Julia 1.7.1",
   "language": "julia",
   "name": "julia-1.7"
  },
  "language_info": {
   "file_extension": ".jl",
   "mimetype": "application/julia",
   "name": "julia",
   "version": "1.7.1"
  }
 },
 "nbformat": 4,
 "nbformat_minor": 5
}
