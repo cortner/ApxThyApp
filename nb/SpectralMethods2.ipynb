{
 "cells": [
  {
   "cell_type": "code",
   "execution_count": null,
   "id": "f4fee600",
   "metadata": {},
   "outputs": [],
   "source": [
    "\n",
    "kgrid2d(Nx, Ny=Nx) = (\n",
    "        [ kx for kx in kgrid(Nx), ky in 1:2Ny ], \n",
    "        [ ky for kx in 1:2Nx, ky in kgrid(Ny) ] )\n",
    "\n",
    "\n"
   ]
  },
  {
   "cell_type": "code",
   "execution_count": null,
   "id": "9b2cf762",
   "metadata": {},
   "outputs": [],
   "source": [
    "N = 64, f = (x, y) -> exp(-3(cos(x)sin(y))) - exp(-3(sin(x)cos(y)))\n",
    "F̂ = triginterp2d(f, N)\n",
    "Kx, Ky = kgrid2d(N)\n",
    "L̂ = (Kx.^2 + Ky.^2).^2\n",
    "L̂[1] = 1\n",
    "Û = F̂ ./ L̂\n",
    "Û[1] = 0\n",
    "U = real.(ifft(Û) * (2N)^2)\n",
    "x = xgrid(N)\n",
    "contourf(x, x, U, size = (300,300), colorbar=false)\n",
    "\n"
   ]
  },
  {
   "cell_type": "code",
   "execution_count": null,
   "id": "3e125b5c",
   "metadata": {},
   "outputs": [],
   "source": [
    "err(N) = trigerr(f, triginterp2d(f, N), M)\n",
    "plot(NN, err.(NN), lw=2, ms=4, m=:o, label = \"error\", \n",
    "     yscale = :log10, size = (300, 250), \n",
    "     xlabel = L\"N\", ylabel = L\"\\Vert f - I_N f \\Vert_\\infty\")\n",
    "α = asinh(1 / sqrt(10))\n",
    "plot!(NN[5:end], 2 * exp.( - α * NN[5:end]), c=:black, lw=2, ls=:dash, label = L\"\\exp(-\\alpha N)\")\n"
   ]
  }
 ],
 "metadata": {
  "kernelspec": {
   "display_name": "Julia 1.7.1",
   "language": "julia",
   "name": "julia-1.7"
  },
  "language_info": {
   "file_extension": ".jl",
   "mimetype": "application/julia",
   "name": "julia",
   "version": "1.7.1"
  }
 },
 "nbformat": 4,
 "nbformat_minor": 5
}
