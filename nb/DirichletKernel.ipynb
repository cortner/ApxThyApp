{
 "cells": [
  {
   "cell_type": "code",
   "execution_count": null,
   "id": "87ef828d",
   "metadata": {},
   "outputs": [],
   "source": [
    "using Plots"
   ]
  },
  {
   "cell_type": "code",
   "execution_count": null,
   "id": "4c392fd2",
   "metadata": {},
   "outputs": [],
   "source": [
    "dirker(x, N) = sin( (N+1/2) * x) / sin(x/2)\n",
    "xp = range(-pi+0.00123, pi, length=400)\n",
    "NN = [2, 4, 6, 8]\n",
    "P = plot()\n",
    "for N in NN \n",
    "    plot!(xp, dirker.(xp, N), label = \"$N\", lw = 2)\n",
    "end\n",
    "P   "
   ]
  },
  {
   "cell_type": "code",
   "execution_count": null,
   "id": "58c4b0a8",
   "metadata": {},
   "outputs": [],
   "source": [
    "function L1nrm(N)\n",
    "   xs = range(-pi+0.0000123, pi, length=10_000)\n",
    "   return sum( abs.(dirker.(xs, N)) ) / 10_000\n",
    "end"
   ]
  },
  {
   "cell_type": "code",
   "execution_count": null,
   "id": "a5826fa8",
   "metadata": {},
   "outputs": [],
   "source": [
    "NN = (2).^(2:10)\n",
    "plot(NN, L1nrm.(NN), xscale = :log10)\n",
    "plot!(NN, 0.33 * log.(NN))\n",
    "# L1(N) ∝ c log(N)"
   ]
  },
  {
   "cell_type": "code",
   "execution_count": null,
   "id": "e644eb8a",
   "metadata": {},
   "outputs": [],
   "source": []
  }
 ],
 "metadata": {
  "kernelspec": {
   "display_name": "Julia 1.7.1",
   "language": "julia",
   "name": "julia-1.7"
  },
  "language_info": {
   "file_extension": ".jl",
   "mimetype": "application/julia",
   "name": "julia",
   "version": "1.7.1"
  }
 },
 "nbformat": 4,
 "nbformat_minor": 5
}
