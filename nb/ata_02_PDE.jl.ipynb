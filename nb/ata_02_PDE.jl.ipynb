{
 "cells": [
  {
   "cell_type": "code",
   "execution_count": null,
   "id": "9cb323e7",
   "metadata": {},
   "outputs": [],
   "source": [
    "include(\"tools.jl\");"
   ]
  },
  {
   "cell_type": "markdown",
   "id": "30f99c9e",
   "metadata": {},
   "source": [
    "## The Fast Fourier Transform \n",
    "\n",
    "### The Discrete Fourier Transform\n",
    "\n",
    "Recall from §1 that the trigonometric interpolant $I_N f$ of a function $f$ is given by\n",
    "$$\n",
    "\tI_N f(x) = \\sum_{k = -N+1}^{N-1} \\hat{F}_k e^{i k x} + \\hat{F}_N \\cos(N x)\n",
    "$$\n",
    "and the coefficients are determined by the linear system \n",
    "$$\n",
    "\t\\sum_{k = -N+1}^N \\hat{F}_k e^{i k x_j} = F_j, \\qquad j = 0, \\dots, 2N-1.\n",
    "$$\n",
    "where $F_j = f(x_j)$ and $x_j = j \\pi / N$. We have moreover shown numerically and proved this in A1 that the system matrix is orthogonal (up to rescaling), i.e., if \n",
    "$$\n",
    "\tA = \\big( e^{i k x_j} \\big)_{k,j}\n",
    "$$\n",
    "then \n",
    "$$\n",
    "\tA A^H = 2N I\n",
    "$$\n",
    "In particular $A$ is invertible, i.e., the mapping $F \\mapsto \\hat{F}, \\mathbb{C}^{2N} \\to \\mathbb{C}^{2N}$ is invertible. \n",
    "This mapping is called the discrete fourier transform (DFT) and its inverse is called the inverse discrete fourier transform (IDFT, $\\hat{F} \\mapsto F$). Both use a different scaling than we use here; specifically, the most commen definition is \n",
    "$$\n",
    "\\begin{aligned}\n",
    "\t{\\rm DFT}[G]_k &= \\sum_{j = 0}^{2N-1} e^{- i k j \\pi / N} G_j, \\\\ \n",
    "\t{\\rm IDFT}[\\hat{G}]_j &= \\frac{1}{2N} \\sum_{k = -N+1}^N e^{i k j \\pi / N} \\hat{G}_k.\n",
    "\\end{aligned}\n",
    "$$\n",
    "This means the the mappings $F \\mapsto \\hat{F}, \\hat{F} \\mapsto F$ can be written as \n",
    "$$\n",
    "\t\\hat{F} = (2N)^{-1} \\cdot {\\rm DFT}[F], \\qquad F = 2N \\cdot {\\rm IDFT}[\\hat{F}]\n",
    "$$\n"
   ]
  },
  {
   "cell_type": "markdown",
   "id": "7ccd147f",
   "metadata": {},
   "source": [
    "The cost of evaluating the DFT and IDFT naively is $O(N^2)$ (matrix-vector multiplication) but the special structures in the DFT make it possible to evaluate them in $O(N \\log (N))$ operations. This was first observed by Gauss (1876), and much later rediscovered and popularized by [Cooley & Tukey (1965)](https://en.wikipedia.org/wiki/Cooley–Tukey_FFT_algorithm). It is generally considered one of the [most important algorithms of the 20th century](https://www.computer.org/csdl/magazine/cs/2000/01/c1022/13rRUxBJhBm). \n",
    "\n",
    "In Julia, the FFT is implemented in the [FFTW package](https://github.com/JuliaMath/FFTW.jl) (the Fastest Fourier Transform in the West). Before we study it, we can try it out:\n"
   ]
  },
  {
   "cell_type": "code",
   "execution_count": null,
   "id": "d6b05acd",
   "metadata": {},
   "outputs": [],
   "source": [
    "using FFTW\n",
    "xgrid(N) = [ j * π / N  for j = 0:2N-1 ]\n",
    "kgrid(N) = [ 0:N; -N+1:-1 ]\n",
    "\n",
    "function dft(F)\n",
    "    N = length(F) ÷ 2\n",
    "    A = [ exp(im * k * x) for k in kgrid(N), x in xgrid(N) ]\n",
    "    return (A' * F) / (2*N)\n",
    "end\n"
   ]
  },
  {
   "cell_type": "code",
   "execution_count": null,
   "id": "0d59690f",
   "metadata": {},
   "outputs": [],
   "source": [
    "?fft"
   ]
  },
  {
   "cell_type": "code",
   "execution_count": null,
   "id": "e4212e2f",
   "metadata": {},
   "outputs": [],
   "source": [
    "# run a random tests to confirm FFT = DFT\n",
    "N = 128\n",
    "F = rand(ComplexF64, N)\n",
    "norm( dft(F) - fft(F) / N )"
   ]
  },
  {
   "cell_type": "code",
   "execution_count": null,
   "id": "1f52e774",
   "metadata": {},
   "outputs": [],
   "source": [
    "N = 128\n",
    "# run a random test to see how fft, ifft work\n",
    "F = rand(ComplexF64, N)\n",
    "norm(F - ifft(fft(F)))"
   ]
  },
  {
   "cell_type": "code",
   "execution_count": null,
   "id": "34f8874e",
   "metadata": {},
   "outputs": [],
   "source": [
    "# NN = [5, 10, 20, 40, 80, 160]\n",
    "# # NN = (2).^(2:8)\n",
    "# FF = [ rand(ComplexF64, 2*N) for N in NN ]   # random trial vectors \n",
    "# times_dft = [ (@belapsed dft($F)) for F in FF ]\n",
    "# times_fft = [ (@belapsed fft($F)) for F in FF ]\n",
    "# ata_table( (NN, \"``N``\", \"%d\"), \n",
    "#            (times_dft, \"DFT\", \"%1.2e\"), \n",
    "#            (times_fft, \"FFT\", \"%1.2e\"), \n",
    "#            (times_fft./times_dft, \"FFT/DFT\", \"%1.1e\"), \n",
    "#            )\n"
   ]
  },
  {
   "cell_type": "code",
   "execution_count": null,
   "id": "9b2a136e",
   "metadata": {},
   "outputs": [],
   "source": [
    "# plot(NN, times_dft, label = \"DFT\", lw=2, xscale = :log10, yscale=:log10, m=:o, ms=5)\n",
    "# plot!(NN, times_fft, label = \"FFT\", lw=2, m=:o, ms=5)\n",
    "# plot!(NN, 3e-7*NN.^2, lw=1, ls=:dash, c=:black, label = L\"N^2\")\n",
    "# plot!(NN, 1e-7*NN .* log.(NN), lw=1, ls=:dash, c=:black, label = \"\")"
   ]
  },
  {
   "cell_type": "code",
   "execution_count": null,
   "id": "b4804ed9",
   "metadata": {},
   "outputs": [],
   "source": [
    "# NN = (2).^(4:2:10)\n",
    "# FF = [ rand(ComplexF64, 2*N) for N in NN ]   # random trial vectors \n",
    "# times_fft = [ (@belapsed fft($F)) for F in FF ]"
   ]
  },
  {
   "cell_type": "code",
   "execution_count": null,
   "id": "f7748ec6",
   "metadata": {},
   "outputs": [],
   "source": [
    "# plot(NN, times_fft, label = \"DFT\", lw=2, xscale = :log10, yscale=:log10, m=:o, ms=5)\n",
    "# plot!(NN, 1e-8*NN .* log.(NN), lw=1, ls=:dash, c=:black, label = \"N log(N)\")"
   ]
  },
  {
   "cell_type": "markdown",
   "id": "d11ad79d",
   "metadata": {},
   "source": [
    "## Experiments with Spectral Methods"
   ]
  },
  {
   "cell_type": "code",
   "execution_count": null,
   "id": "c35da1a4",
   "metadata": {},
   "outputs": [],
   "source": [
    "using FFTW, LinearAlgebra, Plots, LaTeXStrings\n",
    "\n",
    "xgrid(N) = [ j * π / N  for j = 0:2N-1 ]\n",
    "kgrid(N) = [ 0:N; -N+1:-1 ]\n",
    "\n",
    "\"\"\"\n",
    "construct the coefficients of the trigonometric interpolant\n",
    "\"\"\"\n",
    "triginterp(f, N) = fft(f.(xgrid(N))) / (2*N)\n",
    "\n",
    "\n",
    "\"\"\"\n",
    "to evaluate a trigonometric polynomial just sum coefficients * basis\n",
    "we the take the real part because we assume the function we are \n",
    "approximating is real.\n",
    "\"\"\"\n",
    "evaltrig(x, F̂) = sum( real(F̂ₖ * exp(im * x * k))\n",
    "                      for (F̂ₖ, k) in zip(F̂, kgrid(length(F̂) ÷ 2)) )"
   ]
  },
  {
   "cell_type": "markdown",
   "id": "9aa460ca",
   "metadata": {},
   "source": [
    "### Spectral Method for a BVP\n",
    "\n",
    "$$\n",
    "  - u'' + u = f\n",
    "$$\n",
    "Convert to reciprocal space \n",
    "$$\n",
    "   (1+k^2) \\hat{u}_k = \\hat{f}_k\n",
    "$$\n",
    "Truncate at $|k| \\leq N$: \n",
    "$$\n",
    "    \\hat{U}_k = \\hat{F}_k / (1 + k^2)\n",
    "$$"
   ]
  },
  {
   "cell_type": "code",
   "execution_count": null,
   "id": "47d9b08f",
   "metadata": {},
   "outputs": [],
   "source": [
    "using ForwardDiff"
   ]
  },
  {
   "cell_type": "code",
   "execution_count": null,
   "id": "7e7f5e62",
   "metadata": {},
   "outputs": [],
   "source": [
    "NN = 10:10:120\n",
    "u = x -> cos( 1 / (0.2 + sin(x)^2) )\n",
    "\n",
    "du = x -> ForwardDiff.derivative(u, x)\n",
    "d2u = x -> ForwardDiff.derivative(du, x)\n",
    "f = x -> u(x) - d2u(x)\n",
    "xerr = range(0, 2π, length = 1_000)\n",
    "solve(N) = triginterp(f, N) ./ (1 .+ kgrid(N).^2)\n",
    "error(N) = norm(u.(xerr) - evaltrig.(xerr, Ref(solve(N))), Inf)\n",
    "errs = error.(NN) \n",
    "plot(NN, errs, yscale = :log10, lw = 3, m=:o, ms=4, label = \"error\", \n",
    "              size = (400, 300), xlabel = L\"N\", ylabel = L\"\\Vert u - u_N \\Vert_\\infty\")\n",
    "plot!(NN[5:9], 1_000*exp.( - 0.33 * NN[5:9]), lw=2, ls=:dash, c=:black, label = \"rate\")\n",
    "hline!([1e-15], lw=2, c=:red, label = L\"\\epsilon\")\n"
   ]
  },
  {
   "cell_type": "code",
   "execution_count": null,
   "id": "da81e13c",
   "metadata": {},
   "outputs": [],
   "source": [
    "NN = (2).^(3:8)\n",
    "u = x -> abs(sin(x))^3\n",
    "\n",
    "du = x -> ForwardDiff.derivative(u, x)\n",
    "d2u = x -> ForwardDiff.derivative(du, x)\n",
    "f = x -> u(x) - d2u(x)\n",
    "xerr = range(0, 2π, length = 1_000)\n",
    "solve(N) = triginterp(f, N) ./ (1 .+ kgrid(N).^2)\n",
    "error(N, p=Inf) = norm(u.(xerr) - evaltrig.(xerr, Ref(solve(N))), p) / (length(xerr))^(1/p)\n",
    "errsInf = error.(NN, Inf) \n",
    "errs2 = error.(NN, 2) \n",
    "\n",
    "plot(NN, errsInf, yscale = :log10, xscale=:log10, lw = 3, m=:o, ms=4, label = \"error\", \n",
    "              size = (400, 300), xlabel = L\"N\", ylabel = L\"\\Vert u - u_N \\Vert_\\infty\")\n",
    "plot!(NN, errs2, lw=3, m=:o, ms=4, label = \"L2\")\n",
    "nn = NN\n",
    "plot!(nn, nn.^(-2), lw=2, ls=:dash, c=:black, label = \"rate\")\n",
    "# hline!([1e-15], lw=2, c=:red, label = L\"\\epsilon\")"
   ]
  },
  {
   "cell_type": "code",
   "execution_count": null,
   "id": "b8b333ff",
   "metadata": {},
   "outputs": [],
   "source": []
  },
  {
   "cell_type": "markdown",
   "id": "8965abf0",
   "metadata": {},
   "source": [
    "### Summary Spectral Methods / Perspective\n",
    "\n",
    "Numerical Analysis and Scientific Computing for (P)DEs : \n",
    "* regularity theory: how smooth are the solutions of the DE?\n",
    "* approximation theory: how well can we approximate the solution in principle?\n",
    "* discretisation, error analysis: how do we discretize the DE to guarantee convergence of the discretized solution? Optimal rates as predicted by approximation theory?\n",
    "* Fast algorithms: scaling of computational cost matters! e.g. FFT provides close to optimal computational complexity, in general this is difficult to achieve. \n",
    "\n"
   ]
  },
  {
   "cell_type": "markdown",
   "id": "17aa96f4",
   "metadata": {},
   "source": [
    "## Spectral methods for time-dependent, inhomogeneous and nonlinear problems\n",
    "\n",
    "In the following we will implement a few examples that go beyond the basic theory above and showcase a few more directions in which one could explore spectral methods. We will see a few techniques to treat cases for which spectral methods are more difficult to use, namely for differential operators with inhomogeneous coefficients and for nonlinear problems.\n",
    "\n"
   ]
  },
  {
   "cell_type": "markdown",
   "id": "24d07e6c",
   "metadata": {},
   "source": [
    "### Wave equation \n",
    "$$\n",
    "\tu_{tt} = u_{xx}\n",
    "$$\n",
    "We first discretise in space, \n",
    "$$\n",
    "\tu_{tt} = u_{N, xx},\n",
    "$$\n",
    "then transform to Fourier coefficients, \n",
    "$$\n",
    "\t\\frac{d^2\\hat{U}_k}{d t^2}  = - k^2 \\hat{U}_k,\n",
    "$$\n",
    "and finally discretize in time\n",
    "$$\n",
    "\t\\frac{\\hat{U}_k^{n+1} - 2 \\hat{U}_k^n + \\hat{U}_k^{n-1}}{\\Delta t^2}\n",
    "\t= - k^2 \\hat{U}_k^n\n",
    "$$\n"
   ]
  },
  {
   "cell_type": "code",
   "execution_count": null,
   "id": "1d019801",
   "metadata": {},
   "outputs": [],
   "source": [
    "N = 20\n",
    "dt = 0.2 / N\n",
    "Tfinal = 30.0\n",
    "u0 = x -> exp(-10*(1 + cos(x)))\n",
    "\n",
    "let N = N, dt = dt, Tfinal=Tfinal, u0=u0\n",
    "    xp = xgrid(200)\n",
    "    k = kgrid(N)\n",
    "    Û0 = triginterp(u0, N)\n",
    "    Û1 = Û0  # zero initial velocity \n",
    "    @gif for n = 1:ceil(Int, Tfinal / dt)\n",
    "        Û0, Û1 = Û1, 2 * Û1 - Û0 - dt^2 * k.^2 .* Û1\n",
    "        plot(xp, evaltrig.(xp, Ref(Û1)), lw = 3, label = \"\", size = (400, 300), \n",
    "             xlims = [0, 2*π], ylims = [-0.1, 1.1] )\n",
    "    end every 5\n",
    "end"
   ]
  },
  {
   "cell_type": "markdown",
   "id": "34992b36",
   "metadata": {},
   "source": [
    "$$\n",
    "\tu_t + c(x) u_x = 0\n",
    "$$\n",
    "First discretise in time using the Leapfrog scheme \n",
    "$$\n",
    "\t\\frac{u^{n+1} - u^{n-1}}{2 \\Delta t} + c (u^n)_x = 0.\n",
    "$$\n",
    "Now we discretise both $c$ and $u^n$ using a trigonometric polynomials, $c \\approx c_N$ and $u^n \\approx u^n_N \\in \\mathcal{T}_N'$. We can easily apply $d/dx$ in the Fourier domain, $\\hat{U}_k^n \\to (i k) \\hat{U}_k^n$, but what can we do with the product $c_N (u^n_N)_x$? The trick is to differentiate in the Fourier domain, but apply the product in real space, i.e., \n",
    "* Apply $d/dx$ in Fourier space\n",
    "* Convert back to real space\n",
    "* apply pointwise multiplication at interpolation nodes\n"
   ]
  },
  {
   "cell_type": "code",
   "execution_count": null,
   "id": "eba8ce22",
   "metadata": {},
   "outputs": [],
   "source": [
    "\n",
    "let     N = 256,  \n",
    "        dt = π/(4N), \n",
    "        tmax = 16.0, \n",
    "        cfun = x -> 0.2 + sin(x - 1)^2, \n",
    "        u0 = x ->  exp(-100*(x-1)^2)\n",
    "\n",
    "    X = xgrid(N)\n",
    "    K = kgrid(N)\n",
    "    t = 0.0\n",
    "    # differentiation operator in Fourier space \n",
    "    D̂ = im*K\n",
    "\n",
    "    # transport coefficient in real space \n",
    "    C = cfun.(X)\n",
    "    # initial condition, we also need one additional v in the past\n",
    "    # (this takes one step of the PDE backward in time)\n",
    "    V = u0.(X)\n",
    "    Vold = V + dt * C .* real.( ifft( D̂ .* fft(V) ) ) \n",
    "\n",
    "    function plot_soln(t, X, v, c)\n",
    "        P = plot( xaxis = ([0, 2*π], ), yaxis = ([0.0, 1.5],) )\n",
    "        plot!(X, 0.5*c, lw=1, c=:black, label = L\"c/2\")\n",
    "        plot!(X, v, lw=3, label = L\"v\", size = (500, 300))\n",
    "        return P\n",
    "    end\n",
    "\n",
    "    # time-stepping loop\n",
    "    @gif for t = 0:dt:tmax\n",
    "        # differentiation in reciprocal space\n",
    "        W = real.( ifft( D̂ .* fft(V) ) )   \n",
    "        # multiplication and update in real space\n",
    "        V, Vold = Vold - 2 * dt * C .* W, V\n",
    "        plot_soln(t, X, V, C)\n",
    "    end every 20\n",
    "end\n"
   ]
  },
  {
   "cell_type": "markdown",
   "id": "9143ca7b",
   "metadata": {},
   "source": [
    "### Nonlinear BVP\n",
    "\n",
    "Steady state viscous Burgers equation\n",
    "$$\n",
    "\t\tu u_x = \\epsilon u_{xx} - 0.1 \\sin(x)\n",
    "$$\n",
    "We write a nonlinear system \n",
    "$$\n",
    "\tF_j := u_N(x_j) u_{N,x}(x_j) - \\epsilon u_{N,xx}(x_j) + 0.1 sin(x)\n",
    "$$\n",
    "and use a generic nonlinear solver to solve\n",
    "$$\n",
    "\tF_j = 0, \\qquad j = 0, \\dots, 2N-1.\n",
    "$$\n",
    "This is not a magic bullet, often one needs specialized tools to solve these resulting nonlinear systems.\n"
   ]
  },
  {
   "cell_type": "code",
   "execution_count": null,
   "id": "47943f1e",
   "metadata": {},
   "outputs": [],
   "source": [
    "using SIAMFANLEquations: nsoli\n",
    "N = 64\n",
    "ϵ = 0.1\n",
    "function burger(U)\n",
    "    N = length(U) ÷ 2 \n",
    "    k = kgrid(N)\n",
    "    Û = fft(U) \n",
    "    F = sin.(xgrid(N))\n",
    "    return real.(U .* ifft( im * k .* Û ) + ϵ * ifft( k.^2 .* Û ) .+ 0.1*F)\n",
    "end\n",
    "U0 = sin.(xgrid(N))\n",
    "U = nsoli(burger, U0, maxit = 10_000)\n",
    "Û = fft(U) / (2N)\n",
    "\n",
    "plot(x -> real(evaltrig(x, Û)), -π, π, lw=3, size = (500, 250), \n",
    "     label = \"Residual = \" * (@sprintf(\"%.2e\\n\", norm(burger(U), Inf))), \n",
    "     xlabel = L\"x\", ylabel = L\"u(x)\")"
   ]
  },
  {
   "cell_type": "markdown",
   "id": "be8bccb5",
   "metadata": {},
   "source": [
    "We can use a naive manual continuation to get a solution for smaller $\\epsilon$"
   ]
  },
  {
   "cell_type": "code",
   "execution_count": null,
   "id": "64ddccc5",
   "metadata": {},
   "outputs": [],
   "source": [
    "ϵ = 0.05\n",
    "U1 = nsoli(burger, U, maxit = 1_000)\n",
    "Û = fft(U1) / (2N)\n",
    "\n",
    "plot(x -> real(evaltrig(x, Û)), -π, π, lw=3, size = (500, 250), \n",
    "     label = \"Residual = \" * (@sprintf(\"%.2e\\n\", norm(burger(U1), Inf))), \n",
    "     xlabel = L\"x\", ylabel = L\"u(x)\")"
   ]
  },
  {
   "cell_type": "code",
   "execution_count": null,
   "id": "614ac22c",
   "metadata": {},
   "outputs": [],
   "source": [
    "ϵ = 0.01\n",
    "U2 = nsoli(burger, U1, maxit = 1_000)\n",
    "Û = fft(U2) / (2N)\n",
    "\n",
    "plot(x -> real(evaltrig(x, Û)), -π, π, lw=3, size = (500, 250), \n",
    "     label = \"Residual = \" * (@sprintf(\"%.2e\\n\", norm(burger(U2), Inf))), \n",
    "     xlabel = L\"x\", ylabel = L\"u(x)\")"
   ]
  }
 ],
 "metadata": {
  "@webio": {
   "lastCommId": "47f51dadd73f49d8a10da82fbf8ab73c",
   "lastKernelId": "05e51398-eaeb-463b-bc4d-10885daa8274"
  },
  "kernelspec": {
   "display_name": "Julia 1.7.1",
   "language": "julia",
   "name": "julia-1.7"
  },
  "language_info": {
   "file_extension": ".jl",
   "mimetype": "application/julia",
   "name": "julia",
   "version": "1.7.1"
  }
 },
 "nbformat": 4,
 "nbformat_minor": 5
}
