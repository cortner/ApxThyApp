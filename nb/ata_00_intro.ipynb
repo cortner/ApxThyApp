{
 "cells": [
  {
   "cell_type": "code",
   "execution_count": null,
   "metadata": {},
   "outputs": [],
   "source": [
    "\n",
    "using Markdown\n",
    "include(\"tools.jl\");"
   ]
  },
  {
   "cell_type": "markdown",
   "metadata": {},
   "source": [
    "# MATH 522 Numerical Analysis \n",
    "\n",
    "Christoph Ortner, ortner@math.ubc.ca, University of British Columbia\n",
    "\n",
    "A course on approximation theory and with focus on computational aspects and applications. \n"
   ]
  },
  {
   "cell_type": "markdown",
   "metadata": {},
   "source": [
    "# § 0. Introduction and Motivation\n",
    "\n",
    "## § 0.1 Composite Trapezoidal Rule\n",
    "\n",
    "Consider two functions defined on $[-\\pi, \\pi]$,\n",
    "$$\n",
    "\tf_1(x) = \\frac{1}{1 + x^2}, \\qquad\n",
    "\tf_2(x) = \\frac{1}{1 + \\sin^2(x)}\n",
    "$$"
   ]
  },
  {
   "cell_type": "code",
   "execution_count": null,
   "metadata": {},
   "outputs": [],
   "source": [
    "f1(x) = 1 / (1 + x^2)\n",
    "f2(x) = 1 / (1 + sin(x)^2)\n",
    "plot(f1, -π, π, lw=3, label = L\"f_1(x) = 1/(1+x^2)\")\n",
    "plot!(f2, -π, π, lw = 3, label = L\"f_2(x) = 1/(1+\\sin^2(x))\",\n",
    "      size = (550, 250), legend = :outertopright )\n"
   ]
  },
  {
   "cell_type": "markdown",
   "metadata": {},
   "source": [
    "We approximate the integral $I[f_j] := \\int_{-\\pi}^\\pi f_j(x) \\,dx$ with a quadrature rule, the [composite trapezoidal rule](https://en.wikipedia.org/wiki/Trapezoidal_rule)\n",
    "$$\n",
    "\\begin{aligned}\n",
    "\tI[f] \\approx I_N[f] := \\sum_{n = -N+1}^N \\frac{2\\pi}{2N}\n",
    "\t\t\\cdot \\frac{f(x_{n-1})) + f(x_n)}{2}\n",
    "\\end{aligned}\n",
    "$$\n",
    "where $x_n = 2\\pi n / (2N) = \\pi n/N, n = -N, \\dots, N$ are the quadrature nodes.\n",
    "\n",
    "If $f \\in C^1$ then it is not too difficult to show that on each sub-interval $(x_{n-1}, x_n)$ of length $h \\approx 1/N$ approximating $f$ with a piecewise affine function yields an $O(h^2)$ error and therefore the total error is expected to also scale like $h^2 \\approx N^{-2}$, i.e., we expect that\n",
    "$$\n",
    "  |I[f] - I_N[f]| \\lesssim N^{-2}\n",
    "$$"
   ]
  },
  {
   "cell_type": "markdown",
   "metadata": {},
   "source": [
    "To test this numerically we implement the quadrature rule rewritten as follows:\n",
    "$$\n",
    "I_N[f] = \\frac{\\pi}{2N} \\big(f(-\\pi) + f(\\pi)\\big)\n",
    "         + \\frac{\\pi}{N} \\sum_{n = -N+1}^{N-1} f(\\pi n/N)\n",
    "$$"
   ]
  },
  {
   "cell_type": "code",
   "execution_count": null,
   "metadata": {},
   "outputs": [],
   "source": [
    "@doc raw\"\"\"\n",
    "`trapezoidal_rule(f, N)` : composite trapezoidal rule on [-π, π], \n",
    "```math\n",
    "I_N[f] = \\frac{\\pi}{2N} \\big(f(-\\pi) + f(\\pi)\\big)\n",
    "         + \\frac{\\pi}{N} \\sum_{n = -N+1}^{N-1} f(\\pi n/N)\n",
    "```\n",
    "\n",
    "* `f` : function defining the integrand\n",
    "* `N` : number of integration nodes is ``2N+1``\n",
    "* Output: value for composite trapezoidal rule\n",
    "\"\"\"\n",
    "trapezoidal_rule(f, N) =  (\n",
    "            0.5*π/N * (f(-π) + f(π))\n",
    "            + π/N * sum( f(n*π/N) for n = -N+1:N-1 )  );"
   ]
  },
  {
   "cell_type": "markdown",
   "metadata": {},
   "source": [
    "### Convergence Trapezoidal rule\n",
    "\n",
    "* $I_N[f]$ : trapezoidal rule approximation with $2N+1$ quadrature points\n",
    "* $E_N[f] := |I_N[f] - \\int_{-\\pi}^\\pi f(x) \\,dx |$ : error"
   ]
  },
  {
   "cell_type": "code",
   "execution_count": null,
   "metadata": {},
   "outputs": [],
   "source": [
    "NN = 3:3:30       # number of quadrature points N means 2N+1 points\n",
    "I1 = 2 * atan(π)  # exact value of ∫ f₁\n",
    "I2 = √2 * π       # exact value of ∫ f₂\n",
    "I1N = trapezoidal_rule.(f1, NN)   # trapezoidal rule approximations\n",
    "I2N = trapezoidal_rule.(f2, NN)\n",
    "E1N = abs.(I1N .- I1)   # errors\n",
    "E2N = abs.(I2N .- I2)\n",
    "ata_table( (NN, \"N\", \"%d\"),\n",
    "           (I1N, \"IN[f₁]\", \"%1.5f\"),\n",
    "           (E1N, \"EN[f₁]\", \"%1.1e\"),\n",
    "           (I2N, \"IN[f₂]\", \"%1.5f\"),\n",
    "           (E2N, \"EN[f₂]\", \"%1.1e\"), )"
   ]
  },
  {
   "cell_type": "markdown",
   "metadata": {},
   "source": [
    "But plotting the error will give us a more qualitative view ..."
   ]
  },
  {
   "cell_type": "code",
   "execution_count": null,
   "metadata": {},
   "outputs": [],
   "source": [
    "Px = plot(NN, E1N, label = L\"E_N[f_1]\", yaxis = :log10,\n",
    "          lw=2, m=:o, ms=4)\n",
    "plot!(NN, E2N .+ 1e-16, label = L\"E_N[f_2]\",\n",
    "      xlabel = L\"N\", lw=2, m=:o, ms=4, )\n",
    "P1 = plot!(deepcopy(Px), NN[3:end], 0.04*NN[3:end].^(-2), \n",
    "           lw=2, ls=:dash,c=:black, label = L\"N^{-2}\", \n",
    "            ylims = [1e-6, 1e-1],  xaxis = :log10)\n",
    "P2 = plot!(Px, NN[2:6], 0.1*exp.(- 2 * log(1 + sqrt(2)) * NN[2:6]), lw=2,\n",
    "            c=:black, ls = :dash, label = L\"e^{- 2 \\alpha N}\", \n",
    "            legend = :right, ylims = [1e-16, 1e-1])\n",
    "# alpha = log(sqrt(2)+1)\n",
    "plot(P1, P2, size = (500, 300))"
   ]
  },
  {
   "cell_type": "markdown",
   "metadata": {},
   "source": [
    "\n",
    "An unexpected outcome? By the end of the first part of this course we should\n",
    "be able to explain this result.\n"
   ]
  },
  {
   "cell_type": "markdown",
   "metadata": {},
   "source": [
    "## §0.2 What is Approximation Theory\n",
    "\n",
    "[Wikipedia:](https://en.wikipedia.org/wiki/Approximation_theory) In mathematics, approximation theory is concerned with how functions can best be approximated with simpler functions, and with quantitatively characterizing the errors introduced thereby. Note that what is meant by best and simpler will depend on the application.\n",
    "\n",
    "For the purpose of computational mathematics we should start by asking what operations are available to us on a computer: +, -, *, /. Everything else must be built from those. This means that the only functions we can implement immediately are polynomials and rational functions: \n",
    "$$\n",
    "\tp_N(x) = a_0 + a_1 x + \\dots + a_N x^N, \\qquad r_{NM}(x) = \\frac{p_N(x)}{q_M(x)}\n",
    "$$\n",
    "We could (maybe should?) build this entire course based on polynomials. Instead, I decided to use trigonometric polynomials; more on this in the next notebook.\n",
    "\n",
    "In any programming language, including Julia which we are using in this course, when you call mathematical functions such as \n",
    "```julia\n",
    "exp, cos, sin, acos, log, ...\n",
    "```\n",
    "you are in fact evaluating a rational approximant that approximates this function to within machine precision (typically $\\epsilon \\approx 10^{-16}$ for 64bit floating point accuracy).\n"
   ]
  },
  {
   "cell_type": "markdown",
   "metadata": {},
   "source": [
    "Beyond implementing special functions, why should we approximate a general function $f$ by a polynomial (or other classes of simple functions)? There are many reasons, e.g., \n",
    "* $f$ might be expensive to evaluate, hence replacing it with a cheap but accurate \"surrogate\" $p_N$ would give us computationally efficient access to $f$\n",
    "* $f$ might be unknown, but we know it solves some equation, e.g. a PDE, $L[f] = 0$. We may be able to construct an approximate equation for a polynomial $L_N[p_N] = 0$ and prove that solving this implies $p_N \\approx f$.\n",
    "* $f$ might be unknown but we have some observations (data) about it. We might then \"fit\" a polynomial $p_N$ to this data in order to infer further information about $f$. \n",
    "* In \"pure mathematics\", a polynomial or other approximation may be easier to analyze to extract properties of some function that are difficult to obtain directly.\n",
    "\n",
    "What implicit or explicit assumptions are we making in these tasks? How should we optimize our approximation parameters (the polynomial degree $N$ in this case). What can we say about the accuracy of approximation, i.e. how close is $p_N$ to $f$? How can we optimally sample $f$ to obtain good approximations? These are the kind of questions that approximation theory and numerical analysis are concerned with.\n"
   ]
  },
  {
   "cell_type": "markdown",
   "metadata": {},
   "source": [
    "## §0.4 Resources\n",
    "\n",
    "### Julia\n",
    "\n",
    "* https://julialang.org\n",
    "* https://juliaacademy.com\n",
    "* https://juliadocs.github.io/Julia-Cheat-Sheet/\n",
    "\n",
    "Although you won't need it for this course, I recommend VS Code for serious work with Julia (unless you are already committed to another very good editor such as Emacs, Vim, Sublime etc. Atom is still a good choice but most development has now moved to VS Code.\n",
    "\n",
    "### Jupyter notebooks \n",
    "\n",
    "Julia supports Jupyter notebooks via the [`IJulia.jl`](https://github.com/JuliaLang/IJulia.jl) kernel. To install it, simply start a Julia REPL, switch to the package manager by typeing `]` and then run `add IJulia`. From the Julia REPL, the Jupyter server can be started via `using IJulia; IJulia.notebook()`. \n",
    "\n",
    "Alternatively, from the terminal, switch to the folder where the jupyter notebooks are stored, and then run \n",
    "```\n",
    "julia -e 'using IJulia; IJulia.notebook(; dir = \".\")'\n",
    "```\n",
    "\n",
    "### Pluto.jl (if Pluto notebooks are used)\n",
    "\n",
    "* https://github.com/fonsp/Pluto.jl\n",
    "* https://www.wias-berlin.de/people/fuhrmann/SciComp-WS2021/assets/nb01-first-contact-pluto.html\n",
    "* https://computationalthinking.mit.edu/Spring21/\n",
    "\n",
    "### Course Material\n",
    "\n",
    "* https://github.com/cortner/ApxThyApp.git\n",
    "\n",
    "This contains lecture notes and the Pluto and Jupyter notebooks (I will likely use Jupyter, but we will see), and my lecture notes which are still under development but at least the basic theory part is now maturing. The lecture notes also contain further references and exercises. \n"
   ]
  },
  {
   "cell_type": "code",
   "execution_count": null,
   "metadata": {},
   "outputs": [],
   "source": []
  }
 ],
 "metadata": {
  "kernelspec": {
   "display_name": "Julia 1.7.0-rc3",
   "language": "julia",
   "name": "julia-1.7"
  },
  "language_info": {
   "file_extension": ".jl",
   "mimetype": "application/julia",
   "name": "julia",
   "version": "1.7.1"
  }
 },
 "nbformat": 4,
 "nbformat_minor": 2
}
