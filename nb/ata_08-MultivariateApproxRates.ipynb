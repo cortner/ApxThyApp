{
 "cells": [
  {
   "cell_type": "markdown",
   "metadata": {},
   "source": [
    "\n",
    "## Multivariate Approximation: Convergence Rates\n",
    "\n",
    "We explore in some very simple cases the effect of choosing subset of the full tensor product Chebyushev basis. Due to software and algorithmic limitations, these tests will be restricted to very low dimension, just 2 and 3. But we can still observe some of our analytic result and more importantly how they are extremely limited. The take-away message is that approximation in high dimension is extremely subtle and requires substantially more work than in 1D."
   ]
  },
  {
   "cell_type": "code",
   "execution_count": null,
   "metadata": {},
   "outputs": [],
   "source": [
    "include(\"tools.jl\")\n",
    "using PyCall, PyPlot, FFTW\n",
    "mplcolors = pyimport(\"matplotlib.colors\")"
   ]
  },
  {
   "cell_type": "code",
   "execution_count": null,
   "metadata": {},
   "outputs": [],
   "source": [
    "xgrid(N) = range(0, 2*π - π/N, length = 2*N)\n",
    "\n",
    "function tensorgrid(d, x1)\n",
    "    dims = ntuple(i -> length(x1), d)\n",
    "    X = reshape(x1 * ones(Bool, length(x1)^(d-1))', dims)\n",
    "    pdim(i, d) = (dd = collect(1:d); dd[1] = i; dd[i] = 1; tuple(dd...))\n",
    "    return ntuple(i -> permutedims(X, pdim(i,d)), d)\n",
    "end\n",
    "\n",
    "xgrid(d, N) = tensorgrid(d, xgrid(N))\n",
    "\n",
    "kgrid(N) = [0:N; -N+1:-1]\n",
    "\n",
    "kgrid(d, N) = tensorgrid(d, kgrid(N))\n",
    "\n",
    "\n",
    "function trigcoeffs(f, d, N)\n",
    "    XX = xgrid(d, N)\n",
    "    F = f.(XX...)\n",
    "    return fft(F) / (2*N)^d\n",
    "end\n"
   ]
  },
  {
   "cell_type": "code",
   "execution_count": null,
   "metadata": {},
   "outputs": [],
   "source": [
    "f2(x1, x2) = exp(sin(x1)*sin(2*sin(x2)))\n",
    "F̂ = trigcoeffs(f2, 2, 40)\n",
    "imshow(1e-12 .+ abs.(F̂), norm=mplcolors.LogNorm())"
   ]
  },
  {
   "cell_type": "code",
   "execution_count": null,
   "metadata": {},
   "outputs": [],
   "source": [
    "using StaticArrays \n",
    "\n",
    "struct SparsePoly{D}\n",
    "    coeffs::Vector{ComplexF64}\n",
    "    kk::Vector{SVector{D, Int}}\n",
    "end \n",
    "\n",
    "Base.length(p::SparsePoly) = length(p.coeffs)\n",
    "\n",
    "(p::SparsePoly)(x::AbstractVector) = real(sum( c * exp(im * dot(k, x)) \n",
    "                                          for (c, k) in zip(p.coeffs, p.kk) ))\n",
    "(p::SparsePoly)(args...) = p(SVector(args...))\n",
    "\n",
    "function triginterp(f, d, N) \n",
    "    F̂ = trigcoeffs(f, d, N)[:]\n",
    "    KK = kgrid(d, N)\n",
    "    kk = [ SVector(ntuple(i -> KK[i][n], d)...) for n = 1:length(F̂) ]\n",
    "    return SparsePoly(F̂, kk)\n",
    "end\n",
    "    \n",
    "function greedy(p::SparsePoly, M::Integer)\n",
    "    I = sortperm(abs.(p.coeffs), rev=true)\n",
    "    return SparsePoly(p.coeffs[I[1:M]], p.kk[I[1:M]])\n",
    "end\n",
    "\n",
    "function sparsify(p::SparsePoly, accfun)\n",
    "    I = findall(accfun.(p.kk))\n",
    "    return SparsePoly(p.coeffs[I], p.kk[I])\n",
    "end\n",
    "\n",
    "sparsegrid(p, N) = sparsify(p, k -> (sum(abs, k) <= N))  # ∑_a |k_a| ≤ N\n",
    "\n",
    "hcross(p, N) = sparsify(p, k -> (prod(1 .+ abs.(k)) <= N+1))\n",
    "\n",
    "function ferr(f, g, d, Nerr, p = Inf)\n",
    "    XX = xgrid(d, Nerr)\n",
    "    return norm( f.(XX...)[:] - g.(XX...)[:], Inf )\n",
    "end"
   ]
  },
  {
   "cell_type": "code",
   "execution_count": null,
   "metadata": {},
   "outputs": [],
   "source": [
    "NN = 2:2:20\n",
    "NNsp = 4:4:30\n",
    "NNhc = 5:15:140\n",
    "MM = [] \n",
    "MM_gr = 10:50:500\n",
    "MM_sp = []\n",
    "MM_hc = []\n",
    "err_ten = []\n",
    "err_gr = [] \n",
    "err_sp = [] \n",
    "err_hc = [] \n",
    "\n",
    "Nerr = 51\n",
    "\n",
    "for N in NN \n",
    "    p_ten = triginterp(f2, 2, N)\n",
    "    push!(err_ten, ferr(f2, p_ten, 2, Nerr))  # 201\n",
    "    push!(MM, length(p_ten))\n",
    "end \n",
    "\n",
    "p_ten_ref = triginterp(f2, 2, 2*maximum(NN))\n",
    "for M in MM_gr \n",
    "    p_ten = deepcopy(p_ten_ref)\n",
    "    p_gr = greedy(p_ten, M)\n",
    "    push!(err_gr, ferr(f2, p_gr, 2, Nerr))\n",
    "end \n",
    "for N in NNsp \n",
    "    p_ten = deepcopy(p_ten_ref)\n",
    "    p_sp = sparsegrid(p_ten, N)\n",
    "    push!(err_sp, ferr(f2, p_sp, 2, Nerr))\n",
    "    push!(MM_sp, length(p_sp))\n",
    "end\n",
    "for N in NNhc \n",
    "    p_ten = deepcopy(p_ten_ref)\n",
    "    p_hc = hcross(p_ten, N)\n",
    "    push!(err_hc, ferr(f2, p_hc, 2, Nerr))\n",
    "    push!(MM_hc, length(p_hc))\n",
    "\n",
    "end\n",
    "\n",
    "\n",
    "Plots.plot(; yaxis = (:log,\"error\"), xlabel=\"#coeffs\" )\n",
    "plot!(MM, err_ten, lw=2, m=:o, ms=6, label=\"tensor\")\n",
    "plot!(MM_gr, err_gr, lw=2, m=:o, ms=6, label=\"greedy\")\n",
    "plot!(MM_sp, err_sp, lw=2, m=:o, ms=6, label =\"sparse\")\n",
    "plot!(MM_hc, err_hc, lw=2, m=:o, ms=6, label =\"hyp-x\")\n"
   ]
  },
  {
   "cell_type": "code",
   "execution_count": null,
   "metadata": {},
   "outputs": [],
   "source": [
    "f3(x1,x2,x3) = cos(sin(x1)*sin(3*cos(x2))*cos(x3)^2)\n",
    "\n",
    "NN = 2:2:12\n",
    "NNsp = 4:4:22\n",
    "MM = [] \n",
    "MM_gr = [30, 60, 110, 190, 280] # , 400, 550, 750]\n",
    "MM_sp = []\n",
    "MM_hc = []\n",
    "err_ten = []\n",
    "err_gr = [] \n",
    "err_sp = [] \n",
    "err_hc = [] \n",
    "\n",
    "Nerr = 23\n",
    "\n",
    "for N in NN \n",
    "    p_ten = triginterp(f3, 3, N)\n",
    "    push!(err_ten, ferr(f3, p_ten, 3, Nerr))  # 201\n",
    "    push!(MM, length(p_ten))\n",
    "end \n",
    "\n",
    "p_ten_ref = triginterp(f3, 3, 2*maximum(NN))\n",
    "\n",
    "for M in MM_gr \n",
    "    p_ten = deepcopy(p_ten_ref)\n",
    "    p_gr = greedy(p_ten, M)\n",
    "    push!(err_gr, ferr(f3, p_gr, 3, Nerr))\n",
    "end \n",
    "for N in NNsp \n",
    "    p_ten = deepcopy(p_ten_ref)\n",
    "    p_sp = sparsegrid(p_ten, N)\n",
    "    push!(err_sp, ferr(f3, p_sp, 3, Nerr))\n",
    "    push!(MM_sp, length(p_sp))\n",
    "end\n",
    "for N in NNhc \n",
    "    p_ten = deepcopy(p_ten_ref)\n",
    "    p_hc = hcross(p_ten, N)\n",
    "    push!(err_hc, ferr(f3, p_hc, 3, Nerr))\n",
    "    push!(MM_hc, length(p_hc))\n",
    "\n",
    "end\n",
    "\n",
    "\n",
    "Plots.plot(; yaxis = (:log,\"error\"), xlabel=\"#coeffs\" )\n",
    "plot!(MM, err_ten, lw=2, m=:o, ms=6, label=\"tensor\")\n",
    "plot!(MM_gr, err_gr, lw=2, m=:o, ms=6, label=\"greedy\")\n",
    "plot!(MM_sp, err_sp, lw=2, m=:o, ms=6, label =\"sparse\")\n",
    "plot!(MM_hc, err_hc, lw=2, m=:o, ms=6, label =\"hyp-x\")"
   ]
  },
  {
   "cell_type": "code",
   "execution_count": null,
   "metadata": {},
   "outputs": [],
   "source": [
    "# A hyperbolic cross example\n",
    "fhc(x1, x2) = (abs(sin(x1)) + abs(sin(x2)))^2\n",
    "F̂ = trigcoeffs(fhc, 2, 40)\n",
    "imshow(1e-12 .+ abs.(F̂)[1:2:end,1:2:end], norm=mplcolors.LogNorm())"
   ]
  },
  {
   "cell_type": "markdown",
   "metadata": {},
   "source": [
    "Another example comes from electron transport theory. Specifically, we consider functions of the form \n",
    "$$\n",
    "  f(x_1, x_2) = \\frac{g(x_1, x_2)}{x_1 - x_2 + \\epsilon i},\n",
    "$$\n",
    "where $\\epsilon i$ is a small shift into the complex plane and $g$ is smooth. For small $\\epsilon$ $f$ has a singularity very close in the complex plane, or in fact an entire line of singularities and this significantly slows approximation. \n",
    "\n",
    "Purely for background information: \n",
    "The function is then used to evaluate a bivariate matrix function, i.e., \n",
    "$$\n",
    "  f(H, H)\n",
    "$$\n",
    "where $H \\in \\mathbb{R}^{n \\times n}$ with $n$ potentially large. We have to be careful about how to interpret this function. A canonical definition is via tensor products. If $f(x_1, x_2) = f_1(x_1) f_2(x_2)$, then $f(H, H) = f_1(H) \\otimes f_2(H)$, which is \n",
    "a fours-dimensional tensor. Then, invoking linearity, if $f$ is a sum of tensor products, e.g., $f(x_1,x_2) = \\sum_k c_k T_{k_1}(x_1) T_{k_2}(x_2)$, we can write \n",
    "$$\n",
    "    f(H,H) = \\sum_k c_k T_{k_1}(H) \\otimes T_{k_2}(H).\n",
    "$$\n",
    "We may again employ the recursion formula for the Chebyshev basis to evaluate the basis. But even without going into the details it is clear that it will be crucial to minimise the number of terms!"
   ]
  },
  {
   "cell_type": "code",
   "execution_count": null,
   "metadata": {},
   "outputs": [],
   "source": [
    "# here is a periodic variant of this problem: \n",
    "# significant potential for sparsification, but \n",
    "# no sign of anything remotely similar to the sparsity \n",
    "# patterns that we looked at so far... Here we should \n",
    "# really use a greedy algorithm!\n",
    "ft(x1,x2) = 1/(sin(x1) - sin(x2) + 0.1im)\n",
    "F̂ = trigcoeffs(ft, 2, 300)\n",
    "imshow(1e-12 .+ abs.(F̂), norm=mplcolors.LogNorm())"
   ]
  },
  {
   "cell_type": "markdown",
   "metadata": {},
   "source": [
    "Final example: the multi-variate Runge function \n",
    "$$\n",
    "f(x_1, \\dots, x_d) = \\frac{1}{1+c \\sum_{i=1}^d \\sin^2(x_i)}\n",
    "$$"
   ]
  },
  {
   "cell_type": "code",
   "execution_count": null,
   "metadata": {},
   "outputs": [],
   "source": [
    "# this time, let us start by visualising the chebyshev coefficients right away:\n",
    "fr2(x1, x2) = 1 / (1+10*(sin(x1)^2+sin(x2)^2))\n",
    "F̂ = trigcoeffs(fr2, 2, 100)\n",
    "imshow(1e-12 .+ abs.(F̂)[1:2:end,1:2:end], norm=mplcolors.LogNorm())"
   ]
  },
  {
   "cell_type": "markdown",
   "metadata": {},
   "source": [
    "We clearly observe a radial decay of the Chebyshev coefficients = neither the total degree or hyperbolic cross that we discussed! Thus suggests that we should truncate at $|k| \\leq N$ where $|k|$ is the 2-norm!\n",
    "\n",
    "Let's try this in a higher dimension, e.g. $d = 5$? Now comparing against tensor product grids will be hopeless."
   ]
  },
  {
   "cell_type": "code",
   "execution_count": null,
   "metadata": {},
   "outputs": [],
   "source": []
  },
  {
   "cell_type": "markdown",
   "metadata": {},
   "source": [
    "To have at least one case where we can explore the higher dimensional setting a little bit let's consider a case where the hyperbolic cross degree gives the \"right\" sparsification: \n",
    "$$\n",
    "    f({\\bf x}) = \\bigg( d^{-1} \\sum_{i = 1}^d |\\sin(x_i)| \\bigg)^2\n",
    "$$"
   ]
  },
  {
   "cell_type": "code",
   "execution_count": null,
   "metadata": {},
   "outputs": [],
   "source": [
    "# e.g. in 5 dimensions: \n",
    "fhc(x1, x2, x3, x4, x5) = sum( abs ∘ sin, (x1, x2, x3, x4, x5) )^2"
   ]
  },
  {
   "cell_type": "code",
   "execution_count": null,
   "metadata": {},
   "outputs": [],
   "source": [
    "# This function constructs a hyperbolic cross grid - we can \n",
    "# in principle do it more elegantly in a dimension-agnostic way\n",
    "# but with explicit loops it is easier to understand:\n",
    "function hckgrid5(N)\n",
    "    kk = SVector{5, Int}[]\n",
    "    for k1 = -N:N\n",
    "        # (1+|k1|)(1+|k2|) <= N gives a new upper bound for k2:\n",
    "        N2 = ceil(Int, N / (1+abs(k1)))\n",
    "        for k2 = -N2:N2\n",
    "            N3 = ceil(Int, N2 / (1+abs(k2)))\n",
    "            for k3 = -N3:N3 \n",
    "                N4 = ceil(Int, N3 / (1+abs(k3)))\n",
    "                for k4 = -N4:N4 \n",
    "                    N5 = ceil(Int, N4 / (1+abs(k4)))\n",
    "                    for k5 = -N5:N5 \n",
    "                        k = SA[k1, k2, k3, k4, k5]\n",
    "                        if prod(1 .+ abs.(k)) <= N \n",
    "                            push!(kk, k)\n",
    "                        end\n",
    "                    end\n",
    "                end\n",
    "            end\n",
    "        end\n",
    "    end\n",
    "    return kk \n",
    "end\n"
   ]
  },
  {
   "cell_type": "code",
   "execution_count": null,
   "metadata": {},
   "outputs": [],
   "source": [
    "# the contrast in grid sizes is significant\n",
    "for N = 3:10\n",
    "    Mten = length(kgrid(5, N)[1])\n",
    "    Mhc = length(hckgrid5(N))\n",
    "    @show N,  Mten, Mhc\n",
    "end"
   ]
  },
  {
   "cell_type": "code",
   "execution_count": null,
   "metadata": {},
   "outputs": [],
   "source": [
    "# but we can scale the hc grid to much larger N:\n",
    "for N = 10:10:100\n",
    "    Mhc = length(hckgrid5(N))\n",
    "    @show N, Mhc\n",
    "end"
   ]
  },
  {
   "cell_type": "markdown",
   "metadata": {},
   "source": [
    "So now we can construct a hyperbolic cross basis quite cheaply, \n",
    "and we see that even in 5 dimensions it doesn't grow too fast\n",
    "with the degree. But now how are we going to determine the parameters? \n",
    "I have no good idea here, and when we don't know what to do, \n",
    "let's just try least squares? "
   ]
  },
  {
   "cell_type": "code",
   "execution_count": null,
   "metadata": {},
   "outputs": [],
   "source": [
    "using LinearAlgebra: I \n",
    "using Base.Threads \n",
    "\n",
    "Mtrain = 20_000; Mtest = 10_000\n",
    "rand5() = (@SVector rand(5)) * 2 * π .- π\n",
    "Xtrain = [ rand5() for _=1:Mtrain ]\n",
    "Xtest = [ rand5() for _=1:Mtest ]\n",
    "\n",
    "sparse_trig_basis(kk, x) = [ exp(im * dot(k, x)) for k in kk ]\n",
    "\n",
    "function hc_lsqfit(f, N, X = Xtrain; λ = 1e-3)\n",
    "    kk = hckgrid5(N)\n",
    "    A = zeros(ComplexF64, length(X), length(kk))\n",
    "    Y = zeros(ComplexF64, length(X))\n",
    "    @threads for ix = 1:length(X)\n",
    "        x = X[ix]\n",
    "        A[ix, :] .= sparse_trig_basis(kk, x)\n",
    "        Y[ix] = f(x...)\n",
    "    end\n",
    "    A = [A; λ * I]\n",
    "    Y = [Y; zeros(length(kk))]\n",
    "    c = A \\ Y \n",
    "    return SparsePoly(c, kk)\n",
    "end"
   ]
  },
  {
   "cell_type": "code",
   "execution_count": null,
   "metadata": {},
   "outputs": [],
   "source": [
    "fhc(x1, x2, x3, x4, x5) = (sum( abs ∘ sin, (x1, x2, x3, x4, x5) )/5)^5\n",
    "NN = [5, 6, 8, 10, 12, 15, 19, 24, 30]\n",
    "MM = []\n",
    "errs = []\n",
    "\n",
    "@time for N in NN\n",
    "    p = hc_lsqfit(fhc, N; λ=1e-8)\n",
    "    push!(MM, length(p))\n",
    "    push!(errs, maximum(fhc(x...) - p(x) for x in Xtest))\n",
    "end"
   ]
  },
  {
   "cell_type": "code",
   "execution_count": null,
   "metadata": {},
   "outputs": [],
   "source": [
    "errs"
   ]
  },
  {
   "cell_type": "code",
   "execution_count": null,
   "metadata": {},
   "outputs": [],
   "source": [
    "using Plots\n",
    "Plots.plot(yscale = :log10, xscale = :log10, size = (500, 300), \n",
    "             yticks = [0.02, 0.04, 0.08, 0.16, 0.32, 0.64])\n",
    "Plots.plot!(MM, errs, lw=3, m=:o, ms=8, label = \"hyp-x\")"
   ]
  },
  {
   "cell_type": "code",
   "execution_count": null,
   "metadata": {},
   "outputs": [],
   "source": []
  }
 ],
 "metadata": {
  "@webio": {
   "lastCommId": "a1ef18127d7a4ce2bd5515413ab9cfec",
   "lastKernelId": "99c666ef-4775-424a-8395-2819a3e5e778"
  },
  "kernelspec": {
   "display_name": "Julia 1.7.1",
   "language": "julia",
   "name": "julia-1.7"
  },
  "language_info": {
   "file_extension": ".jl",
   "mimetype": "application/julia",
   "name": "julia",
   "version": "1.7.1"
  }
 },
 "nbformat": 4,
 "nbformat_minor": 2
}
