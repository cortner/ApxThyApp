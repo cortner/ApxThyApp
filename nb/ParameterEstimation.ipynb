{
 "cells": [
  {
   "cell_type": "markdown",
   "id": "e2df121a",
   "metadata": {},
   "source": [
    "# More on Parameter Estimation"
   ]
  },
  {
   "cell_type": "code",
   "execution_count": null,
   "id": "bf662f4a",
   "metadata": {},
   "outputs": [],
   "source": [
    "include(\"tools.jl\")"
   ]
  },
  {
   "cell_type": "code",
   "execution_count": null,
   "id": "9359c441",
   "metadata": {},
   "outputs": [],
   "source": [
    "# NOTE: \n",
    "#  N = #basis, and not the maximal degree!!!\n",
    "#  M = #observations\n",
    "\n",
    "# chebbasis(x, N) = ... is defined in tools.jl \n",
    "\n",
    "chebsamples(M) = cos.(pi * rand(M))\n",
    "\n",
    "unifsamples(M) = 2 * (rand(M) .- 0.5)\n",
    "\n",
    "monobasis(x, N) = [ x^n for n = 0:N-1 ]\n",
    "\n",
    "function designmatrix(X, N, basis)\n",
    "    A = zeros(length(X), N)\n",
    "    for (m, x) in enumerate(X)\n",
    "        A[m, :] .= basis(x, N)\n",
    "    end\n",
    "    return A\n",
    "end\n",
    "\n",
    "function lsqfit(X, F, N, basis)\n",
    "    A = designmatrix(X, N, basis)\n",
    "    θ = A \\ F\n",
    "    return x -> dot(basis(x, N), θ)\n",
    "end\n"
   ]
  },
  {
   "cell_type": "code",
   "execution_count": null,
   "id": "da78b532",
   "metadata": {},
   "outputs": [],
   "source": [
    "# Showing some condition numbers! \n",
    "\n",
    "NN = (2).^(3:9)\n",
    "# MM = 2 * ceil.(Int, NN .* log.(NN))\n",
    "MM = ceil.(Int, NN.^(3/2))\n",
    "\n",
    "κc = [] \n",
    "κm = [] \n",
    "for (N, M) in zip(NN, MM)\n",
    "    X = unifsamples(M)\n",
    "    Ac = designmatrix(X, N, chebbasis)\n",
    "    Am = designmatrix(X, N, monobasis)\n",
    "    push!(κc, cond(Ac))\n",
    "    push!(κm, cond(Am))\n",
    "end\n",
    "\n",
    "plot(; xscale = :log10, yscale = :log10, \n",
    "        xlabel = \"N\", ylabel = L\"\\kappa\", size = (400, 300), \n",
    "        legend = :topleft)\n",
    "plot!(NN, κc, lw=3, m=:o, ms=6, label = \"Chebyshev\")\n",
    "plot!(NN, κm, lw=3, m=:o, ms=6, label = \"Monomials\")"
   ]
  },
  {
   "cell_type": "code",
   "execution_count": null,
   "id": "4d7bbc9b",
   "metadata": {},
   "outputs": [],
   "source": [
    "# ERROR IN LINEAR LEAST SQUARES  \n",
    "# To demonstrate the numerical stability issues \n",
    "# we solve linear least squares with cheb basis\n",
    "# and monomial basis and compare. Theoretically, \n",
    "# with infinite precision, the solutions should \n",
    "# be identical.\n",
    "\n",
    "# samples = chebsamples \n",
    "samples = unifsamples \n",
    "\n",
    "f(x) = abs( (x - 0.7) * (x + 0.8) )^3\n",
    "NN = (2).^(3:9)\n",
    "MM = 2 * ceil.(Int, NN .* log.(NN))\n",
    "xscale = :log10\n",
    "rate = NN.^(-3.5)\n",
    "\n",
    "# f(x) = 1 / (1 + 100 * x^2)\n",
    "# NN = 5:10:100\n",
    "# MM = ceil.(Int, 2 * NN.^(3/2))\n",
    "# xscale = :linear\n",
    "# rate = 0.3*(1.1).^(-NN)\n",
    "\n",
    "\n",
    "rmse(p) = (x = samples(2_000); norm(p.(x) - f.(x)) / sqrt(length(x)))\n",
    "\n",
    "errc = [] \n",
    "errm = [] \n",
    "for (N, M) in zip(NN, MM)\n",
    "    X = samples(M)\n",
    "    F = f.(X)\n",
    "    pc = lsqfit(X, F, N, chebbasis)\n",
    "    pm = lsqfit(X, F, N, monobasis)\n",
    "    push!(errc, rmse(pc))\n",
    "    push!(errm, rmse(pm))\n",
    "end\n",
    "\n",
    "plot(; xscale = xscale, yscale = :log10, size = (400, 300))\n",
    "plot!(NN, errc, lw=2, m=:o, ms=6, label = \"chebyshev\")\n",
    "plot!(NN, errm, lw=2, m=:o, ms=6, label = \"monomials\")\n",
    "plot!(NN, rate, c=:black, ls=:dash, label = \"\")"
   ]
  },
  {
   "cell_type": "markdown",
   "id": "d3d051ad",
   "metadata": {},
   "source": [
    "## More Parameter Estimation Examples"
   ]
  },
  {
   "cell_type": "markdown",
   "id": "74e49f31",
   "metadata": {},
   "source": [
    "### Example 1:\n",
    "\n",
    "$$\n",
    "   \\langle L_m, f \\rangle = \\int x^m f(x) \\,dx \n",
    "$$\n",
    "We fit chebyshev polynomials, but we observe moments w.r.t. the monomial basis. The transformation between those bases is ill-conditioned, and this shows in conditioning of the LSQ problem."
   ]
  },
  {
   "cell_type": "code",
   "execution_count": null,
   "id": "9e93c9b2",
   "metadata": {},
   "outputs": [],
   "source": [
    "using QuadGK\n",
    "\n",
    "\"\"\"\n",
    "generates the observations f -> int f(x) x^m dx \n",
    "\"\"\"\n",
    "obs_moments(m, rtol=1e-6, atol=1e-8) = \n",
    "        f -> quadgk(x -> f(x) * x^m, -1, 1; rtol=rtol, atol=atol)[1]"
   ]
  },
  {
   "cell_type": "markdown",
   "id": "d6b3e549",
   "metadata": {},
   "source": [
    "With the above implementation in mind we can take an elegant functional approach to implementing the Least squares system... But for \"real-world\" problems (1000s to 1000000s of data, and parameters) this would like be inefficient and not a good approach."
   ]
  },
  {
   "cell_type": "code",
   "execution_count": null,
   "id": "86836d83",
   "metadata": {},
   "outputs": [],
   "source": [
    "\"\"\"\n",
    "f : target function \n",
    "fbasis : function evaluating the basis \n",
    "train : list of observations (callable)\n",
    "\"\"\"\n",
    "function lsqsys(f, fbasis, train)\n",
    "    M = length(train)\n",
    "    B = train[1](fbasis)\n",
    "    N = length(B) \n",
    "    A = zeros(M, N)\n",
    "    Y = zeros(M) \n",
    "    for (m, X) in enumerate(train)\n",
    "        Y[m] = X(f)\n",
    "        A[m, :] = X(fbasis)\n",
    "    end\n",
    "    return A, Y \n",
    "end\n",
    "\n"
   ]
  },
  {
   "cell_type": "code",
   "execution_count": null,
   "id": "a8432fc1",
   "metadata": {},
   "outputs": [],
   "source": [
    "NN = 3:2:15\n",
    "MM = ceil.(Int, 2 * NN.^(2))\n",
    "conds = [] \n",
    "sig1 = [] \n",
    "\n",
    "for (N, M) in zip(NN, MM)\n",
    "    fbasis = x -> chebbasis(x, N)\n",
    "    train = [ obs_moments(m-1) for m= 1:M ]\n",
    "    A, Y = lsqsys(f, fbasis, train)\n",
    "    push!(conds, cond(A))\n",
    "    push!(sig1, minimum(svdvals(A)))\n",
    "end\n",
    "\n",
    "ata_table([ NN conds sig1], [\"N\", \"cond(A)\", \"σ1\"] )"
   ]
  },
  {
   "cell_type": "markdown",
   "id": "e3b3dd87",
   "metadata": {},
   "source": [
    "### Example 2\n",
    "\n",
    "In the first least squares problem we consider the observations are of the form \n",
    "$$\n",
    "    f \\mapsto K^{-1} \\sum_{k=1}^K f(x_k)\n",
    "$$\n",
    "where $x_k$ are iid. The idea is that we no longer able to measure point values but can only measure \"groups of point values\", or \"averages of point values\". The initial intuition is that averages cannot be inverted and hence this might lead to an ill-conditioned parameter estimation problem."
   ]
  },
  {
   "cell_type": "code",
   "execution_count": null,
   "id": "3daa84d2",
   "metadata": {},
   "outputs": [],
   "source": [
    "\"\"\"\n",
    "This implements an observation of the form \n",
    "```\n",
    "   g -> sum_k=1^K g(x_k)\n",
    "```\n",
    "\"\"\"\n",
    "obs_sumvals(k, frand = () -> 2*rand()-1) = \n",
    "    let X = [ frand() for _= 1:k] \n",
    "        g -> sum(g.(X)) / length(X)\n",
    "    end\n"
   ]
  },
  {
   "cell_type": "code",
   "execution_count": null,
   "id": "443e35bc",
   "metadata": {},
   "outputs": [],
   "source": [
    "f(x) = 1 / (1 + 10 * x^2)\n",
    "# rate = 0.3*(exp.(- asinh(1/sqrt(10)) * NN))\n",
    "randc() = cos(pi * rand())\n",
    "\n",
    "NN = 5:5:50\n",
    "MM = ceil.(Int, 2 * NN.^(3/2))\n",
    "conds = [] \n",
    "sig1 = [] \n",
    "\n",
    "\n",
    "for (N, M) in zip(NN, MM)\n",
    "    fbasis = x -> chebbasis(x, N)\n",
    "    train = [ obs_sumvals(10, randc) for _=1:M ]\n",
    "    A, Y = lsqsys(f, fbasis, train)\n",
    "    push!(conds, cond(A))\n",
    "    push!(sig1, minimum(svdvals(A)))\n",
    "end\n",
    "\n",
    "ata_table([ NN conds sig1], [\"N\", \"cond(A)\", \"σ1\"] )"
   ]
  },
  {
   "cell_type": "markdown",
   "id": "94724722",
   "metadata": {},
   "source": [
    "### Example 3\n",
    "\n",
    "In the next example we explore what happens if we only observe the function f in a subdomain. In principle this fully determines the polynomial."
   ]
  },
  {
   "cell_type": "code",
   "execution_count": null,
   "id": "d1e32291",
   "metadata": {},
   "outputs": [],
   "source": [
    "\"\"\"\n",
    "This implements a very simple observation of the form \n",
    "```\n",
    "   g -> g(x_k)\n",
    "```\n",
    "were ``x_k in [-a, a]``\n",
    "\"\"\"\n",
    "obs_subdom(a=0.5) = \n",
    "    let x = a * (2 * rand() - 1)\n",
    "        g -> g(x)\n",
    "    end\n",
    "\n"
   ]
  },
  {
   "cell_type": "code",
   "execution_count": null,
   "id": "c8a298fc",
   "metadata": {},
   "outputs": [],
   "source": [
    "\n",
    "NN = 5:10:50\n",
    "MM = ceil.(Int, 2 * NN.^(4/3))\n",
    "conds = [] \n",
    "sig1 = [] \n",
    "\n",
    "for (N, M) in zip(NN, MM)\n",
    "    fbasis = x -> chebbasis(x, N)\n",
    "    train = [ obs_subdom() for _= 1:M ]\n",
    "    A, Y = lsqsys(f, fbasis, train)\n",
    "    push!(conds, cond(A))\n",
    "    push!(sig1, minimum(svdvals(A)))\n",
    "end\n",
    "\n",
    "ata_table([ NN conds sig1], [\"N\", \"cond(A)\", \"σ1\"] )"
   ]
  },
  {
   "cell_type": "markdown",
   "id": "8f960f5e",
   "metadata": {},
   "source": [
    "### Regularisation\n",
    "\n",
    "Example 1 is the most natural in a way, we use this to explore regularisation."
   ]
  },
  {
   "cell_type": "code",
   "execution_count": null,
   "id": "3044d05d",
   "metadata": {},
   "outputs": [],
   "source": [
    "f(x) = 1 / (1 + 4 * x^2)\n",
    "rate = 0.3*(exp.(- asinh(1/2) * NN))\n",
    "\n",
    "N = 15\n",
    "M = ceil(Int, 2*N)\n",
    "\n",
    "fbasis = x -> chebbasis(x, N)\n",
    "train = [ obs_moments(m-1) for m= 1:M ]\n",
    "# train = [ obs_sumvals(10, randc) for m= 1:M ]\n",
    "# train = [ obs_subdom() for _=1:M ]\n",
    "A, Y = lsqsys(f, fbasis, train)\n",
    "@show extrema(svdvals(A));"
   ]
  },
  {
   "cell_type": "code",
   "execution_count": null,
   "id": "193761bf",
   "metadata": {},
   "outputs": [],
   "source": [
    "# best approximation \n",
    "xe = cos.(π * range(0, 1, length=1000))\n",
    "X = chebsamples(100)\n",
    "pbest = lsqfit(X, f.(X), N, chebbasis)\n",
    "besterr = norm(f.(xe) - pbest.(xe), Inf)\n",
    "@show besterr;"
   ]
  },
  {
   "cell_type": "code",
   "execution_count": null,
   "id": "b48528cd",
   "metadata": {},
   "outputs": [],
   "source": [
    "Alpha = reverse((0.1).^(-1:0.33:7))\n",
    "Delta = reverse((0.1).^(-1:0.33:7))\n",
    "errs = zeros(length(Alpha), length(Delta))\n",
    "\n",
    "for (ia, α) in enumerate(Alpha), (id, δ) in enumerate(Delta)\n",
    "    Ar = [A; α * Matrix(I, (N,N))]\n",
    "    Yr = [Y + δ * randn(length(Y)); zeros(N)]\n",
    "    Θ = Ar \\ Yr\n",
    "    p = x -> dot(Θ, fbasis(x))\n",
    "    errs[ia, id] = norm(f.(xe) - p.(xe), Inf)\n",
    "end"
   ]
  },
  {
   "cell_type": "code",
   "execution_count": null,
   "id": "d0b67223",
   "metadata": {},
   "outputs": [],
   "source": [
    "Plots.heatmap(Alpha, Delta, log.(errs), \n",
    "                xscale = :log10, yscale = :log10, size = (400,350),\n",
    "                xlabel = L\"\\alpha\", ylabel = L\"\\delta\")"
   ]
  },
  {
   "cell_type": "code",
   "execution_count": null,
   "id": "8daf02a8",
   "metadata": {},
   "outputs": [],
   "source": [
    "plt = plot(; xscale = :log10, \n",
    "             yscale = :log10, size = (400, 300), \n",
    "             xlabel = L\"\\alpha\", ylabel = \"error\") \n",
    "σ1 = minimum(svdvals(A))\n",
    "for (ip, id) in enumerate([1, 5, 10, 15])\n",
    "    δ = Delta[id]\n",
    "    plot!(plt, Alpha, errs[:, id], c=ip, label = \"δ = $(round(δ, digits=7))\", lw=2)\n",
    "    hline!(plt, [0.05*sqrt(δ/σ1)], c=ip, ls=:dash, label = \"\")\n",
    "end\n",
    "hline!([besterr], label = \"best\", c=:red, lw=3)\n",
    "plt"
   ]
  }
 ],
 "metadata": {
  "@webio": {
   "lastCommId": null,
   "lastKernelId": null
  },
  "kernelspec": {
   "display_name": "Julia 1.7.1",
   "language": "julia",
   "name": "julia-1.7"
  },
  "language_info": {
   "file_extension": ".jl",
   "mimetype": "application/julia",
   "name": "julia",
   "version": "1.7.1"
  }
 },
 "nbformat": 4,
 "nbformat_minor": 5
}
