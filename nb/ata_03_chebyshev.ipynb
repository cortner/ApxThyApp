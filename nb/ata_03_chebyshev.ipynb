{
 "cells": [
  {
   "cell_type": "markdown",
   "id": "00de3200",
   "metadata": {},
   "source": [
    "# Approximation Theory and Applications\n",
    "\n",
    "## Chapter 4 - Algebraic Polynomials \n",
    "\n",
    "Numerical experiments with Chebshev polynomial approximation schemes.\n"
   ]
  },
  {
   "cell_type": "markdown",
   "id": "222ce112",
   "metadata": {},
   "source": [
    "### Runge's Phenomenon\n",
    "\n",
    "We consider the function $f : [-1, 1] \\to \\mathbb{R}$, \n",
    "$$\n",
    "   f(x) = \\frac{1}{1 + 25 x^2}\n",
    "$$\n",
    "Note that $f$ is analytic on $[-1,1]$, hence from our work on trigonometric approximation we expect excellent approximation properties. We choose a uniform grid, \n",
    "$$\n",
    "  x_j = -1 + 2j/N, \\qquad j = 0, \\dots, N\n",
    "$$\n",
    "and interpolate $f$ at those grid points. "
   ]
  },
  {
   "cell_type": "code",
   "execution_count": null,
   "id": "583b32b6",
   "metadata": {},
   "outputs": [],
   "source": [
    "include(\"tools.jl\")"
   ]
  },
  {
   "cell_type": "code",
   "execution_count": null,
   "id": "3b5559cd",
   "metadata": {},
   "outputs": [],
   "source": [
    "f = x -> 1/(1+25*x^2)\n",
    "NN1 = [5, 8, 10]\n",
    "NN2 =  5:5:30\n",
    "\n",
    "# do not do this - we will learn later how to do polynomial interpolation \n",
    "# in a numerically stable way.\n",
    "function naive_poly_fit(f, N)\n",
    "   X = range(-1, 1, length=N+1)\n",
    "   A = [ X[m+1]^n for m = 0:N, n = 0:N ]\n",
    "   return A \\ f.(X)\n",
    "end\n",
    "\n",
    "# don't do this either, this is just a quick naive code suitable for the \n",
    "# current experiment. \n",
    "naive_poly_eval(x, c) = sum( c[n] * x^(n-1) for n = 1:length(c) )\n",
    "\t\n",
    "# first plot \n",
    "xp = range(-1, 1, length=300)\n",
    "P1 = plot(xp, f.(xp); lw=4, label = \"exact\",\n",
    "          size = (400, 400), xlabel = L\"x\")\n",
    "for (iN, N) in enumerate(NN1)\n",
    "   xi = [(-1 + 2*m/N) for m = 0:N]\n",
    "   c = naive_poly_fit(f, N)\n",
    "   plot!(P1, xp, naive_poly_eval.(xp, Ref(c)), c = iN+1, lw=2,label = L\"p_{%$(N)}\")\n",
    "   plot!(P1, xi, f.(xi), lw=0, c = iN+1, m = :o, ms=3, label = \"\")\n",
    "end \n",
    "\n",
    "# second plot \n",
    "xerr = range(-1, 1, length=3_000)\n",
    "err = [ norm( f.(xerr) - naive_poly_eval.(xerr, Ref(naive_poly_fit(f, N))), Inf )\n",
    "      for N in NN2 ]\n",
    "P2 = plot(NN2, err, lw = 3, label = L\"\\Vert f - I_N f \\Vert\", \n",
    "         yscale = :log10, xlabel = L\"N\", legend = :topleft)\n",
    "plot(P1, P2, size = (600, 300), title = \"Witch of Agnesi\")\n"
   ]
  },
  {
   "cell_type": "markdown",
   "id": "2849fed4",
   "metadata": {},
   "source": [
    "Don't trust any package unless you know what they are using behind the scenes!!! More often than not, packages will use this naive polynomial interpolation as the default.\n",
    "\n",
    "We now know of course that Chebyshev nodes are the way to go. And while we are at it, we will also switch to the Chebyshev basis. As a reminder, the Chebushev basis is given by the recursion\n",
    "$$\n",
    "    T_0(x) = 1, \\quad T_1(x) = x, \\quad T_{n+1}(x) = 2 x T_n(x) - T_{n-1}(x).\n",
    "$$\n",
    "and the Chebyshev nodes via \n",
    "$$\n",
    "    x_j = \\cos(\\pi j/N)\n",
    "$$"
   ]
  },
  {
   "cell_type": "code",
   "execution_count": null,
   "id": "76d3be4b",
   "metadata": {},
   "outputs": [],
   "source": [
    "function chebbasis(x, N)\n",
    "   T = zeros(N+1)\n",
    "   T[1] = 1 \n",
    "   T[2] = x \n",
    "   for n = 2:N\n",
    "      T[n+1] = 2 * x * T[n] - T[n-1] \n",
    "   end \n",
    "   return T \n",
    "end\n",
    "\n",
    "chebnodes(N) = [ cos( π * n / N ) for n = N:-1:0 ]\n",
    "\n",
    "function chebinterp(f, N)\n",
    "   X = chebnodes(N)\n",
    "   A = zeros(N+1, N+1)\n",
    "   for (ix, x) in enumerate(X)\n",
    "      A[ix, :] .= chebbasis(x, N)\n",
    "   end\n",
    "   return A \\ f.(X)\n",
    "end\n",
    "\n",
    "chebeval(x, c) = dot(c, chebbasis(x, length(c)-1))\n"
   ]
  },
  {
   "cell_type": "code",
   "execution_count": null,
   "id": "fc433f9d",
   "metadata": {},
   "outputs": [],
   "source": [
    "xp = range(-1, 1, length=300)\n",
    "P1 = plot(xp, f.(xp); lw=4, label = \"exact\",\n",
    "          size = (400, 400), xlabel = L\"x\")\n",
    "for (iN, N) in enumerate(NN1)\n",
    "   xi = [(-1 + 2*m/N) for m = 0:N]\n",
    "   c = chebinterp(f, N)\n",
    "   plot!(P1, xp, chebeval.(xp, Ref(c)), c = iN+1, lw=2,label = L\"p_{%$(N)}\")\n",
    "   plot!(P1, xi, f.(xi), lw=0, c = iN+1, m = :o, ms=3, label = \"\")\n",
    "end \n",
    "\n",
    "# second plot \n",
    "xerr = range(-1, 1, length=3_000)\n",
    "err = [ norm( f.(xerr) - chebeval.(xerr, Ref(chebinterp(f, N))), Inf )\n",
    "      for N in NN2 ]\n",
    "P2 = plot(NN2, err, lw = 3, label = L\"\\Vert f - I_N f \\Vert\", \n",
    "         yscale = :log10, xlabel = L\"N\", legend = :topleft)\n",
    "plot!(P2, NN2[3:end], 4*(1.23).^(-NN2[3:end]), c=:black, ls=:dash, label = L\"\\rho^{-N}\")\n",
    "plot(P1, P2, size = (600, 300), title = \"Witch of Agnesi\")\n",
    "\n"
   ]
  },
  {
   "cell_type": "markdown",
   "id": "4547f045",
   "metadata": {},
   "source": [
    "## The Fast Chebyshev Transform\n",
    "\n",
    "Because of the intimate connection between Chebyshev polynomials and trigonometric polynomials we can use the FFT to implement the interpolation operator."
   ]
  },
  {
   "cell_type": "code",
   "execution_count": null,
   "id": "95279fbf",
   "metadata": {},
   "outputs": [],
   "source": [
    "\"\"\"\n",
    "Fast and stable implementation based on the FFT. This uses \n",
    "the connection between Chebyshev and trigonometric interpolation.\n",
    "But this transform needs the reverse chebyshev nodes.\n",
    "\"\"\"\n",
    "chebinterp(f, N) = fct(f.(reverse(chebnodes(N))))\n",
    "\n",
    "using FFTW \n",
    "\n",
    "function fct(A::AbstractVector)\n",
    "    N = length(A)\n",
    "    F = real.(ifft([A[1:N]; A[N-1:-1:2]]))\n",
    "   return [[F[1]]; 2*F[2:(N-1)]; [F[N]]]\n",
    "end\n",
    "\n",
    "\n",
    "\"\"\"\n",
    "Evaluate a polynomial with coefficients F̃ in the Chebyshev basis. \n",
    "This avoids storing the basis and is significantly faster.\n",
    "\"\"\"\n",
    "function chebeval(x, F̃) \n",
    "    T0 = one(x); T1 = x \n",
    "    p = F̃[1] * T0 + F̃[2] * T1 \n",
    "    for n = 3:length(F̃)\n",
    "        T0, T1 = T1, 2*x*T1 - T0 \n",
    "        p += F̃[n] * T1 \n",
    "    end \n",
    "    return p \n",
    "end \n"
   ]
  },
  {
   "cell_type": "code",
   "execution_count": null,
   "id": "206791eb",
   "metadata": {},
   "outputs": [],
   "source": [
    "xp = range(-1, 1, length=300)\n",
    "P1 = plot(xp, f.(xp); lw=4, label = \"exact\",\n",
    "          size = (400, 400), xlabel = L\"x\")\n",
    "for (iN, N) in enumerate(NN1)\n",
    "   xi = [(-1 + 2*m/N) for m = 0:N]\n",
    "   c = chebinterp(f, N)\n",
    "   plot!(P1, xp, chebeval.(xp, Ref(c)), c = iN+1, lw=2,label = L\"p_{%$(N)}\")\n",
    "   plot!(P1, xi, f.(xi), lw=0, c = iN+1, m = :o, ms=3, label = \"\")\n",
    "end \n",
    "\n",
    "# second plot \n",
    "xerr = range(-1, 1, length=3_000)\n",
    "err = [ norm( f.(xerr) - chebeval.(xerr, Ref(chebinterp(f, N))), Inf )\n",
    "      for N in NN2 ]\n",
    "P2 = plot(NN2, err, lw = 3, label = L\"\\Vert f - I_N f \\Vert\", \n",
    "         yscale = :log10, xlabel = L\"N\", legend = :topleft)\n",
    "plot!(P2, NN2[3:end], 4*(1.23).^(-NN2[3:end]), c=:black, ls=:dash, label = L\"\\rho^{-N}\")\n",
    "plot(P1, P2, size = (600, 300), title = \"Witch of Agnesi\")\n",
    "\n"
   ]
  },
  {
   "cell_type": "code",
   "execution_count": null,
   "id": "d741730d",
   "metadata": {},
   "outputs": [],
   "source": [
    "# let's take this to the extreme ... \n",
    "f = x -> 1 / (1 + 1000 * x^2)\n",
    "NN = 10:10:1_400 \n",
    "\n",
    "xerr = range(-1, 1, length=3_000)\n",
    "err = [ norm( f.(xerr) - chebeval.(xerr, Ref(chebinterp(f, N))), Inf )\n",
    "        for N in NN ]\n",
    "P2 = plot(NN, err, lw = 3, label = L\"\\Vert f - I_N f \\Vert\", \n",
    "         yscale = :log10, xlabel = L\"N\", legend = :topright, \n",
    "         yticks = [1.0, 1e-3, 1e-6, 1e-9, 1e-12, 1e-15])\n",
    "plot!(NN, 0*NN .+ eps(), c=:red, ls = :dot, label = \"eps\" )\n",
    "tt = [250, 750]\n",
    "plot!(tt, 4*(1+1/sqrt(1000)).^(-tt), c=:black, ls=:dash, label = L\"\\rho^{-N}\")"
   ]
  },
  {
   "cell_type": "code",
   "execution_count": null,
   "id": "603f23dd",
   "metadata": {},
   "outputs": [],
   "source": []
  },
  {
   "cell_type": "code",
   "execution_count": null,
   "id": "d08cabf0",
   "metadata": {},
   "outputs": [],
   "source": []
  },
  {
   "cell_type": "code",
   "execution_count": null,
   "id": "2cacbbad",
   "metadata": {},
   "outputs": [],
   "source": []
  },
  {
   "cell_type": "code",
   "execution_count": null,
   "id": "5787f6aa",
   "metadata": {},
   "outputs": [],
   "source": []
  },
  {
   "cell_type": "code",
   "execution_count": null,
   "id": "75698cd4",
   "metadata": {},
   "outputs": [],
   "source": []
  },
  {
   "cell_type": "markdown",
   "id": "16247ede",
   "metadata": {},
   "source": [
    "### Barycentric Interpolation "
   ]
  },
  {
   "cell_type": "code",
   "execution_count": null,
   "id": "dd7012ac",
   "metadata": {},
   "outputs": [],
   "source": [
    "function chebbary(x, f, N)\n",
    "    p = q = 0.0 \n",
    "    for j = 0:N\n",
    "        xj = cos(π*j/N)\n",
    "        fj = f(xj)\n",
    "        λj = (-1)^j * 0.5 * (1 + (1 <= j < N))\n",
    "        p += fj * λj / (x - xj)\n",
    "        q += λj / (x - xj)\n",
    "    end\n",
    "    return p/q\n",
    "end"
   ]
  },
  {
   "cell_type": "code",
   "execution_count": null,
   "id": "e55f9b66",
   "metadata": {},
   "outputs": [],
   "source": [
    "f = x -> 1 / (1 + 25 * x^2)\n",
    "xp = range(-1+0.123*1e-6, 1-0.123*1e-6, length=500)\n",
    "plot(xp, chebbary.(xp, f, 100), ylims=[-0.5, 1.5] )"
   ]
  },
  {
   "cell_type": "code",
   "execution_count": null,
   "id": "1f255772",
   "metadata": {},
   "outputs": [],
   "source": [
    "\n",
    "f = x -> 1 / (1 + 1000 * x^2)\n",
    "NN = 10:10:1200\n",
    "\n",
    "xerr = range(-1+0.123*1e-6, 1-0.123*1e-6, length=3_000)\n",
    "err = [ norm( f.(xerr) - chebbary.(xerr, f, N), Inf )\n",
    "        for N in NN ]\n",
    "P2 = plot(NN, err, lw = 3, label = L\"\\Vert f - I_N f \\Vert\", \n",
    "         yscale = :log10, xlabel = L\"N\", legend = :topright, \n",
    "         yticks = [1.0, 1e-3, 1e-6, 1e-9, 1e-12, 1e-15])\n",
    "plot!(NN, 0*NN .+ eps(), c=:red, ls = :dot, label = \"eps\" )\n",
    "tt = [250, 750]\n",
    "plot!(tt, 4*(1+1/sqrt(1000)).^(-tt), c=:black, ls=:dash, label = L\"\\rho^{-N}\")"
   ]
  },
  {
   "cell_type": "code",
   "execution_count": null,
   "id": "45ddc5dc",
   "metadata": {},
   "outputs": [],
   "source": []
  },
  {
   "cell_type": "code",
   "execution_count": null,
   "id": "20c8425c",
   "metadata": {},
   "outputs": [],
   "source": []
  }
 ],
 "metadata": {
  "@webio": {
   "lastCommId": "19e78610e5d34e1bab89c343f4de7f70",
   "lastKernelId": "024d255e-60f3-49de-98ee-c3706f5131de"
  },
  "kernelspec": {
   "display_name": "Julia 1.7.1",
   "language": "julia",
   "name": "julia-1.7"
  },
  "language_info": {
   "file_extension": ".jl",
   "mimetype": "application/julia",
   "name": "julia",
   "version": "1.7.1"
  }
 },
 "nbformat": 4,
 "nbformat_minor": 5
}
