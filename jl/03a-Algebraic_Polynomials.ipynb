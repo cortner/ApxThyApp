{
 "cells": [
  {
   "cell_type": "markdown",
   "metadata": {},
   "source": [
    "# MA3J8 Approximation Theory and Applications \n",
    "\n",
    "## 03a - Algebraic Polynomials\n",
    "\n",
    "\n"
   ]
  },
  {
   "cell_type": "code",
   "execution_count": null,
   "metadata": {},
   "outputs": [],
   "source": [
    "using SoftGlobalScope, LinearAlgebra, LaTeXStrings, Plots\n",
    "gr();"
   ]
  },
  {
   "cell_type": "markdown",
   "metadata": {},
   "source": [
    "### 03-1 - Runge's Phenomenon\n",
    "\n",
    "We consider the function $f : [-1, 1] \\to \\mathbb{R}$, \n",
    "$$\n",
    "   f(x) = \\frac{1}{1 + 25 x^2}\n",
    "$$\n",
    "Note that $f$ is analytic on $[-1,1]$, hence from our work on trigonometric approximation we expect excellent approximation properties. We choose a uniform grid, \n",
    "$$\n",
    "  x_j = -1 + 2j/N, \\qquad j = 0, \\dots, N\n",
    "$$\n",
    "and interpolate $f$ at those grid points. "
   ]
  },
  {
   "cell_type": "code",
   "execution_count": null,
   "metadata": {},
   "outputs": [],
   "source": [
    "using Polynomials\n",
    "f(x) = 1 / (1 + 25 * x^2)\n",
    "N = 10\n",
    "X = range(-1, stop=1, length=N)\n",
    "p = polyfit(X, f.(X))\n",
    "xp = range(-1, stop=1, length=200)\n",
    "plot(xp, f.(xp), lw=2, label = \"f\")\n",
    "plot!(xp, p.(xp), lw=2, label = \"p$N\")\n",
    "plot!(X, f.(X), lw=0, m=:o, ms=6, c=2, label = \"\")"
   ]
  },
  {
   "cell_type": "markdown",
   "metadata": {},
   "source": [
    "this does not look great. Maybe we just aren't using enough points?"
   ]
  },
  {
   "cell_type": "code",
   "execution_count": null,
   "metadata": {},
   "outputs": [],
   "source": [
    "xp = range(-1, stop=1, length=400)\n",
    "P = plot(xp, f.(xp), lw=2, label = \"f\")\n",
    "for N in [10, 20, 30]\n",
    "    X = range(-1, stop=1, length=N)\n",
    "    p = polyfit(X, f.(X))\n",
    "    plot!(P, xp, abs.(p.(xp)), lw=2, label = \"p$N\", yaxis = (:log, [1e-2, 1e3]))\n",
    "end \n",
    "P"
   ]
  },
  {
   "cell_type": "markdown",
   "metadata": {},
   "source": [
    "Clearly, the approximations **diverge**. This is called the Runge phenomenon. It is by no means an indicator that polynomials are poor basis functions for approximation. For example, let us use a least-squares fit w.r.t. exact function values on a fine grid. "
   ]
  },
  {
   "cell_type": "code",
   "execution_count": null,
   "metadata": {},
   "outputs": [],
   "source": [
    "xp = range(-1, stop=1, length=400)\n",
    "P = plot(xp, f.(xp), lw=2, label = \"f\")\n",
    "err = []\n",
    "NN = [10, 20, 30, 40]\n",
    "for N in NN\n",
    "    X = range(-1, stop=1, length=N)\n",
    "    p = polyfit(xp, f.(xp), N)\n",
    "    plot!(P, xp, p.(xp), lw=2, label = \"p$N\")\n",
    "    push!(err, norm(f.(xp) - p.(xp), Inf))\n",
    "end \n",
    "plot(P, plot(NN, err, lw=2, m=:o, yaxis = (:log,), label = \"\"), layout = (1,2))"
   ]
  },
  {
   "cell_type": "markdown",
   "metadata": {},
   "source": [
    "We have recovered what looks like exponential convergence! Clearly there is something we need to understand."
   ]
  },
  {
   "cell_type": "code",
   "execution_count": null,
   "metadata": {},
   "outputs": [],
   "source": []
  },
  {
   "cell_type": "markdown",
   "metadata": {},
   "source": [
    "### 03-2 Interpolation on Chebyshev Points\n",
    "\n",
    "In the lecture notes we have motivated the Chebyshev interpolation nodes \n",
    "$$\n",
    "  x_j = \\cos(\\pi j/ N)\n",
    "$$\n",
    "We can now check whether they fix the problem we had with equispaced nodes."
   ]
  },
  {
   "cell_type": "code",
   "execution_count": null,
   "metadata": {},
   "outputs": [],
   "source": [
    "chebnodes(N) = [ cos(j*π/N) for j = N:-1:0 ]"
   ]
  },
  {
   "cell_type": "code",
   "execution_count": null,
   "metadata": {},
   "outputs": [],
   "source": [
    "xp = range(-1, stop=1, length=400)\n",
    "P = plot(xp, f.(xp), lw=2, label = \"f\")\n",
    "NN = [10, 20, 30, 40]\n",
    "errcheb = []\n",
    "errfit = [] \n",
    "for N in NN\n",
    "    X = chebnodes(N)\n",
    "    pcheb = polyfit(X, f.(X))\n",
    "    plot!(P, xp, pcheb.(xp), lw=2, label = \"p$N\")\n",
    "    pfit = polyfit(xp, f.(xp), N)\n",
    "    push!(errcheb, norm(f.(xp) - pcheb.(xp), Inf))\n",
    "    push!(errfit, norm(f.(xp) - pfit.(xp), Inf))    \n",
    "end \n",
    "plot(P, \n",
    "     plot(NN, [errfit, errcheb], lw=2, m=:o, \n",
    "          label = [\"fit\", \"cheb\"], yaxis = (:log,)), \n",
    "     layout = (1,2))"
   ]
  },
  {
   "cell_type": "markdown",
   "metadata": {},
   "source": [
    "This is excellent news. We will start from here and explore this in a lot more detail.\n",
    "\n",
    "Next, we observe another problem: evaluating the Chebyshev interpolant is numerically unstable! (At least how it is implemented in the `Polynomials.jl` package. We will return to this later."
   ]
  },
  {
   "cell_type": "code",
   "execution_count": null,
   "metadata": {},
   "outputs": [],
   "source": [
    "NN = 10:4:80\n",
    "errcheb = []\n",
    "for N in NN\n",
    "    X = chebnodes(N)\n",
    "    pcheb = polyfit(X, f.(X))\n",
    "    push!(errcheb, norm(f.(xp) - pcheb.(xp), Inf))\n",
    "end \n",
    "plot(NN, errcheb, lw=2, m=:o,  label = \"\", yaxis = (:log,))"
   ]
  },
  {
   "cell_type": "markdown",
   "metadata": {},
   "source": [
    "Nevertheless, we can still explore Chebyshev interpolation on some examples - as long as we remain aware of the limitation due to numerical instability. The following results look promising but the numerical stability is clearly a severe limitation for us. We will therefore explore the errors in a little more details after implementing the barycentric formula."
   ]
  },
  {
   "cell_type": "code",
   "execution_count": null,
   "metadata": {},
   "outputs": [],
   "source": [
    "f1(x) = 1 / (1+x^2)\n",
    "f2(x) = 1 / (1+25*x^2)\n",
    "f3(x) = sin(3*x)\n",
    "f4(x) = abs(sin(3*x))^3\n",
    "f5(x) = abs(x)\n",
    "f6(x) = sign(x) * abs(x)^(3/2)\n",
    "f7(x) = exp(-x^2)\n",
    "\n",
    "fall = [f1, f2, f3, f4, f5, f6, f7]\n",
    "nalg = [4,5,6]\n",
    "falg = fall[nalg]\n",
    "nana = [1, 2, 3, 7]\n",
    "fana = fall[nana]\n",
    "\n",
    ";"
   ]
  },
  {
   "cell_type": "code",
   "execution_count": null,
   "metadata": {},
   "outputs": [],
   "source": [
    "# Chebyshev Interpolation error for functions with exponential rates \n",
    "# ------------------------------------------------------------------\n",
    "# For these functions, the convergence is fast, so we don't hit \n",
    "# the numerical instability, at least for the fast converging ones\n",
    "# ------------------------------------------------------------------\n",
    "NN = 2:6:100\n",
    "xerr = range(-1, stop=1, length=1_000)\n",
    "P = plot(xaxis = (L\"N\",), \n",
    "         yaxis = (:log, L\"\\| f - I_N f\\|_{L^\\infty}\"), \n",
    "         legend=:right)\n",
    "for (f, n) in zip(fana, nana)\n",
    "    err = []\n",
    "    for N in NN \n",
    "        X = chebnodes(N)\n",
    "        p = polyfit(X, f.(X))\n",
    "        push!(err, norm(f.(xerr) - p.(xerr), Inf))\n",
    "    end\n",
    "    plot!(P, NN, err, lw=2, m=:o, ms=6, label = \"f$n\")\n",
    "end \n",
    "P"
   ]
  },
  {
   "cell_type": "code",
   "execution_count": null,
   "metadata": {},
   "outputs": [],
   "source": [
    "# Chebyshev Interpolation error for functions with algebraic rates \n",
    "# ---------------------------------------------------------------\n",
    "# But for the more slowly converging tests, we get into the \n",
    "# regime of numerical instability very quickly\n",
    "# ---------------------------------------------------------------\n",
    "\n",
    "NN = (2).^(2:8)\n",
    "xerr = range(-1, stop=1, length=1_000)\n",
    "P = plot(xaxis = (:log, L\"N\"), \n",
    "         yaxis = (:log, L\"\\| f - I_N f\\|_{L^\\infty}\"), \n",
    "         legend=:top)\n",
    "for (f, n) in zip(falg, nalg)\n",
    "    err = []\n",
    "    for N in NN \n",
    "        X = chebnodes(N)\n",
    "        p = polyfit(X, f.(X))\n",
    "        push!(err, norm(f.(xerr) - p.(xerr), Inf))\n",
    "    end\n",
    "    plot!(P, NN, err, lw=2, m=:o, ms=6, label = \"f$n\")\n",
    "end \n",
    "P"
   ]
  },
  {
   "cell_type": "markdown",
   "metadata": {},
   "source": [
    "## 03-3 Barycentric Formula\n",
    "\n",
    "In Sec. 4.4 we derived the baycentric interpolation formula and showed that one of its variants is numerically stable. As a matter of fact, both are stable but for the one we are using here this is a little more involved to prove. Here, we implement the specific formula for chebyshev points."
   ]
  },
  {
   "cell_type": "code",
   "execution_count": null,
   "metadata": {},
   "outputs": [],
   "source": [
    "\"\"\"\n",
    "Barycentric interpolation with a Chebyshev grid with N grid points.\n",
    "The interpolant is evaluated at points `x`.\n",
    "\"\"\"\n",
    "function bary(f::Function, N, x)\n",
    "    X = chebnodes(N)\n",
    "    F = f.(X)\n",
    "    return bary(F, x; X=X)\n",
    "end\n",
    "\n",
    "function bary(F::Vector, x; X = chebnodes(length(F)-1))\n",
    "    N = length(F)-1\n",
    "    p = 0.5 * ( F[1] ./ (x .- X[1]) + (-1)^N * F[N+1] ./(x .- X[N+1]) )\n",
    "    q = 0.5 * (1.0 ./ (x .- X[1]) + (-1)^N ./ (x .- X[N+1]))\n",
    "    for n = 1:N-1\n",
    "        p += (-1)^n * F[n+1] ./ (x .- X[n+1])\n",
    "        q += (-1)^n ./ (x .- X[n+1])\n",
    "    end \n",
    "    return p ./ q    \n",
    "end\n",
    "\n",
    "\"\"\"\n",
    "generate a grid on which to plot errors; this is chosen to avoid \n",
    "any grid points since barycentric interpolation is not defined \n",
    "on those.\n",
    "\"\"\"\n",
    "errgrid(Np) = range(-1+0.0123, stop=1-0.00321, length=Np)"
   ]
  },
  {
   "cell_type": "code",
   "execution_count": null,
   "metadata": {},
   "outputs": [],
   "source": [
    "# back to our opening example : no sign of instability, \n",
    "# and we  get precisely the prediced rate.\n",
    "# ------------------------------------------------------\n",
    "f(x) = 1/(1+25*x^2)\n",
    "xp = errgrid(1000)\n",
    "NN = 2:10:250\n",
    "err = [ norm(f.(xp) - bary(f, N, xp), Inf) for N = NN]\n",
    "pred = 1.5*exp.(-NN/5)\n",
    "plot(NN, [err, pred], lw=2, m=:o, \n",
    "    label=[\"err\", \"exp(-N/5)\"], yaxis = (:log,))"
   ]
  },
  {
   "cell_type": "code",
   "execution_count": null,
   "metadata": {},
   "outputs": [],
   "source": [
    "# The algebraically converging functions revisited, \n",
    "# this time with the predicted slopes \n",
    "# ---------------------------------------------------\n",
    "NN = (2).^(2:10)\n",
    "xerr = range(-1+0.00012, stop=1-0.000032, length=1_000)\n",
    "P = plot(xaxis = (:log, L\"N\"), \n",
    "         yaxis = (:log, L\"\\| f - I_N f\\|_{L^\\infty}\"), \n",
    "         legend=:bottom)\n",
    "for (f, n) in zip(falg, nalg)\n",
    "    err = [ norm(f.(xerr) - bary(f, N, xerr), Inf)  for N in NN ]\n",
    "    plot!(P, NN, err, lw=2, m=:o, ms=6, label = \"f$n\")\n",
    "end \n",
    "t = [NN[5], NN[8]]\n",
    "plot!(P, t, 1*t.^(-1.), lw=2, ls=:dash, c=:black, label=L\"\\sim N^{-1}, N^{-3/2}, N^{-3}\")\n",
    "plot!(P, t, t.^(-3/2), lw=2, ls=:dash, c=:black, label=\"\")\n",
    "plot!(P, t, 12*t.^(-3.), lw=2, ls=:dash, c=:black, label=\"\")\n",
    "P"
   ]
  },
  {
   "cell_type": "code",
   "execution_count": null,
   "metadata": {},
   "outputs": [],
   "source": [
    "# the exponentially convergent functions revisited \n",
    "# f1, f2 get the prediced slopes, \n",
    "# f3, f7 are entire\n",
    "# ---------------------------------------------------\n",
    "NN = 2:4:46\n",
    "xerr = range(-1+0.00012, stop=1-0.000032, length=1_000)\n",
    "P = plot(xaxis = (L\"N\",), \n",
    "         yaxis = (:log, L\"\\| f - I_N f\\|_{L^\\infty}\"), \n",
    "         legend=:right)\n",
    "for (f, n) in zip(fana, nana)\n",
    "    err = [ norm(f.(xerr) - bary(f, N, xerr), Inf)  for N in NN ]\n",
    "    plot!(P, NN, err, lw=2, m=:o, ms=6, label = \"f$n\")\n",
    "end \n",
    "t = [NN[5], NN[8]]\n",
    "plot!(P, t, [exp.(-t), 0.1*exp.(-t/5)], \n",
    "      lw=2, ls=:dash, c=:black, \n",
    "      label=L\"\\sim e^{-N}, e^{-5N}\")\n",
    "P"
   ]
  }
 ],
 "metadata": {
  "@webio": {
   "lastCommId": null,
   "lastKernelId": null
  },
  "kernelspec": {
   "display_name": "Julia 1.3.1",
   "language": "julia",
   "name": "julia-1.3"
  },
  "language_info": {
   "file_extension": ".jl",
   "mimetype": "application/julia",
   "name": "julia",
   "version": "1.3.1"
  }
 },
 "nbformat": 4,
 "nbformat_minor": 2
}
