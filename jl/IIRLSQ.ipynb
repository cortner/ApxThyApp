{
 "cells": [
  {
   "cell_type": "markdown",
   "metadata": {},
   "source": [
    "# Iteratively Reweighted Least Squares"
   ]
  },
  {
   "cell_type": "code",
   "execution_count": null,
   "metadata": {},
   "outputs": [],
   "source": [
    "using LinearAlgebra, Printf, Plots"
   ]
  },
  {
   "cell_type": "code",
   "execution_count": null,
   "metadata": {},
   "outputs": [],
   "source": [
    "function wlsq(A, y, w) \n",
    "    W = Diagonal(sqrt.(w))\n",
    "    return qr(W * A) \\ (W * y)\n",
    "end \n",
    "\n",
    "function irlsq(A, y; tol=1e-5, maxnit = 100, γ = 1.0, γmin = 1e-6, verbose=true)\n",
    "    M, N = size(A)\n",
    "    @assert M == length(y)\n",
    "    wold = w = ones(M) / M\n",
    "    res = 1e300\n",
    "    x = zeros(N)\n",
    "    verbose  && @printf(\"  n   | ||f-p||_inf |  extrema(w) \\n\")\n",
    "    verbose  && @printf(\"------|-------------|---------------------\\n\")\n",
    "    for nit = 1:maxnit \n",
    "        x = wlsq(A, y, w)\n",
    "        \n",
    "        resnew = norm(y - A * x, Inf)\n",
    "        verbose  && @printf(\" %4d |   %.2e  |  %.2e  %.2e \\n\", nit, resnew, extrema(w)...)\n",
    "\n",
    "        # update\n",
    "        wold = w\n",
    "        res = resnew\n",
    "        wnew = w .* (abs.(y - A * x).^γ .+ 1e-15)\n",
    "        wnew /= sum(wnew)\n",
    "        w = wnew \n",
    "    end\n",
    "    return x, w, res \n",
    "end"
   ]
  },
  {
   "cell_type": "code",
   "execution_count": null,
   "metadata": {},
   "outputs": [],
   "source": [
    "using FFTW\n",
    "# we first implement the fast chebyshev transform \n",
    "\n",
    "revchebnodes(N) = [ cos(j*π/N) for j = 0:N ]\n",
    "\n",
    "function fct(F)\n",
    "    N = length(F)-1\n",
    "    G = [F; F[N:-1:2]]\n",
    "    Ĝ = real.(ifft(G))\n",
    "    return [Ĝ[1]; 2 * Ĝ[2:N]; Ĝ[N+1]]\n",
    "end \n",
    "\n",
    "function cheb_basis(x::T, N) where {T}\n",
    "    B = zeros(T, N+1)\n",
    "    B[1] = 1.0 \n",
    "    B[2] = x \n",
    "    for k = 2:N \n",
    "        B[k+1] = 2 * x * B[k] - B[k-1]\n",
    "    end\n",
    "    return B\n",
    "end\n",
    "\n",
    "eval_chebpoly(F̃, x) = dot(F̃, cheb_basis(x, length(F̃)-1))"
   ]
  },
  {
   "cell_type": "code",
   "execution_count": null,
   "metadata": {},
   "outputs": [],
   "source": [
    "Nx = 1_000\n",
    "Nb = 10\n",
    "f = x -> abs(sin(x))^3  \n",
    "\n",
    "X = revchebnodes(Nx-1)\n",
    "A = zeros(Nx, Nb)\n",
    "for n = 1:Nx \n",
    "    A[n, :] = cheb_basis(X[n], Nb-1)\n",
    "end\n",
    "y = f.(X)\n",
    "\n",
    "x, w, res = irlsq(A, y; maxnit = 20);"
   ]
  },
  {
   "cell_type": "code",
   "execution_count": null,
   "metadata": {},
   "outputs": [],
   "source": [
    "P0 = plot(X, f.(X), lw = 2, label = \"f\")\n",
    "P1 = plot(X, w, lw=2, label = \"w\")\n",
    "P2 = plot(X, y - A * x, lw=2,  label = \"err\")\n",
    "emax = norm(y - A * x, Inf)\n",
    "plot!(P2, [-1,1], [emax, emax], lw=2, c=2, label=\"±max-err\")\n",
    "plot!(P2, [-1,1], [-emax, -emax], lw=2, c=2, label=\"\")\n",
    "plot(P0, P1, P2, layout = grid(3,1), size = (500, 600))"
   ]
  },
  {
   "cell_type": "code",
   "execution_count": null,
   "metadata": {},
   "outputs": [],
   "source": []
  },
  {
   "cell_type": "code",
   "execution_count": null,
   "metadata": {},
   "outputs": [],
   "source": [
    "Nx = 10_000\n",
    "Nb = 30\n",
    "β = 100\n",
    "# f = x -> sin( (1+x) * π/4 )\n",
    "f = x ->  1/(1 + exp(β * x))\n",
    "\n",
    "X = revchebnodes(Nx-1)\n",
    "A = zeros(Nx, Nb)\n",
    "for n = 1:Nx \n",
    "    A[n, :] = cheb_basis(X[n], Nb-1)\n",
    "end\n",
    "y = f.(X)\n",
    "\n",
    "x, w, res = irlsq(A, y; maxnit=20);"
   ]
  },
  {
   "cell_type": "code",
   "execution_count": null,
   "metadata": {},
   "outputs": [],
   "source": [
    "P0 = plot(X, f.(X), lw = 2, label = \"f\")\n",
    "P1 = plot(X, w, lw=2, label = \"w\")\n",
    "P2 = plot(X, y - A * x, lw=2,  label = \"err\")\n",
    "emax = norm(y - A * x, Inf)\n",
    "plot!(P2, [-1,1], [emax, emax], lw=2, c=2, label=\"±max-err\")\n",
    "plot!(P2, [-1,1], [-emax, -emax], lw=2, c=2, label=\"\")\n",
    "plot(P0, P1, P2, layout = grid(3,1), size=(500, 600))"
   ]
  },
  {
   "cell_type": "code",
   "execution_count": null,
   "metadata": {},
   "outputs": [],
   "source": []
  },
  {
   "cell_type": "code",
   "execution_count": null,
   "metadata": {},
   "outputs": [],
   "source": [
    "using Remez, LaTeXStrings\n",
    "\n",
    "chebnodes(N) = [ cos(j*π/N) for j = N:-1:0 ]\n",
    "function bary(f::Function, N, x)\n",
    "    X = chebnodes(N)\n",
    "    F = f.(X)\n",
    "    return bary(F, x; X=X)\n",
    "end\n",
    "function bary(F::Vector, x; X = chebnodes(length(F)-1))\n",
    "    N = length(F)-1\n",
    "    p = 0.5 * ( F[1] ./ (x .- X[1]) + (-1)^N * F[N+1] ./(x .- X[N+1]) )\n",
    "    q = 0.5 * (1.0 ./ (x .- X[1]) + (-1)^N ./ (x .- X[N+1]))\n",
    "    for n = 1:N-1\n",
    "        p += (-1)^n * F[n+1] ./ (x .- X[n+1])\n",
    "        q += (-1)^n ./ (x .- X[n+1])\n",
    "    end \n",
    "    return p ./ q    \n",
    "end\n",
    "errgrid(Np) = range(-1+0.0123, stop=1-0.00321, length=Np)\n",
    "\n",
    "function firlsq(f, Nx, Nb)\n",
    "    X = revchebnodes(Nx-1)\n",
    "    A = zeros(Nx, Nb)\n",
    "    for n = 1:Nx \n",
    "        A[n, :] = cheb_basis(X[n], Nb-1)\n",
    "    end\n",
    "    y = f.(X)\n",
    "    x, w, res = irlsq(A, y; maxnit=100, verbose=false)\n",
    "end"
   ]
  },
  {
   "cell_type": "code",
   "execution_count": null,
   "metadata": {},
   "outputs": [],
   "source": [
    "# Chebyshev vs Remez vs IIRLSQ for the Fermi-Dirac Example \n",
    "# ---------------------------------------------------------\n",
    "β = 100\n",
    "f = x -> 1/(1+exp(β*x))\n",
    "\n",
    "NN = 10:10:100\n",
    "Nr = 5:5:60\n",
    "\n",
    "xerr = errgrid(10_000)\n",
    "err = [ norm(f.(xerr) - bary(f, N, xerr), Inf)  for N in NN ]\n",
    "errremez = [ ratfn_minimax(f, (-1, 1), N, 0)[3] for N in Nr ]\n",
    "errirlsq = [ firlsq(f, N * 100, N)[3]           for N in Nr ]\n",
    "P = plot(xaxis = (L\"N (degree)\",), \n",
    "         yaxis = (:log, L\"\\| f - I_{NM} f\\|_{L^\\infty}\"))\n",
    "plot!(NN, err, lw=2, m=:o, label = \"cheb\")\n",
    "plot!(Nr, errremez, lw=2, m=:o, label = \"Remez\")\n",
    "plot!(Nr, errirlsq, lw=2, m=:o, label = \"IRLSQ\")"
   ]
  },
  {
   "cell_type": "code",
   "execution_count": null,
   "metadata": {},
   "outputs": [],
   "source": [
    "# Chebyshev vs Remez vs IIRLSQ for the Fermi-Dirac Example \n",
    "# ---------------------------------------------------------\n",
    "β = 100\n",
    "f = x -> 1/(1+exp(β*x))\n",
    "Nr = 20:20:200\n",
    "@printf(\"   N  |  remez    irlsq \\n\")\n",
    "@printf(\"------|--------------------\\n\")\n",
    "for N in Nr \n",
    "    err_remez = try \n",
    "        ratfn_minimax(f, (-1, 1), N, 0)[3]\n",
    "    catch\n",
    "        NaN \n",
    "    end\n",
    "    err_irlsq = try\n",
    "        firlsq(f, N * 100, N)[3] \n",
    "    catch \n",
    "        NaN\n",
    "    end\n",
    "    @printf(\" %4d | %.2e  %.2e \\n\", N, err_remez, err_irlsq)\n",
    "end\n"
   ]
  },
  {
   "cell_type": "code",
   "execution_count": null,
   "metadata": {},
   "outputs": [],
   "source": []
  }
 ],
 "metadata": {
  "@webio": {
   "lastCommId": null,
   "lastKernelId": null
  },
  "kernelspec": {
   "display_name": "Julia 1.3.1",
   "language": "julia",
   "name": "julia-1.3"
  },
  "language_info": {
   "file_extension": ".jl",
   "mimetype": "application/julia",
   "name": "julia",
   "version": "1.3.1"
  }
 },
 "nbformat": 4,
 "nbformat_minor": 2
}
