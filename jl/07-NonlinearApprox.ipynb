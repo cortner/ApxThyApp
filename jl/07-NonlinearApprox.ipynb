{
 "cells": [
  {
   "cell_type": "markdown",
   "metadata": {},
   "source": [
    "# MA3J8 Approximation Theory and Applications\n",
    "\n",
    "## 07 - Examples of Nonlinear Approximation\n",
    "\n"
   ]
  },
  {
   "cell_type": "code",
   "execution_count": null,
   "metadata": {},
   "outputs": [],
   "source": []
  },
  {
   "cell_type": "code",
   "execution_count": null,
   "metadata": {},
   "outputs": [],
   "source": [
    "using Plots, Remez, LaTeXStrings, LinearAlgebra; gr()\n",
    "\n",
    "chebnodes(N) = [ cos(j*π/N) for j = N:-1:0 ]\n",
    "function bary(f::Function, N, x)\n",
    "    X = chebnodes(N)\n",
    "    F = f.(X)\n",
    "    return bary(F, x; X=X)\n",
    "end\n",
    "function bary(F::Vector, x; X = chebnodes(length(F)-1))\n",
    "    N = length(F)-1\n",
    "    p = 0.5 * ( F[1] ./ (x .- X[1]) + (-1)^N * F[N+1] ./(x .- X[N+1]) )\n",
    "    q = 0.5 * (1.0 ./ (x .- X[1]) + (-1)^N ./ (x .- X[N+1]))\n",
    "    for n = 1:N-1\n",
    "        p += (-1)^n * F[n+1] ./ (x .- X[n+1])\n",
    "        q += (-1)^n ./ (x .- X[n+1])\n",
    "    end \n",
    "    return p ./ q    \n",
    "end\n",
    "errgrid(Np) = range(-1+0.0123, stop=1-0.00321, length=Np)"
   ]
  },
  {
   "cell_type": "markdown",
   "metadata": {},
   "source": [
    "### 07-1 Example 1: Pole removal"
   ]
  },
  {
   "cell_type": "code",
   "execution_count": null,
   "metadata": {},
   "outputs": [],
   "source": []
  },
  {
   "cell_type": "code",
   "execution_count": null,
   "metadata": {},
   "outputs": [],
   "source": [
    "# recall the standard polynomial approximation for the\n",
    "# Fermi-dirac function \n",
    "β = 100\n",
    "f(x) = 1/(1+exp(β*x))"
   ]
  },
  {
   "cell_type": "code",
   "execution_count": null,
   "metadata": {},
   "outputs": [],
   "source": [
    "NN = 10:10:100\n",
    "xerr = errgrid(1_000)\n",
    "P = plot(xaxis = (L\"N\",), \n",
    "         yaxis = (:log, L\"\\| f - I_N f\\|_{L^\\infty}\"))\n",
    "err = [ norm(f.(xerr) - bary(f, N, xerr), Inf)  for N in NN ]\n",
    "t = [NN[5], NN[8]]\n",
    "plot!(NN, err, lw=2, m=:o, label = \"poly\")\n",
    "plot!(t, exp.(-π/β*t), lw=2, ls=:dash, c=:black, label=L\"\\sim e^{-\\pi/\\beta N}\")"
   ]
  },
  {
   "cell_type": "code",
   "execution_count": null,
   "metadata": {},
   "outputs": [],
   "source": [
    "# construct the first few fn and look at those rates\n",
    "# --------------------------------------------------\n",
    "α(n) = (2*n-1)*π/β\n",
    "g(x,n) = -2/β*x/(x^2+α(n)^2)\n",
    "f(x, n) = (n == 0 ? f(x) : f(x,n-1) - g(x,n))"
   ]
  },
  {
   "cell_type": "code",
   "execution_count": null,
   "metadata": {},
   "outputs": [],
   "source": [
    "NN = 10:10:100\n",
    "xerr = errgrid(1_000)\n",
    "P = plot(xaxis = (L\"N\",), \n",
    "         yaxis = (:log, L\"\\| f - I_N f\\|_{L^\\infty}\"))\n",
    "err0 = [ norm(f.(xerr) - bary(f, N, xerr), Inf)  for N in NN ]\n",
    "err1 = [ norm(f.(xerr, 1) - bary(x->f(x,1), N, xerr), Inf)  for N in NN ]\n",
    "err2 = [ norm(f.(xerr, 2) - bary(x->f(x,2), N, xerr), Inf)  for N in NN ]\n",
    "err3 = [ norm(f.(xerr, 3) - bary(x->f(x,3), N, xerr), Inf)  for N in NN ]\n",
    "t = [NN[5], NN[8]]\n",
    "plot!(NN, err, lw=2, m=:o, label = \"f\")\n",
    "plot!(NN, err1, lw=2, m=:o, label = \"f1\")\n",
    "plot!(NN, err2, lw=2, m=:o, label = \"f2\")\n",
    "plot!(NN, err3, lw=2, m=:o, label = \"f3\")\n",
    "plot!(t, [exp.(-α(n)*t) for n = 1:4], lw=2, ls=:dash, c=:black, label=\"\")"
   ]
  },
  {
   "cell_type": "code",
   "execution_count": null,
   "metadata": {},
   "outputs": [],
   "source": [
    "# Now let's try to make this super-exponential\n",
    "Nr = 5:5:60\n",
    "xerr = errgrid(1_000)\n",
    "P = plot(xaxis = (L\"N\",), \n",
    "         yaxis = (:log, L\"\\| f - I_{NM} f\\|_{L^\\infty}\"))\n",
    "errsuper = [] \n",
    "for N = Nr \n",
    "    n = ceil(Int,N/4)\n",
    "    push!(errsuper, norm(f.(xerr, n) - bary(x->f(x,n), N, xerr), Inf))\n",
    "end \n",
    "plot!(NN, err, lw=2, m=:o, label = \"f\")\n",
    "plot!(NN, err1, lw=2, m=:o, label = \"f1\")\n",
    "plot!(NN, err2, lw=2, m=:o, label = \"f2\")\n",
    "plot!(NN, err3, lw=2, m=:o, label = \"f3\")\n",
    "plot!(Nr, errsuper, lw=2, m=:o, label = \"rational\")"
   ]
  },
  {
   "cell_type": "code",
   "execution_count": null,
   "metadata": {},
   "outputs": [],
   "source": []
  },
  {
   "cell_type": "markdown",
   "metadata": {},
   "source": [
    "### 07-02 Example 2: |x|\n",
    "\n",
    "Our second example concerns the rational approximation of $f(x) = |x|$. "
   ]
  },
  {
   "cell_type": "code",
   "execution_count": null,
   "metadata": {},
   "outputs": [],
   "source": [
    "# construct the rational approximation\n",
    "# ------------------------------------\n",
    "function rabs(x, n) \n",
    "    h = 2*π/sqrt(n)\n",
    "    K = max(1, (n-2)÷4)\n",
    "    return 2*h*x^2/π * sum( exp(k*h)/(x^2+exp(2*k*h)) for k = -K:K )\n",
    "end"
   ]
  },
  {
   "cell_type": "code",
   "execution_count": null,
   "metadata": {},
   "outputs": [],
   "source": [
    "NN = 10:20:200\n",
    "xerr = errgrid(1_000)\n",
    "P = plot(xaxis = (:log, L\"N\",), \n",
    "         yaxis = (:log, L\"\\| f - I_{NM} f\\|_{L^\\infty}\"), \n",
    "         legend=:left)\n",
    "err_poly = [ norm(abs.(xerr) - bary(abs, 2*N, xerr), Inf) for N in NN ]\n",
    "err_rat = [ norm(abs.(xerr) - rabs.(xerr, N), Inf) for N in NN ]\n",
    "t = NN[5:end]\n",
    "plot!(NN, err_poly, lw=2, m=:o, label = \"cheb\")\n",
    "plot!(t, 0.5*t.^(-1), c=:black, ls=:dash, lw=2, label=L\"N^{-1}, e^{-\\pi/2 \\sqrt{N}}\")\n",
    "plot!(NN, err_rat, lw=2, m=:o, label = \"rational\")\n",
    "plot!(t, 8*exp.(-π/2*t.^(1/2)), c=:black, lw=2, ls=:dash, label = \"\")"
   ]
  },
  {
   "cell_type": "markdown",
   "metadata": {},
   "source": [
    "### 07-03 Best Approximation / Remez\n",
    "\n",
    "To conclude this section perform a few final tests with the Remez algorithm to see who best approximation compares against our previously constructed examples. A Remez algorithm implementation in `Julia` is given by the package `Remez.jl`."
   ]
  },
  {
   "cell_type": "code",
   "execution_count": null,
   "metadata": {},
   "outputs": [],
   "source": [
    "?ratfn_minimax"
   ]
  },
  {
   "cell_type": "code",
   "execution_count": null,
   "metadata": {},
   "outputs": [],
   "source": []
  },
  {
   "cell_type": "code",
   "execution_count": null,
   "metadata": {},
   "outputs": [],
   "source": [
    "# a basic \"special function\" that we tried to implement\n",
    "# the result here is rather disappointing...\n",
    "# --------------------------------------------------------\n",
    "f(x) = sin( (1+x)*π/4 )\n",
    "tsin(N, x) = imag(sum((im*x)^n / factorial(n) for n = 0:N))\n",
    "ft(N, x) = tsin(N, (1+x)*π/4)\n",
    "xerr = errgrid(1_000)\n",
    "NN = 2:2:10\n",
    "NNr = [ (2,0), (4,0), (4,2), (6,2), (8,2) ]\n",
    "err_taylor = [ norm(f.(xerr) - ft.(N, xerr), Inf) for N = NN ]\n",
    "err_cheb = [ norm(f.(xerr) - bary(f, N, xerr), Inf)  for N = NN ]\n",
    "err_remez = [ ratfn_minimax(f, (-1, 1), N, 0)[3] for N in NN ]\n",
    "err_rat = [ ratfn_minimax(f, (-1, 1), Nn, Nd)[3] for (Nn, Nd) in NNr ]\n",
    "plot(xaxis = (L\"N\",), \n",
    "     yaxis = (:log, L\"\\| f - p_N \\|_{L^\\infty}\"))\n",
    "plot!(NN, err_taylor, lw=2, m=:o, label = \"taylor\")\n",
    "plot!(NN, err_cheb, lw=2, m=:o, label = \"cheb\")\n",
    "plot!(NN, err_remez, lw=2, m=:o, label = \"remez\")\n",
    "plot!(NN, err_rat, lw=2, m=:o, label = \"remez-rat\")"
   ]
  },
  {
   "cell_type": "code",
   "execution_count": null,
   "metadata": {},
   "outputs": [],
   "source": [
    "N = 8\n",
    "xp = errgrid(400)\n",
    "plot(xp, abs.(f.(xp) - ft.(N, xp)), lw=2, label=\"taylor\",\n",
    "     yaxis=([-1e-10, 2e-9],))\n",
    "plot!(xp, abs.(f.(xp) - bary(f, N, xp)), lw=2, label=\"cheb\")\n",
    "Pbest = ratfn_minimax(f, (-1, 1), N, 0)\n",
    "pbest = [ Remez.ratfn_eval(Pbest[1], Pbest[2], BigFloat(x)) for x in xp ]\n",
    "plot!(xp, abs.(f.(xp) - pbest), lw=2, label=\"remez\")"
   ]
  },
  {
   "cell_type": "code",
   "execution_count": null,
   "metadata": {},
   "outputs": [],
   "source": []
  },
  {
   "cell_type": "code",
   "execution_count": null,
   "metadata": {},
   "outputs": [],
   "source": [
    "# Chebyshev vs Remez for the Fermi-Dirac Example \n",
    "# -----------------------------------------------\n",
    "β = 100\n",
    "f(x) = 1/(1+exp(β*x))\n",
    "NN = 10:10:100\n",
    "Nr = 5:5:60\n",
    "xerr = errgrid(1_000)\n",
    "err = [ norm(f.(xerr) - bary(f, N, xerr), Inf)  for N in NN ]\n",
    "errremez = [ ratfn_minimax(f, (-1, 1), N, 0)[3] for N in Nr ]\n",
    "# errremrat = [ ratfn_minimax(f, (-1, 1), N÷2, N÷2)[3] for N = 2:2:10 ]\n",
    "P = plot(xaxis = (L\"N\",), \n",
    "         yaxis = (:log, L\"\\| f - I_{NM} f\\|_{L^\\infty}\"))\n",
    "plot!(NN, err, lw=2, m=:o, label = \"cheb\")\n",
    "# plot!(Nr, errsuper, lw=2, m=:o, label = \"rational\")\n",
    "plot!(Nr, errremez, lw=2, m=:o, label = \"Remez\")\n",
    "# plot!(Nr, errremrat, lw=2, m=:o, label = \"Remez-Rat\")"
   ]
  },
  {
   "cell_type": "markdown",
   "metadata": {},
   "source": [
    "This may still seem modest, but can be significant in some situations. E.g., if we are trying to evaluate $f(H)$ where $H$ is a large matrix, then reducing the number of matrix multiplications from 100 to 60 is almost a halving of computational cost. When that cost is no longer in the ms but more in the \"hours\" or \"days\" range, then this begins to matter. \n",
    " \n",
    "A similar conclusion applies to the next Example"
   ]
  },
  {
   "cell_type": "code",
   "execution_count": null,
   "metadata": {},
   "outputs": [],
   "source": []
  },
  {
   "cell_type": "code",
   "execution_count": null,
   "metadata": {},
   "outputs": [],
   "source": [
    "# Chebyshev vs Remez for the abs(x) Example \n",
    "# ------------------------------------------\n",
    "NN = 4:4:40\n",
    "xerr = errgrid(1_000)\n",
    "err_poly = [ norm(abs.(xerr) - bary(abs, 2*N, xerr)) for N in NN ]\n",
    "err_rat = [ norm(abs.(xerr) - rabs.(xerr, N)) for N in NN ]\n",
    "err_remez = [ ratfn_minimax(abs, (-1, 1), N, 0)[3] for N in NN ]\n",
    "# err_remrat = [ ratfn_minimax(abs, (-1, 1), N, N)[3] for N in NN ]   # UNSTABLE?\n",
    "P = plot(xaxis = (L\"N\",), \n",
    "         yaxis = (:log, L\"\\| f - I_{NM} f\\|_{L^\\infty}\"))\n",
    "plot!(NN, err_poly, lw=2, m=:o, label = \"cheb\")\n",
    "plot!(NN, err_rat, lw=2, m=:o, label = \"rational\")\n",
    "plot!(NN, err_remez, lw=2, m=:o, label = \"best-poly\")\n",
    "# plot!(NN, err_remrat, lw=2, m=:o, label = \"best-rat\")"
   ]
  },
  {
   "cell_type": "markdown",
   "metadata": {},
   "source": [
    "This is a more significant example; note that the point $N = 40$ for Chebyshev interpolation has a similar error as the point $N = 8$ for best-approximation! And even our rational approximation does not come close in the pre-asymptotic regime!"
   ]
  },
  {
   "cell_type": "code",
   "execution_count": null,
   "metadata": {},
   "outputs": [],
   "source": []
  },
  {
   "cell_type": "code",
   "execution_count": null,
   "metadata": {},
   "outputs": [],
   "source": [
    "using SpecialFunctions"
   ]
  },
  {
   "cell_type": "code",
   "execution_count": null,
   "metadata": {},
   "outputs": [],
   "source": [
    "# erf on the interval t ∈ [0, 6]\n",
    "# x ∈ [-1,1] => t = 3*(x+1)\n",
    "# 1 - erf(x) ~ exp(-x^2) so rescale as follows:\n",
    "ferf(x) = exp((3*(1+x))^2) * (1 - erfc((3*(1+x))))\n",
    "\n",
    "NN = 4:4:40\n",
    "Nr = 2:6\n",
    "xerr = errgrid(1_000)\n",
    "err_poly = [ norm(ferf.(xerr) - bary(ferf, N, xerr)) for N in NN ]\n",
    "err_remez = [ ratfn_minimax(ferf, (-1, 1), N, 0)[3] for N in NN ]\n",
    "# err_remrat = [ ratfn_minimax(ferf, (-1, 1), N, N)[3] for N in Nr ]  \n",
    "\n",
    "P = plot(xaxis = (L\"N\",), \n",
    "         yaxis = (:log, L\"\\| f - I_{NM} f\\|_{L^\\infty}\"))\n",
    "plot!(NN, err_poly, lw=2, m=:o, label = \"cheb\")\n",
    "plot!(NN, err_remez, lw=2, m=:o, label = \"best-poly\")\n",
    "# plot!(Nr, err_remrat, lw=2, m=:o, label = \"best-rational\")N"
   ]
  },
  {
   "cell_type": "code",
   "execution_count": null,
   "metadata": {},
   "outputs": [],
   "source": []
  }
 ],
 "metadata": {
  "kernelspec": {
   "display_name": "Julia 1.1.0",
   "language": "julia",
   "name": "julia-1.1"
  },
  "language_info": {
   "file_extension": ".jl",
   "mimetype": "application/julia",
   "name": "julia",
   "version": "1.1.0"
  }
 },
 "nbformat": 4,
 "nbformat_minor": 2
}
