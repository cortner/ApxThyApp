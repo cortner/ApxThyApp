{
 "cells": [
  {
   "cell_type": "markdown",
   "metadata": {},
   "source": [
    "# MA3J8 Approximation Theory and Applications \n",
    "\n",
    "## 03b - Algebraic Polynomials, Applications\n",
    "\n",
    "\n"
   ]
  },
  {
   "cell_type": "code",
   "execution_count": null,
   "metadata": {},
   "outputs": [],
   "source": [
    "using SoftGlobalScope, LinearAlgebra, LaTeXStrings, Plots\n",
    "gr();"
   ]
  },
  {
   "cell_type": "code",
   "execution_count": null,
   "metadata": {},
   "outputs": [],
   "source": [
    "\"Chebyshev Nodes for degree N interpolant\"\n",
    "chebnodes(N) = [ cos(j*π/N) for j = N:-1:0 ]\n",
    "\n",
    "\"\"\"\n",
    "Barycentric interpolation with a Chebyshev grid with N grid points.\n",
    "The interpolant is evaluated at points `x`.\n",
    "\"\"\"\n",
    "function bary(f::Function, N, x)\n",
    "    X = chebnodes(N)\n",
    "    F = f.(X)\n",
    "    return bary(F, x; X=X)\n",
    "end\n",
    "\n",
    "function bary(F::Vector, x; X = chebnodes(length(F)-1))\n",
    "    N = length(F)-1\n",
    "    p = 0.5 * ( F[1] ./ (x .- X[1]) + (-1)^N * F[N+1] ./(x .- X[N+1]) )\n",
    "    q = 0.5 * (1.0 ./ (x .- X[1]) + (-1)^N ./ (x .- X[N+1]))\n",
    "    for n = 1:N-1\n",
    "        p += (-1)^n * F[n+1] ./ (x .- X[n+1])\n",
    "        q += (-1)^n ./ (x .- X[n+1])\n",
    "    end \n",
    "    return p ./ q    \n",
    "end\n",
    "\n",
    "\"\"\"\n",
    "generate a grid on which to plot errors; this is chosen to avoid \n",
    "any grid points since barycentric interpolation is not defined \n",
    "on those.\n",
    "\"\"\"\n",
    "errgrid(Np) = range(-1+0.0123, stop=1-0.00321, length=Np)"
   ]
  },
  {
   "cell_type": "markdown",
   "metadata": {},
   "source": [
    "## 03-4 Applications"
   ]
  },
  {
   "cell_type": "markdown",
   "metadata": {},
   "source": [
    "### Evaluating a \"special function\"\n",
    "\n",
    "Special functions are functions such as $\\exp(x), \\sin(x), \\cos(x), \\dots$, the Bessel functions, $\\Gamma$ function, Airy, and many more. Efficient and stable numerical evaluation of such functions is a mostly solved and well-understood problem. Nevertheless it is useful to see what kind of ideas might be involved. Here, we will just use polynomial interpolation of a Taylor series, but of course in practise one uses much more sophisticated techniques (more on that later).\n",
    "\n",
    "For simplicity, let us just consider the `sin` function. We can obtain a decent approxiation using Taylor series. Then we interpolate the Taylor series to get a Chebvyshev interpolant. Note that in principle we only need to evaluate `sin` in $[-\\pi/2, \\pi/2]$ as all other cases can be reduced to shifting and reflection."
   ]
  },
  {
   "cell_type": "code",
   "execution_count": null,
   "metadata": {},
   "outputs": [],
   "source": [
    "tsin(N, x) = imag(sum((im*x)^n / factorial(n) for n = 0:N))\n",
    "\n",
    "xx = range(-pi/2, stop=pi/2, length=1000)\n",
    "println(\"Taylor Expansion:\")\n",
    "for N in [7, 11, 15, 19]\n",
    "    errN = maximum(abs(sin(x) - tsin(N,x)) for x in xx) \n",
    "    println(\" N = $N => err = $errN\")\n",
    "end "
   ]
  },
  {
   "cell_type": "markdown",
   "metadata": {},
   "source": [
    "This suggests that `tsin(20, x)` is a machine-precision approximation to `sin`. Now we can check how many points we need with a Chebyshev interpolant."
   ]
  },
  {
   "cell_type": "code",
   "execution_count": null,
   "metadata": {},
   "outputs": [],
   "source": [
    "scal_tsin = s -> tsin(20, s*π/2)\n",
    "println(\"Chebyshev Interpolant:\")\n",
    "for N in [7, 9, 11, 15]\n",
    "    errN = norm(bary(scal_tsin, N, xx*2/π) - sin.(xx), Inf)\n",
    "    println(\" N = $N => err = $errN\")\n",
    "end"
   ]
  },
  {
   "cell_type": "code",
   "execution_count": null,
   "metadata": {},
   "outputs": [],
   "source": [
    "# we can do even better by approximating only on the \n",
    "# interval [0, pi/2]\n",
    "xx = range(0+3.21e-12, stop=pi/2, length=333)\n",
    "scal_tsin1 = s -> sin((1 + s)*π/4)\n",
    "println(\"Chebyshev Interpolant:\")\n",
    "for N in [5, 8, 11, 13]\n",
    "    errN = norm(bary(scal_tsin1, N, xx*4/π.-1) - sin.(xx), Inf)\n",
    "    println(\" N = $N => err = $errN\")\n",
    "end"
   ]
  },
  {
   "cell_type": "markdown",
   "metadata": {},
   "source": [
    "This may seem like a small improvement, but a factor 2/3 in the evaluation cost would in fact represent a phenomenal gain in computing speed. The explanatio of this gain can be easily visualised: the taylor polynomial optimises the error in the origin while the Chebyshev interpolant distributes it more uniformly (but not uniformly enough, which is why it is not optimal; see later)."
   ]
  },
  {
   "cell_type": "code",
   "execution_count": null,
   "metadata": {},
   "outputs": [],
   "source": [
    "N = 13\n",
    "xp = range(-pi/2, stop=pi/2, length=400)\n",
    "terr = tsin.(N, xp) - sin.(xp)\n",
    "cerr = bary(scal_tsin, N, xp*2/π) - sin.(xp)\n",
    "plot(xp, [terr, cerr], lw=2, label = [\"Taylor-error\", \"Chebyshev-error\"],\n",
    "         ylim = [-2e-13, 2e-13])"
   ]
  },
  {
   "cell_type": "code",
   "execution_count": null,
   "metadata": {},
   "outputs": [],
   "source": [
    "using BenchmarkTools\n",
    "\n",
    "function bary1(F::Vector{T}, X::Vector{T}, x::T) where {T}\n",
    "    N = length(F)-1\n",
    "    σ = 1\n",
    "    p = zero(T)\n",
    "    q = zero(T)\n",
    "    for n = 1:N-1\n",
    "        σ *= -1 \n",
    "        p += σ * F[n+1] / (x - X[n+1])\n",
    "        q += σ / (x - X[n+1])\n",
    "    end \n",
    "    σ *= -1 \n",
    "    p += ( F[1] / (x - X[1]) + σ * F[N+1] / (x - X[N+1]) ) / 2\n",
    "    q += ( 1 / (x - X[1]) + σ / (x - X[N+1])  ) / 2\n",
    "    return p ./ q    \n",
    "end\n",
    "\n",
    "function runn(f, x, N)\n",
    "    y = f(x)\n",
    "    for n = 2:N\n",
    "        x += 1e-12 \n",
    "        y += f(x)\n",
    "    end\n",
    "    return y\n",
    "end\n",
    "\n",
    "N = 13 \n",
    "scal_sin = s -> sin((1 + s)*π/4)\n",
    "const Xsin = chebnodes(N)\n",
    "const Fsin = scal_sin.(Xsin)\n",
    "\n",
    "function cheb_sin(x)\n",
    "    s = 4/π * x - 1\n",
    "    return bary1(Fsin, Xsin, s)\n",
    "end \n",
    "\n",
    "x0 = rand() * pi/2\n",
    "@btime runn($sin, $x0, 1_000_000)\n",
    "@btime runn($cheb_sin, $x0, 1_000_000)"
   ]
  },
  {
   "cell_type": "code",
   "execution_count": null,
   "metadata": {},
   "outputs": [],
   "source": [
    "using FFTW\n",
    "# we first implement the fast chebyshev transform \n",
    "\n",
    "revchebnodes(N) = [ cos(j*π/N) for j = 0:N ]\n",
    "\n",
    "function fct(F)\n",
    "    N = length(F)-1\n",
    "    G = [F; F[N:-1:2]]\n",
    "    Ĝ = real.(ifft(G))\n",
    "    return [Ĝ[1]; 2 * Ĝ[2:N]; Ĝ[N+1]]\n",
    "end \n",
    "\n",
    "\n",
    "function eval_chebpoly(F̃, x)\n",
    "    N = length(F̃)-1\n",
    "    Told = one(x)\n",
    "    #     if N == 0; return Told * F̃[1]; end \n",
    "    Tnew = x \n",
    "    p = Told * F̃[1] + Tnew * F̃[2]\n",
    "    #     if N == 1; return p; end \n",
    "    for n = 2:N \n",
    "        Toldold = Told \n",
    "        Told = Tnew \n",
    "        Tnew = 2 * x * Told - Toldold\n",
    "        p += F̃[n+1] * Tnew\n",
    "    end \n",
    "    return p \n",
    "end\n"
   ]
  },
  {
   "cell_type": "code",
   "execution_count": null,
   "metadata": {},
   "outputs": [],
   "source": [
    "const F̃sin = fct(Fsin)\n",
    "function cheb_sin2(x)\n",
    "    s = 4/π * x - 1\n",
    "    return eval_chebpoly(F̃sin, s)\n",
    "end \n",
    "\n",
    "x0 = rand() * pi/2\n",
    "@btime runn($sin, $x0, 1_000_000)\n",
    "@btime runn($cheb_sin, $x0, 1_000_000)\n",
    "@btime runn($cheb_sin2, $x0, 1_000_000)"
   ]
  },
  {
   "cell_type": "markdown",
   "metadata": {},
   "source": [
    "### Evaluating a Matrix Function \n",
    "\n",
    "Consider a discrete Laplacian-like matrix, \n",
    "$$\n",
    "    H = \\frac{1}{2}\\begin{pmatrix}\n",
    "        0 & 1      &        &        & \\\\ \n",
    "        1 & 0      & 1      &        &  \\\\ \n",
    "          & \\ddots & \\ddots & \\ddots &  \\\\ \n",
    "          &        &      1 &  0     & 1 \\\\ \n",
    "          &        &        &      1 & 0\n",
    "    \\end{pmatrix}\n",
    "$$\n",
    "One can readily see that $\\sigma(H) \\subset [-1,1]$."
   ]
  },
  {
   "cell_type": "code",
   "execution_count": null,
   "metadata": {},
   "outputs": [],
   "source": [
    "using SparseArrays\n",
    "Hfun(d) = spdiagm( -1 => ones(d-1)/2, 1 => ones(d-1)/2 )\n",
    "\n",
    "println(\"H(5) = \")\n",
    "display(Matrix(Hfun(5)))\n",
    "\n",
    "print(\"σ(H(100)) ⊂ \")\n",
    "println(extrema(eigvals(Matrix(Hfun(100)))))\n",
    ";"
   ]
  },
  {
   "cell_type": "markdown",
   "metadata": {},
   "source": [
    "We wish to evaluate $f_\\beta(H)$ where $f_\\beta$ is the Fermi-Dirac function \n",
    "$$\n",
    "    f_\\beta(z) = \\Big( 1 + e^{\\beta z} \\Big)^{-1}\n",
    "$$\n",
    "We construct a Chebyshev interpolant, then use the Chebyshev transform to obtain the Chebyshev coefficients, which will then allow us to evaluate $f_\\beta(H)$ via the Chebyshev basis recursion as a series of Matrix multiplications."
   ]
  },
  {
   "cell_type": "code",
   "execution_count": null,
   "metadata": {},
   "outputs": [],
   "source": [
    "f_fermi(β, x) = 1/(1 + exp(β*x))\n",
    "\n",
    "# a little test\n",
    "β = 10+rand()\n",
    "xx = range(-1, stop=1, length=1000)\n",
    "for N in [11, 21, 31, 41]\n",
    "    F = f_fermi.(β, revchebnodes(N))\n",
    "    F̃ = fct(F)\n",
    "    err = norm(f_fermi.(β, xx) - [eval_chebpoly(F̃, x) for x in xx])\n",
    "    println(\"N = $N => err = $err\")\n",
    "end"
   ]
  },
  {
   "cell_type": "code",
   "execution_count": null,
   "metadata": {},
   "outputs": [],
   "source": [
    "A = Matrix(Hfun(10))\n",
    "A = exp(A)"
   ]
  },
  {
   "cell_type": "code",
   "execution_count": null,
   "metadata": {},
   "outputs": [],
   "source": [
    "# and now we can use this to evaluat a matrix function \n",
    "# ------------------------------------------------------\n",
    "\n",
    "# exact matrix function\n",
    "f_fermi_mat(β, H) = pinv(I + exp(β * Matrix(H)))\n",
    "\n",
    "# using the chebyshev expansion \n",
    "function f_fermi_mat_cheb(β, H, N)\n",
    "    F = f_fermi.(β, revchebnodes(N))\n",
    "    F̃ = fct(F)\n",
    "    eval_chebpoly(F̃, H)\n",
    "end"
   ]
  },
  {
   "cell_type": "code",
   "execution_count": null,
   "metadata": {},
   "outputs": [],
   "source": [
    "β, d = 10.0, 1000\n",
    "# ---------------\n",
    "A = Hfun(d)\n",
    "fH = f_fermi_mat(β, A)\n",
    "for N in [11, 21, 31, 41]\n",
    "    fH_N = f_fermi_mat_cheb(β, A, N)\n",
    "    err = norm(fH_N - fH, Inf)\n",
    "    println(\"N = $N => err = $err\")\n",
    "end"
   ]
  },
  {
   "cell_type": "code",
   "execution_count": null,
   "metadata": {},
   "outputs": [],
   "source": [
    "println(\"Runtime f_fermi_mat\")\n",
    "for n = 1:3 \n",
    "    @time f_fermi_mat(β, A)\n",
    "end\n",
    "println(\"Runtime f_fermi_mat_cheb, N = 11\")\n",
    "for n = 1:3 \n",
    "    @time f_fermi_mat_cheb(β, A, 11)\n",
    "end\n",
    "println(\"Runtime f_fermi_mat_cheb, N = 31\")\n",
    "for n = 1:3 \n",
    "    @time f_fermi_mat_cheb(β, A, 31)\n",
    "end\n",
    "println(\"\"\"There probably further optimisations possible in `eval_chebpoly`;\n",
    "           in particular some allocations can be avoided.\"\"\")"
   ]
  },
  {
   "cell_type": "code",
   "execution_count": null,
   "metadata": {},
   "outputs": [],
   "source": []
  },
  {
   "cell_type": "markdown",
   "metadata": {},
   "source": [
    "### Solving a BVP \n",
    "\n",
    "As a final example, we look at how to solve boundary value problems using Chebyshev polynomials. There is an excellent Julia package, `ApproxFun.jl` that builds on the kind of ideas we discussed - and takes them much much further. So instead of putting together our own little toy code we will show how to use `ApproxFun.jl`.\n",
    "\n",
    "Consider the BVP \n",
    "$$\n",
    "    \\epsilon u'' + 6 (1-x^2). u' + u^2 = 1,  \n",
    "$$\n",
    "with boundary conditions $u(-1) = 1, u(1) = -1/2$."
   ]
  },
  {
   "cell_type": "code",
   "execution_count": null,
   "metadata": {},
   "outputs": [],
   "source": [
    "using ApproxFun\n",
    "x = Fun()  # defines the identity function x -> x\n",
    "N = u -> [u(-1)-1, \n",
    "          u(1)+0.5, \n",
    "          0.01 * u'' + 6 * (1-x^2) * u' + u^2 - 1]\n",
    "u = newton(N, 0*x)\n",
    "@show typeof(u)\n",
    "@show u.space\n",
    "@show length(u.coefficients)\n",
    "@show norm(N(u))\n",
    "plot(u; lw = 2, label = \"Solution to BVP\")"
   ]
  },
  {
   "cell_type": "code",
   "execution_count": null,
   "metadata": {},
   "outputs": [],
   "source": []
  }
 ],
 "metadata": {
  "@webio": {
   "lastCommId": null,
   "lastKernelId": null
  },
  "kernelspec": {
   "display_name": "Julia 1.3.1",
   "language": "julia",
   "name": "julia-1.3"
  },
  "language_info": {
   "file_extension": ".jl",
   "mimetype": "application/julia",
   "name": "julia",
   "version": "1.3.1"
  }
 },
 "nbformat": 4,
 "nbformat_minor": 2
}
