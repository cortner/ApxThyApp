{
 "cells": [
  {
   "cell_type": "markdown",
   "metadata": {},
   "source": [
    "# MA3J8 Approximation Theory and Applications\n",
    "\n",
    "## 01 - Introductory Example\n",
    "\n",
    "In this notebook we will use numerical quadrature to explore some elementary examples demonstrating interesting aspects of approximation theory that we will explore throughout Part I of the module.\n",
    "\n",
    "All numerical examples will be shown in [Julia](https://julialang.org). They can be viewed but not executed using [nbviewer](http://nbviewer.jupyter.org). Alternatively, students can install Julia 1.0 (download from link above), then install [IJulia.jl](https://github.com/JuliaLang/IJulia.jl)"
   ]
  },
  {
   "cell_type": "markdown",
   "metadata": {},
   "source": [
    "This notebook requires 2 external packages, which can be installed from the Julia package manager. Open a Julia REPL, press `]` to see the package manager prompt `(v1.0) pkg>` and then \n",
    "```\n",
    "add Plots \n",
    "add QuadGK\n",
    "```"
   ]
  },
  {
   "cell_type": "code",
   "execution_count": null,
   "metadata": {},
   "outputs": [],
   "source": [
    "using Plots, QuadGK"
   ]
  },
  {
   "cell_type": "markdown",
   "metadata": {},
   "source": [
    "### 01.1 - Quadrature Error: Algebraic vs Exponential\n",
    "\n",
    "We will numerically approximate the integrals \n",
    "$$\n",
    "   I_j := \\int_{-\\pi}^\\pi f_j(x) \\,dx,\n",
    "$$\n",
    "where $f_j : [-\\pi, \\pi] \\to \\mathbb{R}$ are given by \n",
    "$$\\begin{aligned}\n",
    "   f_1(x) &:= \\frac{1}{1 + x^2}, \\\\ \n",
    "   f_2(x) &:= \\frac{1}{1 + \\sin^2(x)}\n",
    "\\end{aligned}$$\n",
    "\n",
    "Both of these functions belong to $C^\\infty(-1, 1)$ with \"least smoothness\" near the origin, where they agree to second order."
   ]
  },
  {
   "cell_type": "code",
   "execution_count": null,
   "metadata": {},
   "outputs": [],
   "source": [
    "# define the two functions f1, f2 and plot them on a fine grid\n",
    "#  NOTE: if X is a collection and f a functions then f.(X) == [f(x) for x in X]\n",
    "#        this is called \"broadcasting\" in Julia; see the documentation for more detail     \n",
    "f1(x) = 1 / (1 + x^2)\n",
    "f2(x) = 1 / (1 + sin(x)^2) \n",
    "a, b = -π, π\n",
    "xx = range(a; stop=b, length=200)\n",
    "plot(xx, f1.(xx), lw=2, label = \"f1\")\n",
    "plot!(xx, f2.(xx), lw=2, label = \"f2\")"
   ]
  },
  {
   "cell_type": "markdown",
   "metadata": {},
   "source": [
    "We use the trapezoidal rule to approximate the integrals:  Let $N > 0$, $h = 2\\pi/N$ and $x_n = -\\pi + n h$ then \n",
    "$$\\begin{aligned}\n",
    "  I_j &= \\sum_{n = 1}^N \\int_{x_{n-1}}^{x_n} f_j(x) \\, dx \\\\ \n",
    "  &\\approx \\sum_{n = 1}^N \\frac{h}{2} \\big( f_j(x_{n-1}) + f_j(x_n) \\big) =: Q_{j,N}\n",
    "\\end{aligned}$$"
   ]
  },
  {
   "cell_type": "code",
   "execution_count": null,
   "metadata": {},
   "outputs": [],
   "source": [
    "# implementation of the trapezoidal rule \n",
    "function trapezoidal_rule(f, a, b, N)\n",
    "    x = range(a; stop=b, length=N+1)   # linspace(a, b, N+1)\n",
    "    h = (b-a)/N\n",
    "    return h * sum( f.(x) ) - h/2 * (f(a)+f(b)) \n",
    "end ;"
   ]
  },
  {
   "cell_type": "markdown",
   "metadata": {},
   "source": [
    "we can compute approximate integrals and what how they converge"
   ]
  },
  {
   "cell_type": "code",
   "execution_count": null,
   "metadata": {},
   "outputs": [],
   "source": [
    "@show trapezoidal_rule(f1, a, b, 10)\n",
    "@show trapezoidal_rule(f1, a, b, 20)\n",
    "@show trapezoidal_rule(f1, a, b, 30)\n",
    "@show trapezoidal_rule(f1, a, b, 40)\n",
    "@show trapezoidal_rule(f1, a, b, 50)\n",
    ";"
   ]
  },
  {
   "cell_type": "code",
   "execution_count": null,
   "metadata": {},
   "outputs": [],
   "source": [
    "@show trapezoidal_rule(f2, a, b, 10)\n",
    "@show trapezoidal_rule(f2, a, b, 20)\n",
    "@show trapezoidal_rule(f2, a, b, 30)\n",
    ";"
   ]
  },
  {
   "cell_type": "markdown",
   "metadata": {},
   "source": [
    "This indicates that the trapezoidal rule converges in both cases, but *much* faster for $f_2$ than for $f_1$. We can make this much more visible by plotting the errors against the number of grid points."
   ]
  },
  {
   "cell_type": "code",
   "execution_count": null,
   "metadata": {},
   "outputs": [],
   "source": [
    "# numer of grid points for f1\n",
    "NN1 = (2).^(2:10)\n",
    "# high accuracy numerical solution for f1\n",
    "I_f1, _ = quadgk(f1, a, b, rtol = 1e-12) \n",
    "# quadrature errors of the trapezoidal rule\n",
    "err_f1 = [ abs(trapezoidal_rule(f1, a, b, N) - I_f1)  for N in NN1 ]\n",
    "\n",
    "# numer of grid points for f1\n",
    "NN2 = 2:2:20\n",
    "# high accuracy numerical solution for f1\n",
    "I_f2, _ = quadgk(f2, a, b, rtol = 1e-12) \n",
    "# quadrature errors of the trapezoidal rule\n",
    "err_f2 = [ abs(trapezoidal_rule(f2, a, b, N) - I_f2)  for N in NN2 ]\n",
    "\n",
    "# plot the convergence both on a log-log and and a lin-log axis\n",
    "P1 = plot(NN1, err_f1, lw=2, m=:o, label = \"|I1 - Q1N|\")\n",
    "plot!(P1, NN2, err_f2, lw=2, m=:o, label = \"|I2 - Q2N|\")\n",
    "plot!(P1; xaxis = (:log,), yaxis = (:log,))\n",
    "P2 = plot(NN1, err_f1, lw=2, m=:o, label = \"|I1 - Q1N|\")\n",
    "plot!(P2, NN2, err_f2, lw=2, m=:o, label = \"|I2 - Q2N|\")\n",
    "plot!(P2; xaxis = ([0, 2*NN2[end]], ), yaxis = (:log,))\n",
    "plot(P1, P2)"
   ]
  },
  {
   "cell_type": "markdown",
   "metadata": {},
   "source": [
    "When one first encounters these results, they should be very puzzling; what is going on? Qualitatively the two functions $f_1, f_2$ seem very similar, in particular both are $C^\\infty$. The only difference seems to be that $f_2$ is periodic while $f_1$ is not? (In fact, $f_1$ is also periodic, but it is no longer smooth when interpreted as a periodic function)\n",
    "\n",
    "We need to dive a bit into the analysis of the trapezoidal rule to explain our results. The motivation of the trapezoidal rule is the following figure.\n",
    "\n",
    "![Illustration of the Trapzoidal Rule](figs/trapezoidal_rule.pdf)\n",
    "\n",
    "On some interval $[x_{j-1}, x_j]$, the integral under the curve is approximated by the integral under the straight line, which can be computed analytically. On a larger interval, the interal is split into subintervals $[x_{j-1}, x_j]$ and the trapzoidal rule is applied to each subinterval.\n",
    "\n",
    "To understand the error in the trapezoidal rule, let $x_0 = x_{j-1}, x_1 = x_j, h = x_1-x_0$ and define \n",
    "$$\n",
    "  \\tilde{f} := f(x_0) \\frac{x_1 - x}{h} + f(x_1) \\frac{x - x_0}{h}\n",
    "$$\n",
    "then $\\tilde{f}$ is the affine interpolant in the figure. We can now evaluate the interpolation error. Let $g := f - \\tilde{f}$ then $g(x_0) = 0$ hence there exists $\\xi \\in (x_0, x_1)$ such that $g(x) = g'(\\xi) (x - x_0$.\n",
    "Since $\\int_{x_0}^{x_1} g'(x) = 0$ there exists $\\eta$ such that \n",
    "$g'(\\eta) = 0$ and in particular, \n",
    "$$\n",
    "  g'(\\xi) = g'(\\xi) - g'(\\eta) = g''(\\zeta) (\\xi - \\eta).\n",
    "$$\n",
    "In summary, since $g'' = f''$, we have \n",
    "$$\n",
    "    |f(x) - \\tilde{f}(x)| \\leq h^2 \\|f''\\|_\\infty.\n",
    "$$\n",
    "This interpolation error readily implies [EXERCISE] that \n",
    "$$\n",
    "    |I_j - Q_{jN}| \\lesssim N^{-2}.\n",
    "$$\n",
    "Indeed we can test this numerically."
   ]
  },
  {
   "cell_type": "code",
   "execution_count": null,
   "metadata": {},
   "outputs": [],
   "source": [
    "using LaTeXStrings"
   ]
  },
  {
   "cell_type": "code",
   "execution_count": null,
   "metadata": {},
   "outputs": [],
   "source": [
    "plot(NN1, err_f1, lw=2, m=:o, label = L\"|I[f_1] - Q_N[f_1]|\")\n",
    "plot!(NN2, err_f2, lw=2, m=:o, label = L\"|I[f_2] - Q_N[f_2]|\")\n",
    "plot!(NN1[3:end-2], NN1[3:end-2].^(-2), lw=2, ls=:dash, c=:black, label = \"N^-2\")\n",
    "plot!(; xaxis = (:log,), yaxis = (:log,))"
   ]
  },
  {
   "cell_type": "markdown",
   "metadata": {},
   "source": [
    "The question remains how we can explain the *much faster* convergence rate of $Q_{2N}$. \n",
    "To that end we need to recall the Fourier series, formally for now, \n",
    "$$\n",
    "   f(x) = \\sum_{k \\in \\mathbb{Z}} {\\widehat{f}}_k e^{i k x}\n",
    "$$\n",
    "Then, since $\\int_{-\\pi}^\\pi e^{-ikx} dx = 0$ for all $k \\in \\mathbb{Z} \\setminus \\{0\\}$, we have \n",
    "$$\n",
    "  Q_{2,N} =2 \\pi \\widehat{f}_0\n",
    "$$\n",
    "\n",
    "**Observation 1:** [Proof is an exercise!]  \n",
    "$$\n",
    "    \\sum_{n = 1}^N e^{i k x_n} = 0 \\quad \\text{for all $k \\not\\in N \\mathbb{Z}$}\n",
    "$$\n",
    "and $= N$ otherwise.\n",
    "\n",
    "Therefore, using periodicity, we obtain \n",
    "$$\\begin{aligned}\n",
    "   Q_{2N} &= h \\sum_{n = 1}^N f(x_n) \\\\ \n",
    "   &= h \\sum_{j = 1}^N \\sum_{k \\in \\mathbb{Z}} \\widehat{f}_k e^{ik x_j} \\\\ \n",
    "   &= h \\sum_{k \\in \\mathbb{Z}} \\widehat{f}_k \\sum_{j=1}^N e^{ik x_j} \\\\ \n",
    "   &= 2 \\pi \\widehat{f}_0 + h \\sum_{k \\in N \\mathbb{Z} \\setminus \\{0\\}} \\widehat{f}_k N.\n",
    "\\end{aligned}$$\n",
    "Thus, the quadrature error is \n",
    "$$\n",
    "  |I_2 - Q_{2,N}| \\leq 2 \\pi \\sum_{k \\in N \\mathbb{Z} \\setminus \\{0\\}} \\big|\\widehat{f}_k\\big|.\n",
    "$$\n",
    "\n",
    "This is an entirely different kind of error estimate that does not involve the local regularity of the function $f_2$ but the decay of its Fourier coefficients. We are not quite equipped yet to analyse this decay, but the following observation will give some intuition: \n",
    "$$\n",
    "   f^{(m)}(x) = \\sum_{k \\in \\mathbb{Z}} (i k)^m \\widehat{f}_k e^{i k x},\n",
    "$$\n",
    "and if $f^{(m)}$ is \"regular\" (e.g., integrable) then this implies that the \n",
    "coefficients $(i k)^m \\widehat{f}_k$ must be bounded, and in particular, \n",
    "$$\n",
    "   \\big|\\widehat{f}_k\\big| \\lesssim |k|^{-m}.\n",
    "$$\n",
    "Indee we will later prove a much stronger result, the Paley-Wiener theorem, that for analytic functions, \n",
    "$$\n",
    "    \\big|\\widehat{f}_k\\big| \\lesssim e^{-\\alpha |k|}.\n",
    "$$\n",
    "Suppose we have proven this, then it is now straightforward to establish that \n",
    "$$\n",
    "    |I_2 - Q_{2,N}| \\lesssim e^{-\\alpha N},\n",
    "$$\n",
    "which is precisely what we observed in our numerical results.\n",
    "\n",
    "**EXERCISE:** look up the fourier transforms of various functions of different degree of smoothness (e.g., google for `table of fourier transforms`) and observe how the regularity of the function affects the fourier coefficients, e.g., \n",
    "$$\\begin{aligned}\n",
    "    \\hat\\delta(k) &= 1, \\\\ \n",
    "    \\widehat{{\\rm sign}}(k) &= \\frac{2}{ik}, \\\\ \n",
    "    f(x) = e^{-|x|} \\Rightarrow \\hat{f}(k) &= \\frac{2}{1+k^2}, \\\\ \n",
    "    f(x) = e^{- \\pi x^2} \\Rightarrow \\hat{f}(k) &= e^{-\\pi k^2} \n",
    "\\end{aligned}$$"
   ]
  },
  {
   "cell_type": "code",
   "execution_count": null,
   "metadata": {},
   "outputs": [],
   "source": []
  }
 ],
 "metadata": {
  "kernelspec": {
   "display_name": "Julia 1.0.3",
   "language": "julia",
   "name": "julia-1.0"
  },
  "language_info": {
   "file_extension": ".jl",
   "mimetype": "application/julia",
   "name": "julia",
   "version": "1.0.3"
  }
 },
 "nbformat": 4,
 "nbformat_minor": 2
}
