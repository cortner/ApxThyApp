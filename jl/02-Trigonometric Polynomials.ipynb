{
 "cells": [
  {
   "cell_type": "markdown",
   "metadata": {},
   "source": [
    "# MA3J8 Approximation Theory and Applications \n",
    "\n",
    "## 02 - Trigonometric Polynomials\n",
    "\n"
   ]
  },
  {
   "cell_type": "code",
   "execution_count": null,
   "metadata": {},
   "outputs": [],
   "source": [
    "using SoftGlobalScope, LinearAlgebra, LaTeXStrings, Plots\n",
    "gr()"
   ]
  },
  {
   "cell_type": "markdown",
   "metadata": {},
   "source": [
    "### 2.1 Examples of Periodic Functions"
   ]
  },
  {
   "cell_type": "code",
   "execution_count": null,
   "metadata": {},
   "outputs": [],
   "source": [
    "f1(x) = sin(x)\n",
    "f2(x) = sin(4*x)\n",
    "f3(x) = abs(sin(2*x))\n",
    "f4(x) = abs(sin(2*x))^3\n",
    "f5(x) = exp(cos(x))\n",
    "f6(x) = 1 / (1 + sin(x)^2)\n",
    "f7(x) = 1 / (1.0 + 10*sin(x)^2)\n",
    "g8(x) = x^2 < 2.49999^2 ? exp(3 - 3 / (1-(x/2.5)^2)) : 0.0\n",
    "f8(x) = g8(mod(x+π,2*π)-π)\n",
    "\n",
    "allf = [f1, f2, f3, f4, f5, f6, f7, f8]\n",
    "\n",
    "xx = range(-2*π, stop=2*π, length=500)\n",
    "Ps = [ plot(xx, f.(xx), label = \"\", title=\"f$n\") for (n, f) in enumerate(allf) ]\n",
    "plot(Ps..., layout = (4,2))"
   ]
  },
  {
   "cell_type": "markdown",
   "metadata": {},
   "source": [
    "### 2.2 L2 Projection"
   ]
  },
  {
   "cell_type": "code",
   "execution_count": null,
   "metadata": {},
   "outputs": [],
   "source": [
    "\"\"\"\n",
    "Compute an approximate L2-projection using least-squares \n",
    "and evaluate it at the points Z\n",
    "\"\"\"\n",
    "function L2proj(f, N, Z; nquad=200)\n",
    "    h = 2*π / nquad  # grid spacing \n",
    "    X = range(-π+h, stop=π, length=nquad)  # grid \n",
    "    y = f.(X)  # \"observations\"\n",
    "    A = [exp(im*k*x) for x in X, k=-N:N]  # LLSQ system matrix \n",
    "    f̂ = qr(A) \\ y    # solve LSQ system using QR factorisation \n",
    "    fN = [ real(sum( f̂[k+N+1] * exp(im*k*z) for k = -N:N ))  \n",
    "             for z in Z]\n",
    "    return fN, norm(A * f̂ - y) * sqrt(h)\n",
    "end\n",
    ";"
   ]
  },
  {
   "cell_type": "markdown",
   "metadata": {},
   "source": [
    "The above implementation of an L2-projection is rather crude and brute force. Indeed, we will hardly ever do this in practise, but for the purpose of experimenting with the approximation properties and testing our analysis it will do. \n",
    "\n",
    "We can now look at the approximation of some of our functions individually... We will then look at the convergence rates."
   ]
  },
  {
   "cell_type": "code",
   "execution_count": null,
   "metadata": {},
   "outputs": [],
   "source": [
    "# The approximation for `f1` is of course exact with just N = 1\n",
    "f = f1\n",
    "xx = range(-π, stop=π, length=200)\n",
    "plot(xx, f.(xx), label = \"f\")\n",
    "plot!(xx, L2proj(f, 1, xx)[1], label = L\"\\Pi_N f\")"
   ]
  },
  {
   "cell_type": "code",
   "execution_count": null,
   "metadata": {},
   "outputs": [],
   "source": [
    "plot(xx, [f2.(xx), L2proj(f, 1, xx)[1]], label = [\"f2\", \"Pi\"])"
   ]
  },
  {
   "cell_type": "code",
   "execution_count": null,
   "metadata": {},
   "outputs": [],
   "source": [
    "# `f2` is interesting: since it is orthogonal to T_2, its best approximation is just zero \n",
    "# on that space, but is exact on T_3.\n",
    "f = f2\n",
    "xx = range(-π, stop=π, length=200)\n",
    "Ps = [ plot(xx, [f.(xx), L2proj(f, N, xx)[1]], \n",
    "            label = [L\"f_2\", L\"\\Pi_N f_2\"], \n",
    "            title=\"N=$N\")    for N in [2, 3, 4] ]\n",
    "plot(Ps..., layout=(3,1))"
   ]
  },
  {
   "cell_type": "code",
   "execution_count": null,
   "metadata": {},
   "outputs": [],
   "source": [
    "# `f3` is only Lipschitz, so not even C1 - we expect very poor approximation\n",
    "#      in this case!\n",
    "f = f3\n",
    "xx = range(-π, stop=π, length=200)\n",
    "Ps = [ plot(xx, [f.(xx), L2proj(f, N, xx)[1]], \n",
    "            label = [L\"f_2\", L\"\\Pi_N f_2\"], \n",
    "            title=\"N=$N\")   for N in [5, 10, 20] ]\n",
    "plot(Ps..., layout=(3,1))"
   ]
  },
  {
   "cell_type": "code",
   "execution_count": null,
   "metadata": {},
   "outputs": [],
   "source": [
    "# `f4` looks smooth, but it is not! it will converge \n",
    "#      reasonably fast though at least as measured by the \n",
    "#.     plain eye\n",
    "f = f4\n",
    "xx = range(-π, stop=π, length=200)\n",
    "Ps = [ plot(xx, [f.(xx), L2proj(f, N, xx)[1]], \n",
    "            label = [L\"f_2\", L\"\\Pi_N f_2\"], \n",
    "            title=\"N=$N\")    for N in [5, 10, 20] ]\n",
    "plot(Ps..., layout=(3,1))"
   ]
  },
  {
   "cell_type": "code",
   "execution_count": null,
   "metadata": {},
   "outputs": [],
   "source": [
    "# `f5(x) = exp(cos(x))` is analytic, hence we expect very\n",
    "# fast convergence\n",
    "f = f5\n",
    "xx = range(-π, stop=π, length=200)\n",
    "Ps = [ plot(xx, [f.(xx), L2proj(f, N, xx)[1]], \n",
    "            label = [L\"f_2\", L\"\\Pi_N f_2\"], \n",
    "            title=\"N=$N\")    for N in [2, 3, 4] ]\n",
    "plot(Ps..., layout=(3,1))"
   ]
  },
  {
   "cell_type": "code",
   "execution_count": null,
   "metadata": {},
   "outputs": [],
   "source": [
    "# `f6(x) = 1 / (1 + sin(x)^2)` is again analytic...\n",
    "# `f7(x) = 1 / (1 + 10*sin(x)^2)` is also analytic...\n",
    "\n",
    "xx = range(-π, stop=π, length=200)\n",
    "Ps6 = [ plot(xx, [f6.(xx), L2proj(f6, N, xx)[1]], \n",
    "            label = [L\"f_6\", L\"\\Pi_N f_6\"], \n",
    "            title=\"N=$N\") for N in [3, 5, 7] ]\n",
    "Ps7 = [ plot(xx, [f7.(xx), L2proj(f7, N, xx)[1]], \n",
    "            label = [L\"f_7\", L\"\\Pi_N f_7\"], \n",
    "            title=\"N=$N\") for N in [3, 5, 7] ]\n",
    "plot(Ps6[1], Ps7[1], Ps6[2],Ps7[2],Ps6[3],Ps7[3], layout=(3,2))"
   ]
  },
  {
   "cell_type": "code",
   "execution_count": null,
   "metadata": {},
   "outputs": [],
   "source": [
    "# Finally, f8 is very interesting: C^∞ but not analytic\n",
    "# visually we simply see very fast convergence; below we \n",
    "# will study the convergence rates more carefully.\n",
    "f = f8\n",
    "xx = range(-π, stop=π, length=200)\n",
    "Ps = [ plot(xx, [f.(xx), L2proj(f, N, xx)[1]], \n",
    "            label = [L\"f_8\", L\"\\Pi_N f_8\"], \n",
    "            title=\"N=$N\") for N in [3, 5, 7] ]\n",
    "plot(Ps..., layout=(3,1))"
   ]
  },
  {
   "cell_type": "markdown",
   "metadata": {},
   "source": [
    "To get a more precise picture we now study the rates of convergence. To that end we split the functions into those that we expect to have an algebraic rate and those where we expect an exponential (or faster!) rate..."
   ]
  },
  {
   "cell_type": "code",
   "execution_count": null,
   "metadata": {},
   "outputs": [],
   "source": [
    "NN = 2 .^(2:8)\n",
    "nn = [3, 4, 8]\n",
    "falg = allf[nn]\n",
    "P = plot(xaxis = (:log,L\"N\"), yaxis = (:log,L\"\\| f - \\Pi_N f\\|_{L^2}\"), \n",
    "         legend=:bottom)\n",
    "for (f, n) in zip(falg, nn)\n",
    "    err = [ L2proj(f, N, xx, nquad=1_000)[2] for N in NN ]\n",
    "    plot!(P, NN, err, lw=2, m=:o, ms=6, label = \"err(f$n)\")\n",
    "end \n",
    "t = [NN[4], NN[6]]\n",
    "plot!(P, t, t.^(-1.5), lw=2, ls=:dash, c=:black, label=\"~N^-1.5\")\n",
    "plot!(P, t, 10*t.^(-3.5), lw=2, ls=:dash, c=:black, label=\"~N^-3.5\")\n",
    "P"
   ]
  },
  {
   "cell_type": "markdown",
   "metadata": {},
   "source": [
    "We clearly observe algebraic rates for $f_3, f_4$ and and a super-algebraic rate for $f_8$. However the rates we obtain for $f_3, f_8$ are slightly better than we predicted."
   ]
  },
  {
   "cell_type": "code",
   "execution_count": null,
   "metadata": {},
   "outputs": [],
   "source": [
    "NN = 2:2:20\n",
    "nn = [1, 2, 5, 6, 7, 8]\n",
    "fexp = allf[nn]\n",
    "P = plot(xaxis = (L\"N\", ), yaxis = (:log, L\"\\| f - \\Pi_N f\\|_{L^2}\"), \n",
    "         legend=:left)\n",
    "for (f, n) in zip(fexp, nn)\n",
    "    err = [ L2proj(f, N, xx, nquad=1_000)[2] for N in NN ]\n",
    "    plot!(P, NN, err, lw=2, m=:o, ms=6, label = \"err(f$n)\")\n",
    "end \n",
    "P"
   ]
  },
  {
   "cell_type": "markdown",
   "metadata": {},
   "source": [
    "Again we clearly observe the predicted behaviour: \n",
    "* $f_6, f_7$ display exponential convergence \n",
    "* $f_5$ displays super-exponential convergence (we will explain this later!)\n",
    "* $f_8$ displays sub-exponential convergence (though this is not 100% visible, we can at least immagine it!), which is consistent with the fact that $f_8 \\in C^\\infty$ but not analytic.\n",
    "\n",
    "For the future we should also remember the different rates we obtain for $f_6, f_7$! We will explain this as well!"
   ]
  },
  {
   "cell_type": "markdown",
   "metadata": {},
   "source": [
    "### 2.3 - Lebesgue Constants\n",
    "\n",
    "In this section we numerically explore the growth of Lebesgue constants (interpolation operator norm)."
   ]
  },
  {
   "cell_type": "code",
   "execution_count": null,
   "metadata": {},
   "outputs": [],
   "source": [
    "using Plots\n",
    "function L(x, N, j=0)\n",
    "    xj = [2*π*j/N  for j = 1:N-1]\n",
    "    if isodd(N)\n",
    "        return prod( sin.(0.5 * (x+2*π*j/N .- xj)) ./ sin.(0.5*(0.0 .- xj)) )\n",
    "    else \n",
    "        error(\"need odd N\")\n",
    "    end \n",
    "end\n",
    "function Λ(N)\n",
    "    Xj = [2*π*j/N  for j = 1:N-1] \n",
    "    X = [2*π*j/(10*N)+0.01 for j = 0:20]\n",
    "    return maximum(sum(abs(L(x, N, j)) for j = 0:N-1) for x in X)\n",
    "end "
   ]
  },
  {
   "cell_type": "code",
   "execution_count": null,
   "metadata": {},
   "outputs": [],
   "source": [
    "x = range(-π, stop=π, length=200)\n",
    "P = plot()\n",
    "for N in [3, 5, 7, 9]\n",
    "    plot!(P, x, L.(x, N); label = \"N=$N\")\n",
    "end \n",
    "P"
   ]
  },
  {
   "cell_type": "code",
   "execution_count": null,
   "metadata": {},
   "outputs": [],
   "source": [
    "x = range(-π, stop=π, length=1_000);\n",
    "N = [2^n+1 for n = 1:2:11]\n",
    "ΛN = Λ.(N)\n",
    "plot(N, ΛN, lw=2, label=L\"\\Lambda_N\", xaxis = (:log,))\n",
    "plot!(N, (2/π)*log.(N).+1.1, lw=2, label = L\"2/\\pi \\log(N) + 1.1\")"
   ]
  },
  {
   "cell_type": "code",
   "execution_count": null,
   "metadata": {},
   "outputs": [],
   "source": []
  },
  {
   "cell_type": "markdown",
   "metadata": {},
   "source": [
    "### 2.4 Trigonometric Interpolation and Interpolation Error"
   ]
  },
  {
   "cell_type": "code",
   "execution_count": null,
   "metadata": {},
   "outputs": [],
   "source": [
    "# The Fastest Fourier Transform in the West\n",
    "using FFTW\n",
    "# note in this implementation the number of grid points is 2N!\n",
    "# further - the x and k grids we choose are as required by the \n",
    "# FFT implementation and are just an equivalent representation\n",
    "# to that used in the lecture notes\n",
    "\"construct a real-space grid\"\n",
    "xgrid(N) = range(0.0, stop=2π-2π/2N, length=2N)\n",
    "\"construct the reciprocal space grid assumed by `fft`\"\n",
    "kgrid(N) = [0:N; -N+1:-1]\n",
    "\"compute the fourier coefficients of I_N\"\n",
    "fouriercoeffs(f::Function, N) = fouriercoeffs(f.(xgrid(N)))\n",
    "fouriercoeffs(F::Vector) = fft(F) / length(F)\n",
    "\"evaluate a trigonometric polynomial\"\n",
    "eval_trig(F::Function, N, Z) = eval_trig(fouriercoeffs(F, N), Z)\n",
    "eval_trig(F̂::Vector, Z) = \n",
    "          sum( f̂ * exp.((im * k)*Z)\n",
    "               for (f̂, k) in zip(F̂, kgrid(length(F̂)÷2)) ) |> real\n"
   ]
  },
  {
   "cell_type": "markdown",
   "metadata": {},
   "source": [
    "A \"visual\" convergence study will be much the same as for the $L^2$-projection case, hence we skip this entirely, but an interested reader is encourages to work on this of course. Instead, we start with an $L^\\infty$-convergence study analogous to the $L^2$-convergence study for the $L^2$-interpolant. We split the study again into algebraically and exponentially convergent schemes."
   ]
  },
  {
   "cell_type": "code",
   "execution_count": null,
   "metadata": {},
   "outputs": [],
   "source": [
    "NN = 2 .^(2:8)\n",
    "nn = [3, 4, 8]\n",
    "falg = allf[nn]\n",
    "xerr = range(-π, stop=π, length=1_000)\n",
    "P = plot(xaxis = (:log,L\"N\"), \n",
    "         yaxis = (:log, L\"\\| f - I_N f\\|_{L^\\infty}\"), \n",
    "         legend=:bottom)\n",
    "for (f, n) in zip(falg, nn)\n",
    "    err = [ norm(f.(xerr) - eval_trig(f, N, xerr), Inf)\n",
    "            for N in NN ]\n",
    "    plot!(P, NN, err, lw=2, m=:o, ms=6, label = \"f$n\")\n",
    "end \n",
    "t = [NN[4], NN[6]]\n",
    "plot!(P, t, 0.3*t.^(-1.), lw=2, ls=:dash, c=:black, label=L\"\\sim N^{-1}\")\n",
    "plot!(P, t, 2*t.^(-3.), lw=2, ls=:dash, c=:black, label=L\"\\sim N^{-3}\")\n",
    "P"
   ]
  },
  {
   "cell_type": "markdown",
   "metadata": {},
   "source": [
    "This time we see precisely the rates predicted by the Jackson Theorem."
   ]
  },
  {
   "cell_type": "code",
   "execution_count": null,
   "metadata": {},
   "outputs": [],
   "source": [
    "NN = 1:10\n",
    "nn = [1, 2, 5, 6, 7, 8]\n",
    "fexp = allf[nn]\n",
    "xerr = range(-π, stop=π, length=1_000)\n",
    "P = plot( xaxis  = (L\"N\", ),\n",
    "          yaxis  = (:log, L\"\\| f - I_N f\\|_{L^\\infty}\"), \n",
    "          legend = :left )\n",
    "for (f, n) in zip(fexp, nn)\n",
    "    err = [ norm(f.(xerr) - eval_trig(f, N, xerr), Inf)\n",
    "            for N in NN ]\n",
    "    plot!(P, NN, err, lw=2, m=:o, ms=6, label = \"f$n\")\n",
    "end \n",
    "P"
   ]
  },
  {
   "cell_type": "markdown",
   "metadata": {},
   "source": [
    "All comments made about the $L^2$-projection case apply here as well. \n",
    "\n",
    "In addition we can make the following interesting observation: Not all convergence graphs are monotone! This is a clear signature of the fact that the nodal interpolent is *not* a best approximation operator."
   ]
  },
  {
   "cell_type": "markdown",
   "metadata": {},
   "source": [
    " ### 2.4.1 Example 3.16 (Smeared ZigZag) Revisited\n",
    " \n",
    " We return to Example 3.16 from the lecture notes, to demonstrate that the maximal region of analyticity indeed gives an excellent estimate for the rate of convergence. The match between theory and numerics in this case is simply stunning."
   ]
  },
  {
   "cell_type": "code",
   "execution_count": null,
   "metadata": {},
   "outputs": [],
   "source": [
    "C = [1.0, 2.0, 8.0]\n",
    "A = asinh.(1.0 ./ C)\n",
    "G = [ x -> 1/(1+c^2*sin(x)^2) for c in C ]\n",
    ";"
   ]
  },
  {
   "cell_type": "code",
   "execution_count": null,
   "metadata": {},
   "outputs": [],
   "source": [
    "NN = 1:2:16\n",
    "xerr = range(-π, stop=π, length=1_000)\n",
    "P = plot( xaxis  = (L\"N\", ),\n",
    "          yaxis  = (:log, L\"\\| f - I_N f\\|_{L^\\infty}\"), \n",
    "          legend = :left )\n",
    "for (f, c) in zip(G, C)\n",
    "    err = [ norm(f.(xerr) - eval_trig(f, N, xerr), Inf)\n",
    "            for N in NN ]\n",
    "    plot!(P, NN, err, lw=2, m=:o, ms=6, label = \"c=$c\")\n",
    "end \n",
    "t = [NN[4], NN[7]]\n",
    "plot!(P, t, 0.5*exp.( - A[1] * t), lw=2, ls=:dash, c=:black, label = L\"e^{- \\alpha_c N}\")\n",
    "for a in A[2:end]\n",
    "    plot!(P, t, 0.5*exp.( - a * t), lw=2, ls=:dash, c=:black, label = \"\")    \n",
    "end \n",
    "P"
   ]
  },
  {
   "cell_type": "code",
   "execution_count": null,
   "metadata": {},
   "outputs": [],
   "source": []
  },
  {
   "cell_type": "markdown",
   "metadata": {},
   "source": [
    "### 2.5 Application: Spectral Methods for BVPs\n",
    "\n",
    "As an application we show how trigonometric approximation can be employed to solve periodic boundary value problems to very high accuracy.\n"
   ]
  },
  {
   "cell_type": "markdown",
   "metadata": {},
   "source": [
    "### 2.5.1 Basic BVP Example\n",
    "\n",
    "$$\\begin{aligned}\n",
    "  - u'' + u &= f, \\qquad \\text{in } (-\\pi, \\pi], \\\\ \n",
    "         u(-\\pi) &= u(\\pi), \\\\ \n",
    "         u'(-\\pi) &= u'(\\pi).\n",
    "\\end{aligned}$$\n",
    "\n",
    "Suppose we represent $f = \\sum_k \\widehat{f}_k e^{ikx}$ and $u = \\sum_k \\widehat{u}_k e^{ikx}$, then we can transform the BVP to reciprocal space. Using (formally) \n",
    "$$\n",
    "    u'' = \\sum_k \\widehat{u}_k (ik)^2 e^{ikx}\n",
    "        = \\sum_k \\big[-k^2 \\widehat{u}_k\\big] e^{ikx}.\n",
    "$$\n",
    "Thus, the BVP can be written in terms of $\\widehat{f}, \\widehat{u}$ as \n",
    "$$\n",
    "    (|k|^2 + 1) {\\widehat{u}}_k = \\widehat{f}_k.\n",
    "$$\n",
    "In particular, we can obtain an approximation by setting \n",
    "$$\n",
    "    \\widehat{u}_k = \n",
    "    \\begin{cases}\n",
    "        \\frac{{\\widehat f}_k}{|k|^2+1}, & |k| \\leq N, \\\\ \n",
    "        0, & |k| > N\n",
    "    \\end{cases}\n",
    "$$"
   ]
  },
  {
   "cell_type": "code",
   "execution_count": null,
   "metadata": {},
   "outputs": [],
   "source": [
    "# first an example when the Fourier spectral method is exact \n",
    "# ------------------------------------------------------------\n",
    "# grid(s)\n",
    "N = 8   \n",
    "X = xgrid(N)\n",
    "K = kgrid(N)\n",
    "# choose a right-hand side \n",
    "f = x -> cos(x) + 0.2 * sin(3*x)\n",
    "# multiplier for derivative operator\n",
    "D̂ = - im * K\n",
    "# solve the BVP in Fourier space\n",
    "û = fouriercoeffs(f, N) ./ (-D̂.^2 .+ 1.0)\n",
    "\n",
    "# output solution\n",
    "xp = range(-π, stop=π, length=200)\n",
    "u = eval_trig(û, xp)\n",
    "u_ex = cos.(xp) / 2 + 0.2 * sin.(3*xp) / 10\n",
    "plot(xp, [u_ex, u], \n",
    "     label=[\"u\", \"uN\"], \n",
    "     title = \"error = $(norm(u-u_ex, Inf))\")"
   ]
  },
  {
   "cell_type": "code",
   "execution_count": null,
   "metadata": {},
   "outputs": [],
   "source": [
    "# choose a solution and compute the resultant f \n",
    "# ----------------------------------------------\n",
    "using Calculus\n",
    "ufun = x -> 1 / (1 + 3*sin(x)^2)\n",
    "ffun = x -> ufun(x) - second_derivative(ufun, x)\n",
    "\n",
    "# grid(s)\n",
    "N = 10\n",
    "K = kgrid(N)\n",
    "# multiplier for derivative operator\n",
    "D̂ = - im * K\n",
    "# solve the BVP in Fourier space\n",
    "ûN = fouriercoeffs(ffun, N) ./ (-D̂.^2 .+ 1.0)\n",
    "\n",
    "# output solution\n",
    "xp = range(-π, stop=π, length=200)\n",
    "uN = eval_trig(ûN, xp)\n",
    "usoln = ufun.(xp)\n",
    "plot(xp, [usoln, uN], \n",
    "     label=[\"u\", \"uN\"], \n",
    "     title = \"error = $(norm(usoln-uN, Inf))\")"
   ]
  },
  {
   "cell_type": "code",
   "execution_count": null,
   "metadata": {},
   "outputs": [],
   "source": [
    "# and to close this off, a simple convergence test...\n",
    "function bvp_err(N; nquad = 200)\n",
    "    ûN = fouriercoeffs(ffun, N) ./ (kgrid(N).^2 .+ 1.0)\n",
    "    xp = range(-π, stop=π, length=nquad) \n",
    "    return norm(ufun.(xp) - eval_trig(ûN, xp), Inf)\n",
    "end \n",
    "\n",
    "NN = 4:4:50\n",
    "errs = bvp_err.(NN)\n",
    "plot(NN, errs, lw=2, m=:o, ms=5, xaxis = (\"N\",), \n",
    "       yaxis=(:log, L\"\\|u - u_N\\|_{L^\\infty}\"),\n",
    "      label=\"\", title = \"Convergence Spectral Method\")"
   ]
  },
  {
   "cell_type": "markdown",
   "metadata": {},
   "source": [
    "### 2.5.2 Variable Coefficient Transport Equation\n",
    "\n",
    "This example is adapted from [L.N. Trefethen, Spectral Methods in Matlab, Program 5]:\n",
    "$$\n",
    "u_t + c(x) u_x = 0, \\qquad c(x) = \\frac15 + \\sin^2(x-1)\n",
    "$$\n",
    "supplied again with PBCs. Here, $u = u(t, x)$. We first discretize in time using the Leapfrog scheme, \n",
    "$$\n",
    "    \\frac{v^{(n+1)} - v^{(n-1)}}{2\\Delta t} = - c(x) (v^{(n)})_x\n",
    "$$\n",
    "and then in space with a Fourier spectral method, by writing $v \\in \n",
    "\\mathcal{T}_N$.\n",
    "\n",
    "The interesting aspect of this scheme is that the multiplication operation $f \\mapsto c f$ is best performed in real space, while the differentiation operation $f \\mapsto f_x$ is best performed in reciprocal space. This gives the following algorithm."
   ]
  },
  {
   "cell_type": "code",
   "execution_count": null,
   "metadata": {},
   "outputs": [],
   "source": [
    "function plot_soln(t, X, v, c)\n",
    "    P = plot( xaxis = ([0, 2*π], ), yaxis = ([0.0, 1.5],) )\n",
    "    plot!(X, c, lw=1, c=:black, label = \"c\")\n",
    "    plot!(X, v, lw=3, label = \"v\")\n",
    "    return P\n",
    "end"
   ]
  },
  {
   "cell_type": "code",
   "execution_count": null,
   "metadata": {},
   "outputs": [],
   "source": [
    "# grid \n",
    "N = 256 \n",
    "X = xgrid(N)\n",
    "K = kgrid(N)\n",
    "t = 0.0\n",
    "dt = π/(4N)\n",
    "tmax = 16.0\n",
    "\n",
    "# transport coefficient\n",
    "C = 0.2 .+ sin.(X .- 1).^2\n",
    "# initial condition, we also need one addition v in the past\n",
    "V = exp.(-100*(X.-1).^2)\n",
    "Vold = exp.(-100*(X .- 1 .- 0.2*dt).^2)\n",
    "# differentiation operator \n",
    "D̂ = im*K\n",
    "\n",
    "# time-stepping loop\n",
    "anim = Animation()\n",
    "for _ = 1:ceil(tmax/dt)/20\n",
    "    for __=1:20\n",
    "        t += dt \n",
    "        # differentiation in reciprocal space\n",
    "        W = real.( ifft( D̂ .* fft(V) ) )   \n",
    "        # multiplication and update in real space\n",
    "        Vnew = Vold - 2 * dt * C .* W \n",
    "        Vold = V\n",
    "        V = Vnew \n",
    "    end\n",
    "    frame(anim, plot_soln(t, X, V, C))\n",
    "end\n",
    "gif(anim, fps=15)"
   ]
  },
  {
   "cell_type": "markdown",
   "metadata": {},
   "source": [
    "### 2.5.4 Filtering a Signal\n",
    "\n",
    "Suppose that we have a (periodic) signal $f(x)$ which we obtain with noise $g(x) = f(x) + \\eta(x)$. Can we recover the original signal? The idea is that we *assume* that $f(x)$ is smooth, that is, it has rapid decay of fourier coefficients, while the noise $\\eta(x)$ is rough, i.e. its Fourier coefficients do not decay. \n",
    "\n",
    "Let us use a simple example to demonstrate this: \n",
    "$$\n",
    "  f(x) = \\sin(2x) + \\cos(4x)\n",
    "$$"
   ]
  },
  {
   "cell_type": "code",
   "execution_count": null,
   "metadata": {},
   "outputs": [],
   "source": [
    "\n",
    "f(x) = sin(2*x) + cos(4*x) # the original signal \n",
    "C = 0.5                    # the magnitude of the noise \n",
    "N = 100                    # number of samples\n",
    "# we generate noisy samples\n",
    "X = xgrid(N)\n",
    "F = f.(X) + C * randn(length(X))\n",
    "# Look at the fourier coefficients \n",
    "F̂ = fft(F)\n",
    "plot( plot(X, F, title = \"time domain\"), \n",
    "      plot(1:2*N, abs.(F̂), title = \"frequency domain\"), \n",
    "      layout = (2,1) )"
   ]
  },
  {
   "cell_type": "code",
   "execution_count": null,
   "metadata": {},
   "outputs": [],
   "source": [
    "# we can \"filter\" the signal by simply removing the small fourier components. \n",
    "Ĝ = copy(F̂)\n",
    "small = findall(abs.(Ĝ) .< 20)\n",
    "Ĝ[small] .= 0.0\n",
    "G = real.(ifft(Ĝ))\n",
    "plot(X, F, lw=1, label = \"noisy\")\n",
    "plot!(X, [f.(X), G], lw = 3, label = [\"original\", \"recovered\"])"
   ]
  }
 ],
 "metadata": {
  "kernelspec": {
   "display_name": "Julia 1.0.3",
   "language": "julia",
   "name": "julia-1.0"
  },
  "language_info": {
   "file_extension": ".jl",
   "mimetype": "application/julia",
   "name": "julia",
   "version": "1.0.3"
  }
 },
 "nbformat": 4,
 "nbformat_minor": 2
}
