{
 "cells": [
  {
   "cell_type": "markdown",
   "metadata": {},
   "source": [
    "# MA3J8 Approximation Theory and Applications \n",
    "\n",
    "## 03 - Algebraic Polynomials\n",
    "\n",
    "\n"
   ]
  },
  {
   "cell_type": "code",
   "execution_count": null,
   "metadata": {},
   "outputs": [],
   "source": [
    "using SoftGlobalScope, LinearAlgebra, LaTeXStrings, Plots\n",
    "gr();"
   ]
  },
  {
   "cell_type": "markdown",
   "metadata": {},
   "source": [
    "### 03-1 - Runge's Phenomenon\n",
    "\n",
    "We consider the function $f : [-1, 1] \\to \\mathbb{R}$, \n",
    "$$\n",
    "   f(x) = \\frac{1}{1 + 25 x^2}\n",
    "$$\n",
    "Note that $f$ is analytic on $[-1,1]$, hence from our work on trigonometric approximation we expect excellent approximation properties. We choose a uniform grid, \n",
    "$$\n",
    "  x_j = -1 + 2j/N, \\qquad j = 0, \\dots, N\n",
    "$$\n",
    "and interpolate $f$ at those grid points. "
   ]
  },
  {
   "cell_type": "code",
   "execution_count": null,
   "metadata": {},
   "outputs": [],
   "source": [
    "using Polynomials\n",
    "f(x) = 1 / (1 + 25 * x^2)\n",
    "N = 10\n",
    "X = range(-1, stop=1, length=N)\n",
    "p = polyfit(X, f.(X))\n",
    "xp = range(-1, stop=1, length=200)\n",
    "plot(xp, f.(xp), lw=2, label = \"f\")\n",
    "plot!(xp, p.(xp), lw=2, label = \"p$N\")\n",
    "plot!(X, f.(X), lw=0, m=:o, ms=6, c=2, label = \"\")"
   ]
  },
  {
   "cell_type": "markdown",
   "metadata": {},
   "source": [
    "this does not look great. Maybe we just aren't using enough points?"
   ]
  },
  {
   "cell_type": "code",
   "execution_count": null,
   "metadata": {},
   "outputs": [],
   "source": [
    "xp = range(-1, stop=1, length=400)\n",
    "P = plot(xp, f.(xp), lw=2, label = \"f\")\n",
    "for N in [10, 20, 30]\n",
    "    X = range(-1, stop=1, length=N)\n",
    "    p = polyfit(X, f.(X))\n",
    "    plot!(P, xp, p.(xp), lw=2, label = \"p$N\")\n",
    "end \n",
    "P"
   ]
  },
  {
   "cell_type": "markdown",
   "metadata": {},
   "source": [
    "Clearly, the approximations **diverge**. This is called the Runge phenomenon. It is by no means an indicator that polynomials are poor basis functions for approximation. For example, let us use a least-squares fit w.r.t. exact function values on a fine grid. "
   ]
  },
  {
   "cell_type": "code",
   "execution_count": null,
   "metadata": {},
   "outputs": [],
   "source": [
    "xp = range(-1, stop=1, length=400)\n",
    "P = plot(xp, f.(xp), lw=2, label = \"f\")\n",
    "err = []\n",
    "NN = [10, 20, 30, 40]\n",
    "for N in NN\n",
    "    X = range(-1, stop=1, length=N)\n",
    "    p = polyfit(xp, f.(xp), N)\n",
    "    plot!(P, xp, p.(xp), lw=2, label = \"p$N\")\n",
    "    push!(err, norm(f.(xp) - p.(xp), Inf))\n",
    "end \n",
    "plot(P, plot(NN, err, lw=2, m=:o, yaxis = (:log,), label = \"\"), layout = (1,2))"
   ]
  },
  {
   "cell_type": "markdown",
   "metadata": {},
   "source": [
    "We have recovered what looks like exponential convergence! Clearly there is something we need to understand."
   ]
  },
  {
   "cell_type": "code",
   "execution_count": null,
   "metadata": {},
   "outputs": [],
   "source": []
  },
  {
   "cell_type": "markdown",
   "metadata": {},
   "source": [
    "### 03-2 Interpolation on Chebyshev Points\n",
    "\n",
    "In the lecture notes we have motivated the Chebyshev interpolation nodes \n",
    "$$\n",
    "  x_j = \\cos(\\pi j/ N)\n",
    "$$\n",
    "We can now check whether they fix the problem we had with equispaced nodes."
   ]
  },
  {
   "cell_type": "code",
   "execution_count": null,
   "metadata": {},
   "outputs": [],
   "source": [
    "chebnodes(N) = [ cos(j*π/N) for j = N:-1:0 ]"
   ]
  },
  {
   "cell_type": "code",
   "execution_count": null,
   "metadata": {},
   "outputs": [],
   "source": [
    "xp = range(-1, stop=1, length=400)\n",
    "P = plot(xp, f.(xp), lw=2, label = \"f\")\n",
    "NN = [10, 20, 30, 40]\n",
    "errcheb = []\n",
    "errfit = [] \n",
    "for N in NN\n",
    "    X = chebnodes(N)\n",
    "    pcheb = polyfit(X, f.(X))\n",
    "    plot!(P, xp, pcheb.(xp), lw=2, label = \"p$N\")\n",
    "    pfit = polyfit(xp, f.(xp), N)\n",
    "    push!(errcheb, norm(f.(xp) - pcheb.(xp), Inf))\n",
    "    push!(errfit, norm(f.(xp) - pfit.(xp), Inf))    \n",
    "end \n",
    "plot(P, \n",
    "     plot(NN, [errfit, errcheb], lw=2, m=:o, \n",
    "          label = [\"fit\", \"cheb\"], yaxis = (:log,)), \n",
    "     layout = (1,2))"
   ]
  },
  {
   "cell_type": "markdown",
   "metadata": {},
   "source": [
    "This is excellent news. We will start from here and explore this in a lot more detail.\n",
    "\n",
    "Next, we observe another problem: evaluating the Chebyshev interpolant is numerically unstable! (At least how it is implemented in the `Polynomials.jl` package. We will return to this later."
   ]
  },
  {
   "cell_type": "code",
   "execution_count": null,
   "metadata": {},
   "outputs": [],
   "source": [
    "NN = 10:4:80\n",
    "errcheb = []\n",
    "for N in NN\n",
    "    X = chebnodes(N)\n",
    "    pcheb = polyfit(X, f.(X))\n",
    "    push!(errcheb, norm(f.(xp) - pcheb.(xp), Inf))\n",
    "end \n",
    "plot(NN, errcheb, lw=2, m=:o,  label = \"\", yaxis = (:log,))"
   ]
  },
  {
   "cell_type": "code",
   "execution_count": null,
   "metadata": {},
   "outputs": [],
   "source": [
    "using ApproxFun"
   ]
  },
  {
   "cell_type": "code",
   "execution_count": null,
   "metadata": {},
   "outputs": [],
   "source": [
    "S = Chebyshev(-1..1)"
   ]
  },
  {
   "cell_type": "code",
   "execution_count": null,
   "metadata": {},
   "outputs": [],
   "source": [
    "p = points(S,10)"
   ]
  },
  {
   "cell_type": "code",
   "execution_count": null,
   "metadata": {},
   "outputs": [],
   "source": [
    "NN = 10:4:80\n",
    "errcheb = []\n",
    "for N in NN\n",
    "    X = points(Chebyshev(-1..1), N)\n",
    "    pcheb = polyfit(X, f.(X))\n",
    "    push!(errcheb, norm(f.(xp) - pcheb.(xp), Inf))\n",
    "end \n",
    "plot(NN, errcheb, lw=2, m=:o,  label = \"\", yaxis = (:log,))"
   ]
  },
  {
   "cell_type": "code",
   "execution_count": null,
   "metadata": {},
   "outputs": [],
   "source": []
  },
  {
   "cell_type": "code",
   "execution_count": null,
   "metadata": {},
   "outputs": [],
   "source": [
    "function bary(f, N, x)\n",
    "    X = chebnodes(N)\n",
    "    F = f.(X)\n",
    "    p = 0.5 * (F[1] ./ (x .- X[1]) + (-1)^N * F[N+1] ./(x .- X[N+1]))\n",
    "    q = 0.5 * (1.0 ./ (x .- X[1]) + (-1)^N ./ (x .- X[N+1]))\n",
    "    for n = 0:N\n",
    "        p += (-1)^n * F[n+1] ./ (x .- X[n+1])\n",
    "        q += (-1)^n ./ (x .- X[n+1])\n",
    "    end \n",
    "    return p ./ q    \n",
    "end"
   ]
  },
  {
   "cell_type": "code",
   "execution_count": null,
   "metadata": {},
   "outputs": [],
   "source": [
    "f(x) = sqrt(abs(x))\n",
    "xp = range(-1+0.0123, stop=1-0.00321, length=4000)\n",
    "NN = [4, 8, 16, 32, 64, 128, 256, 512, 1024, 2048]\n",
    "errcheb = []\n",
    "# errfit = [] \n",
    "for N in NN\n",
    "    pcheb = bary(f, N, xp)\n",
    "    push!(errcheb, norm(f.(xp) - pcheb, Inf))\n",
    "end \n",
    "\n",
    "plot(NN, [errcheb, NN.^(-1/2)], lw=2, m=:o, \n",
    "    label=[\"err\", \"N^-1/2\"], xaxis = (:log,), yaxis = (:log,))"
   ]
  },
  {
   "cell_type": "code",
   "execution_count": null,
   "metadata": {},
   "outputs": [],
   "source": []
  }
 ],
 "metadata": {
  "kernelspec": {
   "display_name": "Julia 1.0.3",
   "language": "julia",
   "name": "julia-1.0"
  },
  "language_info": {
   "file_extension": ".jl",
   "mimetype": "application/julia",
   "name": "julia",
   "version": "1.0.3"
  }
 },
 "nbformat": 4,
 "nbformat_minor": 2
}
